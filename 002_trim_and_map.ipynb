{
 "cells": [
  {
   "cell_type": "markdown",
   "metadata": {},
   "source": [
    "this notebook best viewed here: https://nbviewer.jupyter.org/github.com/brandonlind/BURT/002_trim_and_map.ipynb"
   ]
  },
  {
   "cell_type": "markdown",
   "metadata": {},
   "source": [
    " "
   ]
  },
  {
   "cell_type": "markdown",
   "metadata": {},
   "source": [
    " "
   ]
  },
  {
   "cell_type": "code",
   "execution_count": 1,
   "metadata": {},
   "outputs": [],
   "source": [
    "from pythonimports import *"
   ]
  },
  {
   "cell_type": "code",
   "execution_count": 2,
   "metadata": {},
   "outputs": [
    {
     "data": {
      "text/plain": [
       "'/gpfs_fs/home/eckertlab/BURT'"
      ]
     },
     "execution_count": 2,
     "metadata": {},
     "output_type": "execute_result"
    }
   ],
   "source": [
    "DIR = op.realpath('/home/lindb/eckertlab/BURT')\n",
    "DIR"
   ]
  },
  {
   "cell_type": "code",
   "execution_count": 3,
   "metadata": {},
   "outputs": [],
   "source": [
    "tandmdir = makedir(op.join(DIR, '002_trim_and_map'))"
   ]
  },
  {
   "cell_type": "markdown",
   "metadata": {},
   "source": [
    "# trim and map to de novo assembly\n",
    "\n",
    "- dDocent was used to create an de novo assembly from trimmed reads\n",
    "- dDocent documentation refers to trimmomatic, but uses fastp. So I'll re-trim and map. I can also handle read groups during mapping this way, dDocent does not account for different read groups across samples."
   ]
  },
  {
   "cell_type": "markdown",
   "metadata": {},
   "source": [
    "#### create datatable.txt\n",
    "\n",
    "- datatable.txt is used as input to start the varscan_pipeline - github.com/brandonlind/varscan_pipeline\n",
    "- I am using the first few steps of this pipeline to trim and map __only__\n",
    "- I've updated the pipeline to handle SGE scheduler (it was slurm-only before)"
   ]
  },
  {
   "cell_type": "code",
   "execution_count": 4,
   "metadata": {},
   "outputs": [
    {
     "data": {
      "text/html": [
       "<div>\n",
       "<style scoped>\n",
       "    .dataframe tbody tr th:only-of-type {\n",
       "        vertical-align: middle;\n",
       "    }\n",
       "\n",
       "    .dataframe tbody tr th {\n",
       "        vertical-align: top;\n",
       "    }\n",
       "\n",
       "    .dataframe thead th {\n",
       "        text-align: right;\n",
       "    }\n",
       "</style>\n",
       "<table border=\"1\" class=\"dataframe\">\n",
       "  <thead>\n",
       "    <tr style=\"text-align: right;\">\n",
       "      <th></th>\n",
       "      <th>fastq</th>\n",
       "      <th>sample_name</th>\n",
       "      <th>species</th>\n",
       "      <th>state</th>\n",
       "      <th>ind</th>\n",
       "      <th>popn</th>\n",
       "      <th>spp_popn</th>\n",
       "      <th>run</th>\n",
       "      <th>lib</th>\n",
       "      <th>seq_center</th>\n",
       "      <th>md5</th>\n",
       "      <th>RGPL</th>\n",
       "      <th>RGSM</th>\n",
       "      <th>RGLB</th>\n",
       "      <th>RGID</th>\n",
       "      <th>flowcell_lane</th>\n",
       "      <th>RGPU</th>\n",
       "      <th>num_reads</th>\n",
       "    </tr>\n",
       "  </thead>\n",
       "  <tbody>\n",
       "    <tr>\n",
       "      <th>0</th>\n",
       "      <td>/home/cfriedline/eckertlab/projects/burt/seq/1...</td>\n",
       "      <td>T-AR-2-7</td>\n",
       "      <td>T</td>\n",
       "      <td>AR</td>\n",
       "      <td>7</td>\n",
       "      <td>T-AR-2</td>\n",
       "      <td>AR-2</td>\n",
       "      <td>160520</td>\n",
       "      <td>Burt0</td>\n",
       "      <td>NARF</td>\n",
       "      <td>1ae81d40ba5b1497e7ba9f5733c494b4</td>\n",
       "      <td>ILLUMINA</td>\n",
       "      <td>T-AR-2-7</td>\n",
       "      <td>Burt0</td>\n",
       "      <td>T-AR-2-7.160520.Burt0</td>\n",
       "      <td>C7WRGACXX.1</td>\n",
       "      <td>C7WRGACXX.1.T-AR-2-7</td>\n",
       "      <td>1277586</td>\n",
       "    </tr>\n",
       "    <tr>\n",
       "      <th>1</th>\n",
       "      <td>/home/cfriedline/eckertlab/projects/burt/seq/1...</td>\n",
       "      <td>T-TX-1-19</td>\n",
       "      <td>T</td>\n",
       "      <td>TX</td>\n",
       "      <td>19</td>\n",
       "      <td>T-TX-1</td>\n",
       "      <td>TX-1</td>\n",
       "      <td>160520</td>\n",
       "      <td>Burt0</td>\n",
       "      <td>NARF</td>\n",
       "      <td>eb991e8800c31b632dfc0f4279e9e44a</td>\n",
       "      <td>ILLUMINA</td>\n",
       "      <td>T-TX-1-19</td>\n",
       "      <td>Burt0</td>\n",
       "      <td>T-TX-1-19.160520.Burt0</td>\n",
       "      <td>C7WRGACXX.1</td>\n",
       "      <td>C7WRGACXX.1.T-TX-1-19</td>\n",
       "      <td>2798860</td>\n",
       "    </tr>\n",
       "    <tr>\n",
       "      <th>2</th>\n",
       "      <td>/home/cfriedline/eckertlab/projects/burt/seq/1...</td>\n",
       "      <td>G-SC-1-3</td>\n",
       "      <td>G</td>\n",
       "      <td>SC</td>\n",
       "      <td>3</td>\n",
       "      <td>G-SC-1</td>\n",
       "      <td>SC-1</td>\n",
       "      <td>160520</td>\n",
       "      <td>Burt0</td>\n",
       "      <td>NARF</td>\n",
       "      <td>e5cf36460b50c6467a49f4b157bb16c1</td>\n",
       "      <td>ILLUMINA</td>\n",
       "      <td>G-SC-1-3</td>\n",
       "      <td>Burt0</td>\n",
       "      <td>G-SC-1-3.160520.Burt0</td>\n",
       "      <td>C7WRGACXX.1</td>\n",
       "      <td>C7WRGACXX.1.G-SC-1-3</td>\n",
       "      <td>2312577</td>\n",
       "    </tr>\n",
       "    <tr>\n",
       "      <th>3</th>\n",
       "      <td>/home/cfriedline/eckertlab/projects/burt/seq/1...</td>\n",
       "      <td>P-LA-2-10</td>\n",
       "      <td>P</td>\n",
       "      <td>LA</td>\n",
       "      <td>10</td>\n",
       "      <td>P-LA-2</td>\n",
       "      <td>LA-2</td>\n",
       "      <td>160520</td>\n",
       "      <td>Burt0</td>\n",
       "      <td>NARF</td>\n",
       "      <td>a1fab3ce615d708f53eb836f13fbba7c</td>\n",
       "      <td>ILLUMINA</td>\n",
       "      <td>P-LA-2-10</td>\n",
       "      <td>Burt0</td>\n",
       "      <td>P-LA-2-10.160520.Burt0</td>\n",
       "      <td>C7WRGACXX.1</td>\n",
       "      <td>C7WRGACXX.1.P-LA-2-10</td>\n",
       "      <td>1583884</td>\n",
       "    </tr>\n",
       "    <tr>\n",
       "      <th>4</th>\n",
       "      <td>/home/cfriedline/eckertlab/projects/burt/seq/1...</td>\n",
       "      <td>T-AL-1-2</td>\n",
       "      <td>T</td>\n",
       "      <td>AL</td>\n",
       "      <td>2</td>\n",
       "      <td>T-AL-1</td>\n",
       "      <td>AL-1</td>\n",
       "      <td>160520</td>\n",
       "      <td>Burt0</td>\n",
       "      <td>NARF</td>\n",
       "      <td>16efa4d02874e6f5cf747e40bdbfb0dd</td>\n",
       "      <td>ILLUMINA</td>\n",
       "      <td>T-AL-1-2</td>\n",
       "      <td>Burt0</td>\n",
       "      <td>T-AL-1-2.160520.Burt0</td>\n",
       "      <td>C7WRGACXX.1</td>\n",
       "      <td>C7WRGACXX.1.T-AL-1-2</td>\n",
       "      <td>1321261</td>\n",
       "    </tr>\n",
       "  </tbody>\n",
       "</table>\n",
       "</div>"
      ],
      "text/plain": [
       "                                               fastq sample_name species  \\\n",
       "0  /home/cfriedline/eckertlab/projects/burt/seq/1...    T-AR-2-7       T   \n",
       "1  /home/cfriedline/eckertlab/projects/burt/seq/1...   T-TX-1-19       T   \n",
       "2  /home/cfriedline/eckertlab/projects/burt/seq/1...    G-SC-1-3       G   \n",
       "3  /home/cfriedline/eckertlab/projects/burt/seq/1...   P-LA-2-10       P   \n",
       "4  /home/cfriedline/eckertlab/projects/burt/seq/1...    T-AL-1-2       T   \n",
       "\n",
       "  state  ind    popn spp_popn     run    lib seq_center  \\\n",
       "0    AR    7  T-AR-2     AR-2  160520  Burt0       NARF   \n",
       "1    TX   19  T-TX-1     TX-1  160520  Burt0       NARF   \n",
       "2    SC    3  G-SC-1     SC-1  160520  Burt0       NARF   \n",
       "3    LA   10  P-LA-2     LA-2  160520  Burt0       NARF   \n",
       "4    AL    2  T-AL-1     AL-1  160520  Burt0       NARF   \n",
       "\n",
       "                                md5      RGPL       RGSM   RGLB  \\\n",
       "0  1ae81d40ba5b1497e7ba9f5733c494b4  ILLUMINA   T-AR-2-7  Burt0   \n",
       "1  eb991e8800c31b632dfc0f4279e9e44a  ILLUMINA  T-TX-1-19  Burt0   \n",
       "2  e5cf36460b50c6467a49f4b157bb16c1  ILLUMINA   G-SC-1-3  Burt0   \n",
       "3  a1fab3ce615d708f53eb836f13fbba7c  ILLUMINA  P-LA-2-10  Burt0   \n",
       "4  16efa4d02874e6f5cf747e40bdbfb0dd  ILLUMINA   T-AL-1-2  Burt0   \n",
       "\n",
       "                     RGID flowcell_lane                   RGPU  num_reads  \n",
       "0   T-AR-2-7.160520.Burt0   C7WRGACXX.1   C7WRGACXX.1.T-AR-2-7    1277586  \n",
       "1  T-TX-1-19.160520.Burt0   C7WRGACXX.1  C7WRGACXX.1.T-TX-1-19    2798860  \n",
       "2   G-SC-1-3.160520.Burt0   C7WRGACXX.1   C7WRGACXX.1.G-SC-1-3    2312577  \n",
       "3  P-LA-2-10.160520.Burt0   C7WRGACXX.1  C7WRGACXX.1.P-LA-2-10    1583884  \n",
       "4   T-AL-1-2.160520.Burt0   C7WRGACXX.1   C7WRGACXX.1.T-AL-1-2    1321261  "
      ]
     },
     "execution_count": 4,
     "metadata": {},
     "output_type": "execute_result"
    }
   ],
   "source": [
    "fqs = pd.read_table('/gpfs_fs/home/eckertlab/BURT/seq/burt_fastq_data.txt')\n",
    "fqs.head()"
   ]
  },
  {
   "cell_type": "code",
   "execution_count": 10,
   "metadata": {},
   "outputs": [
    {
     "data": {
      "text/plain": [
       "(1709, 1709)"
      ]
     },
     "execution_count": 10,
     "metadata": {},
     "output_type": "execute_result"
    }
   ],
   "source": [
    "# get unique basenames names for all fastqs\n",
    "bcounts = Counter()\n",
    "bnames = {}\n",
    "for fastq in fqs['fastq']:\n",
    "    bname = op.basename(fastq).replace(\".R1.fastq.gz\", \"_R1.fastq.gz\")\n",
    "    bcounts[bname] += 1\n",
    "    if not bname in list(bnames.values()):\n",
    "        bnames[fastq] = bname\n",
    "    else:\n",
    "        bname = bname.replace(\".fastq.gz\", \"_%s.fastq.gz\" % bcounts[bname])\n",
    "    bnames[fastq] = bname\n",
    "len(bnames), luni(bnames.values())"
   ]
  },
  {
   "cell_type": "code",
   "execution_count": 12,
   "metadata": {},
   "outputs": [
    {
     "data": {
      "text/plain": [
       "'T-LA-3-12_R1.fastq.gz'"
      ]
     },
     "execution_count": 12,
     "metadata": {},
     "output_type": "execute_result"
    }
   ],
   "source": [
    "bnames[fastq]"
   ]
  },
  {
   "cell_type": "code",
   "execution_count": 13,
   "metadata": {},
   "outputs": [
    {
     "data": {
      "text/html": [
       "<div>\n",
       "<style scoped>\n",
       "    .dataframe tbody tr th:only-of-type {\n",
       "        vertical-align: middle;\n",
       "    }\n",
       "\n",
       "    .dataframe tbody tr th {\n",
       "        vertical-align: top;\n",
       "    }\n",
       "\n",
       "    .dataframe thead th {\n",
       "        text-align: right;\n",
       "    }\n",
       "</style>\n",
       "<table border=\"1\" class=\"dataframe\">\n",
       "  <thead>\n",
       "    <tr style=\"text-align: right;\">\n",
       "      <th></th>\n",
       "      <th>sample_name</th>\n",
       "      <th>library_name</th>\n",
       "      <th>pool_name</th>\n",
       "      <th>ploidy</th>\n",
       "      <th>file_name_r1</th>\n",
       "      <th>file_name_r2</th>\n",
       "      <th>adaptor_1</th>\n",
       "      <th>adaptor_2</th>\n",
       "      <th>ref</th>\n",
       "      <th>rgid</th>\n",
       "      <th>rglb</th>\n",
       "      <th>rgpl</th>\n",
       "      <th>rgpu</th>\n",
       "      <th>rgsm</th>\n",
       "    </tr>\n",
       "  </thead>\n",
       "  <tbody>\n",
       "  </tbody>\n",
       "</table>\n",
       "</div>"
      ],
      "text/plain": [
       "Empty DataFrame\n",
       "Columns: [sample_name, library_name, pool_name, ploidy, file_name_r1, file_name_r2, adaptor_1, adaptor_2, ref, rgid, rglb, rgpl, rgpu, rgsm]\n",
       "Index: []"
      ]
     },
     "metadata": {},
     "output_type": "display_data"
    },
    {
     "name": "stderr",
     "output_type": "stream",
     "text": [
      "100%|██████████| 1709/1709 [00:22<00:00, 77.33it/s]\n"
     ]
    },
    {
     "data": {
      "text/html": [
       "<div>\n",
       "<style scoped>\n",
       "    .dataframe tbody tr th:only-of-type {\n",
       "        vertical-align: middle;\n",
       "    }\n",
       "\n",
       "    .dataframe tbody tr th {\n",
       "        vertical-align: top;\n",
       "    }\n",
       "\n",
       "    .dataframe thead th {\n",
       "        text-align: right;\n",
       "    }\n",
       "</style>\n",
       "<table border=\"1\" class=\"dataframe\">\n",
       "  <thead>\n",
       "    <tr style=\"text-align: right;\">\n",
       "      <th></th>\n",
       "      <th>sample_name</th>\n",
       "      <th>library_name</th>\n",
       "      <th>pool_name</th>\n",
       "      <th>ploidy</th>\n",
       "      <th>file_name_r1</th>\n",
       "      <th>file_name_r2</th>\n",
       "      <th>adaptor_1</th>\n",
       "      <th>adaptor_2</th>\n",
       "      <th>ref</th>\n",
       "      <th>rgid</th>\n",
       "      <th>rglb</th>\n",
       "      <th>rgpl</th>\n",
       "      <th>rgpu</th>\n",
       "      <th>rgsm</th>\n",
       "    </tr>\n",
       "  </thead>\n",
       "  <tbody>\n",
       "    <tr>\n",
       "      <th>0</th>\n",
       "      <td>T-AR-2-7</td>\n",
       "      <td>Burt0</td>\n",
       "      <td>BURT</td>\n",
       "      <td>2</td>\n",
       "      <td>T-AR-2-7_R1.fastq.gz</td>\n",
       "      <td>NaN</td>\n",
       "      <td>NaN</td>\n",
       "      <td>NaN</td>\n",
       "      <td>/home/lindb/eckertlab/BURT/dDocent_denovo_asse...</td>\n",
       "      <td>T-AR-2-7.160520.Burt0</td>\n",
       "      <td>Burt0</td>\n",
       "      <td>ILLUMINA</td>\n",
       "      <td>C7WRGACXX.1.T-AR-2-7</td>\n",
       "      <td>T-AR-2-7</td>\n",
       "    </tr>\n",
       "    <tr>\n",
       "      <th>1</th>\n",
       "      <td>T-TX-1-19</td>\n",
       "      <td>Burt0</td>\n",
       "      <td>BURT</td>\n",
       "      <td>2</td>\n",
       "      <td>T-TX-1-19_R1.fastq.gz</td>\n",
       "      <td>NaN</td>\n",
       "      <td>NaN</td>\n",
       "      <td>NaN</td>\n",
       "      <td>/home/lindb/eckertlab/BURT/dDocent_denovo_asse...</td>\n",
       "      <td>T-TX-1-19.160520.Burt0</td>\n",
       "      <td>Burt0</td>\n",
       "      <td>ILLUMINA</td>\n",
       "      <td>C7WRGACXX.1.T-TX-1-19</td>\n",
       "      <td>T-TX-1-19</td>\n",
       "    </tr>\n",
       "    <tr>\n",
       "      <th>2</th>\n",
       "      <td>G-SC-1-3</td>\n",
       "      <td>Burt0</td>\n",
       "      <td>BURT</td>\n",
       "      <td>2</td>\n",
       "      <td>G-SC-1-3_R1.fastq.gz</td>\n",
       "      <td>NaN</td>\n",
       "      <td>NaN</td>\n",
       "      <td>NaN</td>\n",
       "      <td>/home/lindb/eckertlab/BURT/dDocent_denovo_asse...</td>\n",
       "      <td>G-SC-1-3.160520.Burt0</td>\n",
       "      <td>Burt0</td>\n",
       "      <td>ILLUMINA</td>\n",
       "      <td>C7WRGACXX.1.G-SC-1-3</td>\n",
       "      <td>G-SC-1-3</td>\n",
       "    </tr>\n",
       "    <tr>\n",
       "      <th>3</th>\n",
       "      <td>P-LA-2-10</td>\n",
       "      <td>Burt0</td>\n",
       "      <td>BURT</td>\n",
       "      <td>2</td>\n",
       "      <td>P-LA-2-10_R1.fastq.gz</td>\n",
       "      <td>NaN</td>\n",
       "      <td>NaN</td>\n",
       "      <td>NaN</td>\n",
       "      <td>/home/lindb/eckertlab/BURT/dDocent_denovo_asse...</td>\n",
       "      <td>P-LA-2-10.160520.Burt0</td>\n",
       "      <td>Burt0</td>\n",
       "      <td>ILLUMINA</td>\n",
       "      <td>C7WRGACXX.1.P-LA-2-10</td>\n",
       "      <td>P-LA-2-10</td>\n",
       "    </tr>\n",
       "    <tr>\n",
       "      <th>4</th>\n",
       "      <td>T-AL-1-2</td>\n",
       "      <td>Burt0</td>\n",
       "      <td>BURT</td>\n",
       "      <td>2</td>\n",
       "      <td>T-AL-1-2_R1.fastq.gz</td>\n",
       "      <td>NaN</td>\n",
       "      <td>NaN</td>\n",
       "      <td>NaN</td>\n",
       "      <td>/home/lindb/eckertlab/BURT/dDocent_denovo_asse...</td>\n",
       "      <td>T-AL-1-2.160520.Burt0</td>\n",
       "      <td>Burt0</td>\n",
       "      <td>ILLUMINA</td>\n",
       "      <td>C7WRGACXX.1.T-AL-1-2</td>\n",
       "      <td>T-AL-1-2</td>\n",
       "    </tr>\n",
       "  </tbody>\n",
       "</table>\n",
       "</div>"
      ],
      "text/plain": [
       "  sample_name library_name pool_name  ploidy           file_name_r1  \\\n",
       "0    T-AR-2-7        Burt0      BURT       2   T-AR-2-7_R1.fastq.gz   \n",
       "1   T-TX-1-19        Burt0      BURT       2  T-TX-1-19_R1.fastq.gz   \n",
       "2    G-SC-1-3        Burt0      BURT       2   G-SC-1-3_R1.fastq.gz   \n",
       "3   P-LA-2-10        Burt0      BURT       2  P-LA-2-10_R1.fastq.gz   \n",
       "4    T-AL-1-2        Burt0      BURT       2   T-AL-1-2_R1.fastq.gz   \n",
       "\n",
       "   file_name_r2  adaptor_1  adaptor_2  \\\n",
       "0           NaN        NaN        NaN   \n",
       "1           NaN        NaN        NaN   \n",
       "2           NaN        NaN        NaN   \n",
       "3           NaN        NaN        NaN   \n",
       "4           NaN        NaN        NaN   \n",
       "\n",
       "                                                 ref                    rgid  \\\n",
       "0  /home/lindb/eckertlab/BURT/dDocent_denovo_asse...   T-AR-2-7.160520.Burt0   \n",
       "1  /home/lindb/eckertlab/BURT/dDocent_denovo_asse...  T-TX-1-19.160520.Burt0   \n",
       "2  /home/lindb/eckertlab/BURT/dDocent_denovo_asse...   G-SC-1-3.160520.Burt0   \n",
       "3  /home/lindb/eckertlab/BURT/dDocent_denovo_asse...  P-LA-2-10.160520.Burt0   \n",
       "4  /home/lindb/eckertlab/BURT/dDocent_denovo_asse...   T-AL-1-2.160520.Burt0   \n",
       "\n",
       "    rglb      rgpl                   rgpu       rgsm  \n",
       "0  Burt0  ILLUMINA   C7WRGACXX.1.T-AR-2-7   T-AR-2-7  \n",
       "1  Burt0  ILLUMINA  C7WRGACXX.1.T-TX-1-19  T-TX-1-19  \n",
       "2  Burt0  ILLUMINA   C7WRGACXX.1.G-SC-1-3   G-SC-1-3  \n",
       "3  Burt0  ILLUMINA  C7WRGACXX.1.P-LA-2-10  P-LA-2-10  \n",
       "4  Burt0  ILLUMINA   C7WRGACXX.1.T-AL-1-2   T-AL-1-2  "
      ]
     },
     "execution_count": 13,
     "metadata": {},
     "output_type": "execute_result"
    }
   ],
   "source": [
    "# read in datatable.txt template, create blank template\n",
    "dt = pd.read_table('/home/lindb/g/varscan_pipeline/datatable.txt')\n",
    "dt = pd.DataFrame(columns=dt.columns)\n",
    "display(dt)  # display blank df to show col names\n",
    "\n",
    "for line in nb(fqs.index):\n",
    "    row = nrow(dt)\n",
    "    dt.loc[row, 'sample_name'] = fqs.loc[line, 'sample_name']\n",
    "    dt.loc[row, 'library_name'] = fqs.loc[line, 'lib']\n",
    "    dt.loc[row, 'file_name_r1'] = bnames[fqs.loc[line, 'fastq']]\n",
    "    dt.loc[row, 'rgid'] = fqs.loc[line, 'RGID']\n",
    "    dt.loc[row, 'rglb'] = fqs.loc[line, 'RGLB']\n",
    "    dt.loc[row, 'rgpu'] = fqs.loc[line, 'RGPU']\n",
    "    dt.loc[row, 'rgsm'] = dt.loc[row, 'sample_name']\n",
    "dt['pool_name'] = 'BURT'\n",
    "dt['ploidy'] = 2\n",
    "dt['file_name_r2'] = np.nan\n",
    "dt['adaptor_1'] = np.nan\n",
    "dt['adaptor_2'] = np.nan\n",
    "dt['ref'] = '/home/lindb/eckertlab/BURT/dDocent_denovo_assembly/reference_pseudo.fasta'\n",
    "dt['rgpl'] = 'ILLUMINA'\n",
    "dt.head()"
   ]
  },
  {
   "cell_type": "code",
   "execution_count": 14,
   "metadata": {},
   "outputs": [],
   "source": [
    "dt.to_csv(op.join(tandmdir, 'datatable.txt'), sep='\\t', index=False)"
   ]
  },
  {
   "cell_type": "code",
   "execution_count": 15,
   "metadata": {},
   "outputs": [
    {
     "name": "stderr",
     "output_type": "stream",
     "text": [
      "100%|██████████| 1709/1709 [00:01<00:00, 1591.38it/s]\n"
     ]
    }
   ],
   "source": [
    "# make symlinks to parentdir\n",
    "for src in nb(fqs['fastq']):\n",
    "    dst = op.join(tandmdir, bnames[src])\n",
    "    os.symlink(src, dst)"
   ]
  },
  {
   "cell_type": "code",
   "execution_count": null,
   "metadata": {},
   "outputs": [],
   "source": []
  },
  {
   "cell_type": "code",
   "execution_count": null,
   "metadata": {},
   "outputs": [],
   "source": []
  },
  {
   "cell_type": "code",
   "execution_count": null,
   "metadata": {},
   "outputs": [],
   "source": []
  },
  {
   "cell_type": "code",
   "execution_count": null,
   "metadata": {},
   "outputs": [],
   "source": []
  },
  {
   "cell_type": "code",
   "execution_count": null,
   "metadata": {},
   "outputs": [],
   "source": []
  },
  {
   "cell_type": "code",
   "execution_count": null,
   "metadata": {},
   "outputs": [],
   "source": []
  },
  {
   "cell_type": "code",
   "execution_count": null,
   "metadata": {},
   "outputs": [],
   "source": []
  },
  {
   "cell_type": "code",
   "execution_count": null,
   "metadata": {},
   "outputs": [],
   "source": []
  },
  {
   "cell_type": "code",
   "execution_count": null,
   "metadata": {},
   "outputs": [],
   "source": []
  },
  {
   "cell_type": "code",
   "execution_count": null,
   "metadata": {},
   "outputs": [],
   "source": []
  },
  {
   "cell_type": "code",
   "execution_count": null,
   "metadata": {},
   "outputs": [],
   "source": []
  },
  {
   "cell_type": "code",
   "execution_count": null,
   "metadata": {},
   "outputs": [],
   "source": []
  },
  {
   "cell_type": "code",
   "execution_count": null,
   "metadata": {},
   "outputs": [],
   "source": []
  },
  {
   "cell_type": "code",
   "execution_count": null,
   "metadata": {},
   "outputs": [],
   "source": []
  },
  {
   "cell_type": "code",
   "execution_count": null,
   "metadata": {},
   "outputs": [],
   "source": []
  },
  {
   "cell_type": "code",
   "execution_count": null,
   "metadata": {},
   "outputs": [],
   "source": []
  },
  {
   "cell_type": "code",
   "execution_count": null,
   "metadata": {},
   "outputs": [],
   "source": []
  },
  {
   "cell_type": "code",
   "execution_count": null,
   "metadata": {},
   "outputs": [],
   "source": []
  },
  {
   "cell_type": "code",
   "execution_count": null,
   "metadata": {},
   "outputs": [],
   "source": []
  },
  {
   "cell_type": "code",
   "execution_count": null,
   "metadata": {},
   "outputs": [],
   "source": []
  },
  {
   "cell_type": "code",
   "execution_count": null,
   "metadata": {},
   "outputs": [],
   "source": []
  },
  {
   "cell_type": "code",
   "execution_count": null,
   "metadata": {},
   "outputs": [],
   "source": []
  },
  {
   "cell_type": "code",
   "execution_count": null,
   "metadata": {},
   "outputs": [],
   "source": []
  },
  {
   "cell_type": "code",
   "execution_count": null,
   "metadata": {},
   "outputs": [],
   "source": []
  },
  {
   "cell_type": "code",
   "execution_count": null,
   "metadata": {},
   "outputs": [],
   "source": []
  },
  {
   "cell_type": "code",
   "execution_count": null,
   "metadata": {},
   "outputs": [],
   "source": []
  },
  {
   "cell_type": "code",
   "execution_count": null,
   "metadata": {},
   "outputs": [],
   "source": []
  },
  {
   "cell_type": "code",
   "execution_count": null,
   "metadata": {},
   "outputs": [],
   "source": []
  },
  {
   "cell_type": "code",
   "execution_count": null,
   "metadata": {},
   "outputs": [],
   "source": []
  },
  {
   "cell_type": "code",
   "execution_count": null,
   "metadata": {},
   "outputs": [],
   "source": []
  },
  {
   "cell_type": "code",
   "execution_count": null,
   "metadata": {},
   "outputs": [],
   "source": []
  },
  {
   "cell_type": "code",
   "execution_count": null,
   "metadata": {},
   "outputs": [],
   "source": []
  },
  {
   "cell_type": "code",
   "execution_count": null,
   "metadata": {},
   "outputs": [],
   "source": []
  },
  {
   "cell_type": "code",
   "execution_count": null,
   "metadata": {},
   "outputs": [],
   "source": []
  },
  {
   "cell_type": "code",
   "execution_count": null,
   "metadata": {},
   "outputs": [],
   "source": []
  },
  {
   "cell_type": "code",
   "execution_count": null,
   "metadata": {},
   "outputs": [],
   "source": []
  },
  {
   "cell_type": "code",
   "execution_count": null,
   "metadata": {},
   "outputs": [],
   "source": []
  },
  {
   "cell_type": "code",
   "execution_count": null,
   "metadata": {},
   "outputs": [],
   "source": []
  },
  {
   "cell_type": "code",
   "execution_count": null,
   "metadata": {},
   "outputs": [],
   "source": []
  },
  {
   "cell_type": "code",
   "execution_count": null,
   "metadata": {},
   "outputs": [],
   "source": []
  },
  {
   "cell_type": "code",
   "execution_count": null,
   "metadata": {},
   "outputs": [],
   "source": []
  },
  {
   "cell_type": "code",
   "execution_count": null,
   "metadata": {},
   "outputs": [],
   "source": []
  },
  {
   "cell_type": "code",
   "execution_count": null,
   "metadata": {},
   "outputs": [],
   "source": []
  },
  {
   "cell_type": "code",
   "execution_count": null,
   "metadata": {},
   "outputs": [],
   "source": []
  },
  {
   "cell_type": "code",
   "execution_count": null,
   "metadata": {},
   "outputs": [],
   "source": []
  },
  {
   "cell_type": "code",
   "execution_count": null,
   "metadata": {},
   "outputs": [],
   "source": []
  },
  {
   "cell_type": "code",
   "execution_count": null,
   "metadata": {},
   "outputs": [],
   "source": []
  },
  {
   "cell_type": "code",
   "execution_count": null,
   "metadata": {},
   "outputs": [],
   "source": []
  },
  {
   "cell_type": "code",
   "execution_count": null,
   "metadata": {},
   "outputs": [],
   "source": []
  },
  {
   "cell_type": "code",
   "execution_count": null,
   "metadata": {},
   "outputs": [],
   "source": []
  },
  {
   "cell_type": "code",
   "execution_count": null,
   "metadata": {},
   "outputs": [],
   "source": []
  },
  {
   "cell_type": "code",
   "execution_count": null,
   "metadata": {},
   "outputs": [],
   "source": []
  }
 ],
 "metadata": {
  "kernelspec": {
   "display_name": "Python 3",
   "language": "python",
   "name": "python3"
  },
  "language_info": {
   "codemirror_mode": {
    "name": "ipython",
    "version": 3
   },
   "file_extension": ".py",
   "mimetype": "text/x-python",
   "name": "python",
   "nbconvert_exporter": "python",
   "pygments_lexer": "ipython3",
   "version": "3.7.5"
  }
 },
 "nbformat": 4,
 "nbformat_minor": 2
}
