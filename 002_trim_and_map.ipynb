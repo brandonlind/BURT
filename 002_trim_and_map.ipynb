{
 "cells": [
  {
   "cell_type": "markdown",
   "metadata": {},
   "source": [
    "this notebook best viewed here: https://nbviewer.jupyter.org/github/brandonlind/BURT/blob/master/002_trim_and_map.ipynb"
   ]
  },
  {
   "cell_type": "markdown",
   "metadata": {},
   "source": [
    " "
   ]
  },
  {
   "cell_type": "markdown",
   "metadata": {},
   "source": [
    " "
   ]
  },
  {
   "cell_type": "code",
   "execution_count": 1,
   "metadata": {},
   "outputs": [],
   "source": [
    "from pythonimports import *\n",
    "\n",
    "def qsub(shfiles:list, sleep=0, printing=False) -> list:\n",
    "    \"\"\"From a list of .sh shfiles, sbatch them and return associated jobid in a list.\"\"\"\n",
    "    \n",
    "    if isinstance(shfiles, list) is False:\n",
    "        assert isinstance(shfiles, str)\n",
    "        shfiles = [shfiles]\n",
    "    pids = []\n",
    "    failcount = 0\n",
    "    for sh in nb(shfiles):\n",
    "        os.chdir(os.path.dirname(sh))\n",
    "        try:\n",
    "            pid = subprocess.check_output([shutil.which('qsub'), sh]).decode('utf-8').replace(\"\\n\", \"\").split()[2]\n",
    "        except subprocess.CalledProcessError as e:\n",
    "            failcount += 1\n",
    "            if failcount == 10:\n",
    "                print('!!!REACHED FAILCOUNT LIMIT OF 10!!!')\n",
    "                return pids\n",
    "            continue\n",
    "        if printing is True:\n",
    "            print('sbatched %s' % sh)\n",
    "        pids.append(pid)\n",
    "        time.sleep(sleep)\n",
    "    return pids"
   ]
  },
  {
   "cell_type": "code",
   "execution_count": 2,
   "metadata": {},
   "outputs": [
    {
     "data": {
      "text/plain": [
       "'/gpfs_fs/home/eckertlab/BURT'"
      ]
     },
     "execution_count": 2,
     "metadata": {},
     "output_type": "execute_result"
    }
   ],
   "source": [
    "DIR = op.realpath('/home/lindb/eckertlab/BURT')\n",
    "DIR"
   ]
  },
  {
   "cell_type": "code",
   "execution_count": 3,
   "metadata": {},
   "outputs": [],
   "source": [
    "tandmdir = makedir(op.join(DIR, '002_trim_and_map'))"
   ]
  },
  {
   "cell_type": "code",
   "execution_count": 4,
   "metadata": {},
   "outputs": [
    {
     "data": {
      "text/plain": [
       "'/gpfs_fs/home/eckertlab/BURT/002_trim_and_map'"
      ]
     },
     "execution_count": 4,
     "metadata": {},
     "output_type": "execute_result"
    }
   ],
   "source": [
    "tandmdir"
   ]
  },
  {
   "cell_type": "markdown",
   "metadata": {},
   "source": [
    "# trim and map to de novo assembly\n",
    "\n",
    "- dDocent was used to create an de novo assembly from trimmed reads\n",
    "- dDocent documentation refers to trimmomatic, but uses fastp. So I'll re-trim and map. I can also handle read groups during mapping this way, dDocent does not account for different read groups across samples."
   ]
  },
  {
   "cell_type": "markdown",
   "metadata": {},
   "source": [
    "#### create datatable.txt\n",
    "\n",
    "- datatable.txt is used as input to start the varscan_pipeline - github.com/brandonlind/varscan_pipeline\n",
    "- I am using the first few steps of this pipeline to trim, map, and mark duplicates __only__\n",
    "- I've updated the pipeline to handle SGE scheduler (it was slurm-only before)"
   ]
  },
  {
   "cell_type": "code",
   "execution_count": 5,
   "metadata": {},
   "outputs": [],
   "source": [
    "denovodir = makedir(op.join(tandmdir, 'denovo_mapping'))"
   ]
  },
  {
   "cell_type": "code",
   "execution_count": 6,
   "metadata": {},
   "outputs": [
    {
     "data": {
      "text/html": [
       "<div>\n",
       "<style scoped>\n",
       "    .dataframe tbody tr th:only-of-type {\n",
       "        vertical-align: middle;\n",
       "    }\n",
       "\n",
       "    .dataframe tbody tr th {\n",
       "        vertical-align: top;\n",
       "    }\n",
       "\n",
       "    .dataframe thead th {\n",
       "        text-align: right;\n",
       "    }\n",
       "</style>\n",
       "<table border=\"1\" class=\"dataframe\">\n",
       "  <thead>\n",
       "    <tr style=\"text-align: right;\">\n",
       "      <th></th>\n",
       "      <th>fastq</th>\n",
       "      <th>sample_name</th>\n",
       "      <th>species</th>\n",
       "      <th>state</th>\n",
       "      <th>ind</th>\n",
       "      <th>popn</th>\n",
       "      <th>spp_popn</th>\n",
       "      <th>run</th>\n",
       "      <th>lib</th>\n",
       "      <th>seq_center</th>\n",
       "      <th>md5</th>\n",
       "      <th>RGPL</th>\n",
       "      <th>RGSM</th>\n",
       "      <th>RGLB</th>\n",
       "      <th>RGID</th>\n",
       "      <th>flowcell_lane</th>\n",
       "      <th>RGPU</th>\n",
       "      <th>num_reads</th>\n",
       "    </tr>\n",
       "  </thead>\n",
       "  <tbody>\n",
       "    <tr>\n",
       "      <th>0</th>\n",
       "      <td>/home/cfriedline/eckertlab/projects/burt/seq/1...</td>\n",
       "      <td>T-AR-2-7</td>\n",
       "      <td>T</td>\n",
       "      <td>AR</td>\n",
       "      <td>7</td>\n",
       "      <td>T-AR-2</td>\n",
       "      <td>AR-2</td>\n",
       "      <td>160520</td>\n",
       "      <td>Burt0</td>\n",
       "      <td>NARF</td>\n",
       "      <td>1ae81d40ba5b1497e7ba9f5733c494b4</td>\n",
       "      <td>ILLUMINA</td>\n",
       "      <td>T-AR-2-7</td>\n",
       "      <td>Burt0</td>\n",
       "      <td>T-AR-2-7.160520.Burt0</td>\n",
       "      <td>C7WRGACXX.1</td>\n",
       "      <td>C7WRGACXX.1.T-AR-2-7</td>\n",
       "      <td>1277586</td>\n",
       "    </tr>\n",
       "    <tr>\n",
       "      <th>1</th>\n",
       "      <td>/home/cfriedline/eckertlab/projects/burt/seq/1...</td>\n",
       "      <td>T-TX-1-19</td>\n",
       "      <td>T</td>\n",
       "      <td>TX</td>\n",
       "      <td>19</td>\n",
       "      <td>T-TX-1</td>\n",
       "      <td>TX-1</td>\n",
       "      <td>160520</td>\n",
       "      <td>Burt0</td>\n",
       "      <td>NARF</td>\n",
       "      <td>eb991e8800c31b632dfc0f4279e9e44a</td>\n",
       "      <td>ILLUMINA</td>\n",
       "      <td>T-TX-1-19</td>\n",
       "      <td>Burt0</td>\n",
       "      <td>T-TX-1-19.160520.Burt0</td>\n",
       "      <td>C7WRGACXX.1</td>\n",
       "      <td>C7WRGACXX.1.T-TX-1-19</td>\n",
       "      <td>2798860</td>\n",
       "    </tr>\n",
       "    <tr>\n",
       "      <th>2</th>\n",
       "      <td>/home/cfriedline/eckertlab/projects/burt/seq/1...</td>\n",
       "      <td>G-SC-1-3</td>\n",
       "      <td>G</td>\n",
       "      <td>SC</td>\n",
       "      <td>3</td>\n",
       "      <td>G-SC-1</td>\n",
       "      <td>SC-1</td>\n",
       "      <td>160520</td>\n",
       "      <td>Burt0</td>\n",
       "      <td>NARF</td>\n",
       "      <td>e5cf36460b50c6467a49f4b157bb16c1</td>\n",
       "      <td>ILLUMINA</td>\n",
       "      <td>G-SC-1-3</td>\n",
       "      <td>Burt0</td>\n",
       "      <td>G-SC-1-3.160520.Burt0</td>\n",
       "      <td>C7WRGACXX.1</td>\n",
       "      <td>C7WRGACXX.1.G-SC-1-3</td>\n",
       "      <td>2312577</td>\n",
       "    </tr>\n",
       "    <tr>\n",
       "      <th>3</th>\n",
       "      <td>/home/cfriedline/eckertlab/projects/burt/seq/1...</td>\n",
       "      <td>P-LA-2-10</td>\n",
       "      <td>P</td>\n",
       "      <td>LA</td>\n",
       "      <td>10</td>\n",
       "      <td>P-LA-2</td>\n",
       "      <td>LA-2</td>\n",
       "      <td>160520</td>\n",
       "      <td>Burt0</td>\n",
       "      <td>NARF</td>\n",
       "      <td>a1fab3ce615d708f53eb836f13fbba7c</td>\n",
       "      <td>ILLUMINA</td>\n",
       "      <td>P-LA-2-10</td>\n",
       "      <td>Burt0</td>\n",
       "      <td>P-LA-2-10.160520.Burt0</td>\n",
       "      <td>C7WRGACXX.1</td>\n",
       "      <td>C7WRGACXX.1.P-LA-2-10</td>\n",
       "      <td>1583884</td>\n",
       "    </tr>\n",
       "    <tr>\n",
       "      <th>4</th>\n",
       "      <td>/home/cfriedline/eckertlab/projects/burt/seq/1...</td>\n",
       "      <td>T-AL-1-2</td>\n",
       "      <td>T</td>\n",
       "      <td>AL</td>\n",
       "      <td>2</td>\n",
       "      <td>T-AL-1</td>\n",
       "      <td>AL-1</td>\n",
       "      <td>160520</td>\n",
       "      <td>Burt0</td>\n",
       "      <td>NARF</td>\n",
       "      <td>16efa4d02874e6f5cf747e40bdbfb0dd</td>\n",
       "      <td>ILLUMINA</td>\n",
       "      <td>T-AL-1-2</td>\n",
       "      <td>Burt0</td>\n",
       "      <td>T-AL-1-2.160520.Burt0</td>\n",
       "      <td>C7WRGACXX.1</td>\n",
       "      <td>C7WRGACXX.1.T-AL-1-2</td>\n",
       "      <td>1321261</td>\n",
       "    </tr>\n",
       "  </tbody>\n",
       "</table>\n",
       "</div>"
      ],
      "text/plain": [
       "                                               fastq sample_name species  \\\n",
       "0  /home/cfriedline/eckertlab/projects/burt/seq/1...    T-AR-2-7       T   \n",
       "1  /home/cfriedline/eckertlab/projects/burt/seq/1...   T-TX-1-19       T   \n",
       "2  /home/cfriedline/eckertlab/projects/burt/seq/1...    G-SC-1-3       G   \n",
       "3  /home/cfriedline/eckertlab/projects/burt/seq/1...   P-LA-2-10       P   \n",
       "4  /home/cfriedline/eckertlab/projects/burt/seq/1...    T-AL-1-2       T   \n",
       "\n",
       "  state  ind    popn spp_popn     run    lib seq_center  \\\n",
       "0    AR    7  T-AR-2     AR-2  160520  Burt0       NARF   \n",
       "1    TX   19  T-TX-1     TX-1  160520  Burt0       NARF   \n",
       "2    SC    3  G-SC-1     SC-1  160520  Burt0       NARF   \n",
       "3    LA   10  P-LA-2     LA-2  160520  Burt0       NARF   \n",
       "4    AL    2  T-AL-1     AL-1  160520  Burt0       NARF   \n",
       "\n",
       "                                md5      RGPL       RGSM   RGLB  \\\n",
       "0  1ae81d40ba5b1497e7ba9f5733c494b4  ILLUMINA   T-AR-2-7  Burt0   \n",
       "1  eb991e8800c31b632dfc0f4279e9e44a  ILLUMINA  T-TX-1-19  Burt0   \n",
       "2  e5cf36460b50c6467a49f4b157bb16c1  ILLUMINA   G-SC-1-3  Burt0   \n",
       "3  a1fab3ce615d708f53eb836f13fbba7c  ILLUMINA  P-LA-2-10  Burt0   \n",
       "4  16efa4d02874e6f5cf747e40bdbfb0dd  ILLUMINA   T-AL-1-2  Burt0   \n",
       "\n",
       "                     RGID flowcell_lane                   RGPU  num_reads  \n",
       "0   T-AR-2-7.160520.Burt0   C7WRGACXX.1   C7WRGACXX.1.T-AR-2-7    1277586  \n",
       "1  T-TX-1-19.160520.Burt0   C7WRGACXX.1  C7WRGACXX.1.T-TX-1-19    2798860  \n",
       "2   G-SC-1-3.160520.Burt0   C7WRGACXX.1   C7WRGACXX.1.G-SC-1-3    2312577  \n",
       "3  P-LA-2-10.160520.Burt0   C7WRGACXX.1  C7WRGACXX.1.P-LA-2-10    1583884  \n",
       "4   T-AL-1-2.160520.Burt0   C7WRGACXX.1   C7WRGACXX.1.T-AL-1-2    1321261  "
      ]
     },
     "execution_count": 6,
     "metadata": {},
     "output_type": "execute_result"
    }
   ],
   "source": [
    "fqs = pd.read_table('/gpfs_fs/home/eckertlab/BURT/seq/burt_fastq_data.txt')\n",
    "fqs.head()"
   ]
  },
  {
   "cell_type": "code",
   "execution_count": 7,
   "metadata": {},
   "outputs": [
    {
     "data": {
      "text/plain": [
       "['/home/cfriedline/eckertlab/projects/burt/seq/160520/Burt0/T-AR-2-7.R1.fastq.gz',\n",
       " '/home/cfriedline/eckertlab/projects/burt/seq/160520/Burt0/T-TX-1-19.R1.fastq.gz',\n",
       " '/home/cfriedline/eckertlab/projects/burt/seq/160520/Burt0/G-SC-1-3.R1.fastq.gz',\n",
       " '/home/cfriedline/eckertlab/projects/burt/seq/160520/Burt0/P-LA-2-10.R1.fastq.gz',\n",
       " '/home/cfriedline/eckertlab/projects/burt/seq/160520/Burt0/T-AL-1-2.R1.fastq.gz',\n",
       " '/home/cfriedline/eckertlab/projects/burt/seq/160520/Burt0/P-LA-1-7.R1.fastq.gz',\n",
       " '/home/cfriedline/eckertlab/projects/burt/seq/160520/Burt0/P-AL-2-5.R1.fastq.gz',\n",
       " '/home/cfriedline/eckertlab/projects/burt/seq/160520/Burt0/P-LA-1-2.R1.fastq.gz',\n",
       " '/home/cfriedline/eckertlab/projects/burt/seq/160520/Burt0/T-TX-1-21.R1.fastq.gz',\n",
       " '/home/cfriedline/eckertlab/projects/burt/seq/160520/Burt0/P-GA-2-1.R1.fastq.gz',\n",
       " '/home/cfriedline/eckertlab/projects/burt/seq/160520/Burt0/P-GA-2-12.R1.fastq.gz',\n",
       " '/home/cfriedline/eckertlab/projects/burt/seq/160520/Burt0/E-FL-1-14.R1.fastq.gz',\n",
       " '/home/cfriedline/eckertlab/projects/burt/seq/160520/Burt0/P-LA-1-22.R1.fastq.gz',\n",
       " '/home/cfriedline/eckertlab/projects/burt/seq/160520/Burt0/T-TX-1-22.R1.fastq.gz',\n",
       " '/home/cfriedline/eckertlab/projects/burt/seq/160520/Burt0/G-SC-1-1.R1.fastq.gz',\n",
       " '/home/cfriedline/eckertlab/projects/burt/seq/160520/Burt0/P-LA-1-20.R1.fastq.gz',\n",
       " '/home/cfriedline/eckertlab/projects/burt/seq/160520/Burt0/T-GA-2-9.R1.fastq.gz',\n",
       " '/home/cfriedline/eckertlab/projects/burt/seq/160520/Burt0/T-VA-3-15.R1.fastq.gz',\n",
       " '/home/cfriedline/eckertlab/projects/burt/seq/160520/Burt0/P-FL-1-16.R1.fastq.gz',\n",
       " '/home/cfriedline/eckertlab/projects/burt/seq/160520/Burt0/P-FL-1-4.R1.fastq.gz',\n",
       " '/home/cfriedline/eckertlab/projects/burt/seq/160520/Burt0/T-TX-1-9.R1.fastq.gz',\n",
       " '/home/cfriedline/eckertlab/projects/burt/seq/160520/Burt0/T-GA-3-2.R1.fastq.gz',\n",
       " '/home/cfriedline/eckertlab/projects/burt/seq/160520/Burt0/T-TX-1-16.R1.fastq.gz',\n",
       " '/home/cfriedline/eckertlab/projects/burt/seq/160520/Burt0/P-GA-3-2.R1.fastq.gz',\n",
       " '/home/cfriedline/eckertlab/projects/burt/seq/160520/Burt0/P-AL-4-13.R1.fastq.gz',\n",
       " '/home/cfriedline/eckertlab/projects/burt/seq/160520/Burt0/T-VA-3-8.R1.fastq.gz',\n",
       " '/home/cfriedline/eckertlab/projects/burt/seq/160520/Burt0/T-TX-1-8.R1.fastq.gz',\n",
       " '/home/cfriedline/eckertlab/projects/burt/seq/160520/Burt0/T-TX-1-14.R1.fastq.gz',\n",
       " '/home/cfriedline/eckertlab/projects/burt/seq/160520/Burt0/P-AL-2-4.R1.fastq.gz',\n",
       " '/home/cfriedline/eckertlab/projects/burt/seq/160520/Burt0/P-GA-2-8.R1.fastq.gz',\n",
       " '/home/cfriedline/eckertlab/projects/burt/seq/160520/Burt0/P-FL-1-15.R1.fastq.gz',\n",
       " '/home/cfriedline/eckertlab/projects/burt/seq/160520/Burt0/G-SC-1-2.R1.fastq.gz',\n",
       " '/home/cfriedline/eckertlab/projects/burt/seq/160520/Burt0/T-AR-2-10.R1.fastq.gz',\n",
       " '/home/cfriedline/eckertlab/projects/burt/seq/160520/Burt0/E-SC-3-8.R1.fastq.gz',\n",
       " '/home/cfriedline/eckertlab/projects/burt/seq/160520/Burt0/T-FL-1-5.R1.fastq.gz',\n",
       " '/home/cfriedline/eckertlab/projects/burt/seq/160520/Burt0/T-TX-1-25.R1.fastq.gz',\n",
       " '/home/cfriedline/eckertlab/projects/burt/seq/160520/Burt0/P-LA-1-15.R1.fastq.gz',\n",
       " '/home/cfriedline/eckertlab/projects/burt/seq/160520/Burt0/P-GA-1-9.R1.fastq.gz',\n",
       " '/home/cfriedline/eckertlab/projects/burt/seq/160520/Burt0/T-TX-1-12.R1.fastq.gz',\n",
       " '/home/cfriedline/eckertlab/projects/burt/seq/160520/Burt0/P-LA-1-10.R1.fastq.gz',\n",
       " '/home/cfriedline/eckertlab/projects/burt/seq/160520/Burt0/P-FL-1-7.R1.fastq.gz',\n",
       " '/home/cfriedline/eckertlab/projects/burt/seq/160520/Burt0/T-AR-1-15.R1.fastq.gz',\n",
       " '/home/cfriedline/eckertlab/projects/burt/seq/160520/Burt0/P-AL-2-1.R1.fastq.gz',\n",
       " '/home/cfriedline/eckertlab/projects/burt/seq/160520/Burt0/G-SC-1-9.R1.fastq.gz',\n",
       " '/home/cfriedline/eckertlab/projects/burt/seq/160520/Burt0/E-SC-6-4.R1.fastq.gz',\n",
       " '/home/cfriedline/eckertlab/projects/burt/seq/160520/Burt0/T-GA-3-7.R1.fastq.gz',\n",
       " '/home/cfriedline/eckertlab/projects/burt/seq/160520/Burt0/T-AR-2-8.R1.fastq.gz',\n",
       " '/home/cfriedline/eckertlab/projects/burt/seq/160520/Burt0/P-LA-1-21.R1.fastq.gz',\n",
       " '/home/cfriedline/eckertlab/projects/burt/seq/160520/Burt0/T-AL-5-9.R1.fastq.gz',\n",
       " '/home/cfriedline/eckertlab/projects/burt/seq/160520/Burt0/T-TX-1-18.R1.fastq.gz',\n",
       " '/home/cfriedline/eckertlab/projects/burt/seq/160520/Burt0/T-VA-2-3.R1.fastq.gz',\n",
       " '/home/cfriedline/eckertlab/projects/burt/seq/160520/Burt0/P-AL-5-5.R1.fastq.gz',\n",
       " '/home/cfriedline/eckertlab/projects/burt/seq/160520/Burt0/T-VA-3-9.R1.fastq.gz',\n",
       " '/home/cfriedline/eckertlab/projects/burt/seq/160520/Burt0/T-AL-1-1.R1.fastq.gz',\n",
       " '/home/cfriedline/eckertlab/projects/burt/seq/160520/Burt0/G-SC-1-6.R1.fastq.gz',\n",
       " '/home/cfriedline/eckertlab/projects/burt/seq/160520/Burt0/E-SC-4-9.R1.fastq.gz',\n",
       " '/home/cfriedline/eckertlab/projects/burt/seq/160520/Burt0/P-GA-5-11.R1.fastq.gz',\n",
       " '/home/cfriedline/eckertlab/projects/burt/seq/160520/Burt0/P-LA-1-12.R1.fastq.gz',\n",
       " '/home/cfriedline/eckertlab/projects/burt/seq/160520/Burt0/P-GA-4-11.R1.fastq.gz',\n",
       " '/home/cfriedline/eckertlab/projects/burt/seq/160520/Burt0/P-FL-1-8.R1.fastq.gz',\n",
       " '/home/cfriedline/eckertlab/projects/burt/seq/160520/Burt0/T-AL-5-15.R1.fastq.gz',\n",
       " '/home/cfriedline/eckertlab/projects/burt/seq/160520/Burt0/P-LA-1-9.R1.fastq.gz',\n",
       " '/home/cfriedline/eckertlab/projects/burt/seq/160520/Burt0/T-FL-1-8.R1.fastq.gz',\n",
       " '/home/cfriedline/eckertlab/projects/burt/seq/160520/Burt0/E-FL-1-1.R1.fastq.gz',\n",
       " '/home/cfriedline/eckertlab/projects/burt/seq/160520/Burt0/P-LA-1-11.R1.fastq.gz',\n",
       " '/home/cfriedline/eckertlab/projects/burt/seq/160520/Burt0/T-VA-3-3.R1.fastq.gz',\n",
       " '/home/cfriedline/eckertlab/projects/burt/seq/160520/Burt0/P-FL-1-30.R1.fastq.gz',\n",
       " '/home/cfriedline/eckertlab/projects/burt/seq/160520/Burt0/P-AL-4-12.R1.fastq.gz',\n",
       " '/home/cfriedline/eckertlab/projects/burt/seq/160520/Burt0/P-LA-1-1.R1.fastq.gz',\n",
       " '/home/cfriedline/eckertlab/projects/burt/seq/160520/Burt0/T-TX-1-4.R1.fastq.gz',\n",
       " '/home/cfriedline/eckertlab/projects/burt/seq/160520/Burt0/T-TX-1-11.R1.fastq.gz',\n",
       " '/home/cfriedline/eckertlab/projects/burt/seq/160520/Burt0/G-SC-1-4.R1.fastq.gz',\n",
       " '/home/cfriedline/eckertlab/projects/burt/seq/160520/Burt0/T-TX-1-7.R1.fastq.gz',\n",
       " '/home/cfriedline/eckertlab/projects/burt/seq/160520/Burt0/P-GA-4-8.R1.fastq.gz',\n",
       " '/home/cfriedline/eckertlab/projects/burt/seq/160520/Burt0/P-LA-1-13.R1.fastq.gz',\n",
       " '/home/cfriedline/eckertlab/projects/burt/seq/160520/Burt0/T-GA-3-5.R1.fastq.gz',\n",
       " '/home/cfriedline/eckertlab/projects/burt/seq/160520/Burt0/P-LA-1-16.R1.fastq.gz',\n",
       " '/home/cfriedline/eckertlab/projects/burt/seq/160520/Burt0/T-TX-1-24.R1.fastq.gz',\n",
       " '/home/cfriedline/eckertlab/projects/burt/seq/160520/Burt0/P-LA-1-18.R1.fastq.gz',\n",
       " '/home/cfriedline/eckertlab/projects/burt/seq/160520/Burt0/P-FL-1-12.R1.fastq.gz',\n",
       " '/home/cfriedline/eckertlab/projects/burt/seq/160520/Burt0/T-TX-1-2.R1.fastq.gz',\n",
       " '/home/cfriedline/eckertlab/projects/burt/seq/160520/Burt0/T-TX-1-6.R1.fastq.gz',\n",
       " '/home/cfriedline/eckertlab/projects/burt/seq/160520/Burt0/T-GA-4-9.R1.fastq.gz',\n",
       " '/home/cfriedline/eckertlab/projects/burt/seq/160520/Burt0/P-SC-1-14.R1.fastq.gz',\n",
       " '/home/cfriedline/eckertlab/projects/burt/seq/160520/Burt0/G-SC-1-5.R1.fastq.gz',\n",
       " '/home/cfriedline/eckertlab/projects/burt/seq/160520/Burt0/P-LA-1-17.R1.fastq.gz',\n",
       " '/home/cfriedline/eckertlab/projects/burt/seq/160520/Burt0/T-TX-1-20.R1.fastq.gz',\n",
       " '/home/cfriedline/eckertlab/projects/burt/seq/160520/Burt0/P-AL-4-5.R1.fastq.gz',\n",
       " '/home/cfriedline/eckertlab/projects/burt/seq/160520/Burt0/T-GA-3-12.R1.fastq.gz',\n",
       " '/home/cfriedline/eckertlab/projects/burt/seq/160520/Burt0/P-LA-1-25.R1.fastq.gz',\n",
       " '/home/cfriedline/eckertlab/projects/burt/seq/160520/Burt0/G-SC-1-8.R1.fastq.gz',\n",
       " '/home/cfriedline/eckertlab/projects/burt/seq/160520/Burt0/T-AL-6-8.R1.fastq.gz',\n",
       " '/home/cfriedline/eckertlab/projects/burt/seq/160520/Burt0/G-SC-1-7.R1.fastq.gz',\n",
       " '/home/cfriedline/eckertlab/projects/burt/seq/160520/Burt0/P-AL-5-13.R1.fastq.gz',\n",
       " '/home/cfriedline/eckertlab/projects/burt/seq/160520/Burt0/T-GA-4-2.R1.fastq.gz',\n",
       " '/home/cfriedline/eckertlab/projects/burt/seq/160520/Burt0/T-TX-1-23.R1.fastq.gz',\n",
       " '/home/cfriedline/eckertlab/projects/burt/seq/160520/Burt1/P-AL-2-11.R1.fastq.gz',\n",
       " '/home/cfriedline/eckertlab/projects/burt/seq/160520/Burt1/E-FL-1-3.R1.fastq.gz',\n",
       " '/home/cfriedline/eckertlab/projects/burt/seq/160520/Burt1/E-FL-1-4.R1.fastq.gz',\n",
       " '/home/cfriedline/eckertlab/projects/burt/seq/160520/Burt1/P-FL-1-5.R1.fastq.gz',\n",
       " '/home/cfriedline/eckertlab/projects/burt/seq/160520/Burt1/P-FL-1-19.R1.fastq.gz',\n",
       " '/home/cfriedline/eckertlab/projects/burt/seq/160520/Burt1/T-AL-1-13.R1.fastq.gz',\n",
       " '/home/cfriedline/eckertlab/projects/burt/seq/160520/Burt1/T-VA-3-11.R1.fastq.gz',\n",
       " '/home/cfriedline/eckertlab/projects/burt/seq/160520/Burt1/T-AR-1-9.R1.fastq.gz',\n",
       " '/home/cfriedline/eckertlab/projects/burt/seq/160520/Burt1/T-VA-3-13.R1.fastq.gz',\n",
       " '/home/cfriedline/eckertlab/projects/burt/seq/160520/Burt1/T-AR-1-21.R1.fastq.gz',\n",
       " '/home/cfriedline/eckertlab/projects/burt/seq/160520/Burt1/T-AL-1-4.R1.fastq.gz',\n",
       " '/home/cfriedline/eckertlab/projects/burt/seq/160520/Burt1/P-GA-2-9.R1.fastq.gz',\n",
       " '/home/cfriedline/eckertlab/projects/burt/seq/160520/Burt1/P-AL-3-13.R1.fastq.gz',\n",
       " '/home/cfriedline/eckertlab/projects/burt/seq/160520/Burt1/E-FL-1-6.R1.fastq.gz',\n",
       " '/home/cfriedline/eckertlab/projects/burt/seq/160520/Burt1/T-AR-1-19.R1.fastq.gz',\n",
       " '/home/cfriedline/eckertlab/projects/burt/seq/160520/Burt1/T-MS-2-4.R1.fastq.gz',\n",
       " '/home/cfriedline/eckertlab/projects/burt/seq/160520/Burt1/T-MS-2-15.R1.fastq.gz',\n",
       " '/home/cfriedline/eckertlab/projects/burt/seq/160520/Burt1/T-AL-1-19.R1.fastq.gz',\n",
       " '/home/cfriedline/eckertlab/projects/burt/seq/160520/Burt1/T-AR-1-10.R1.fastq.gz',\n",
       " '/home/cfriedline/eckertlab/projects/burt/seq/160520/Burt1/T-MS-2-8.R1.fastq.gz',\n",
       " '/home/cfriedline/eckertlab/projects/burt/seq/160520/Burt1/T-MS-2-7.R1.fastq.gz',\n",
       " '/home/cfriedline/eckertlab/projects/burt/seq/160520/Burt1/T-FL-1-19.R1.fastq.gz',\n",
       " '/home/cfriedline/eckertlab/projects/burt/seq/160520/Burt1/T-AR-2-22.R1.fastq.gz',\n",
       " '/home/cfriedline/eckertlab/projects/burt/seq/160520/Burt1/T-MS-2-2.R1.fastq.gz',\n",
       " '/home/cfriedline/eckertlab/projects/burt/seq/160520/Burt1/P-AL-2-7.R1.fastq.gz',\n",
       " '/home/cfriedline/eckertlab/projects/burt/seq/160520/Burt1/T-MS-2-1.R1.fastq.gz',\n",
       " '/home/cfriedline/eckertlab/projects/burt/seq/160520/Burt1/T-AR-2-24.R1.fastq.gz',\n",
       " '/home/cfriedline/eckertlab/projects/burt/seq/160520/Burt1/T-AR-2-9.R1.fastq.gz',\n",
       " '/home/cfriedline/eckertlab/projects/burt/seq/160520/Burt1/T-MS-2-11.R1.fastq.gz',\n",
       " '/home/cfriedline/eckertlab/projects/burt/seq/160520/Burt1/T-AR-2-2.R1.fastq.gz',\n",
       " '/home/cfriedline/eckertlab/projects/burt/seq/160520/Burt1/T-MS-2-6.R1.fastq.gz',\n",
       " '/home/cfriedline/eckertlab/projects/burt/seq/160520/Burt1/P-LA-2-7.R1.fastq.gz',\n",
       " '/home/cfriedline/eckertlab/projects/burt/seq/160520/Burt1/T-AL-6-15.R1.fastq.gz',\n",
       " '/home/cfriedline/eckertlab/projects/burt/seq/160520/Burt1/P-FL-1-24.R1.fastq.gz',\n",
       " '/home/cfriedline/eckertlab/projects/burt/seq/160520/Burt1/P-LA-2-5.R1.fastq.gz',\n",
       " '/home/cfriedline/eckertlab/projects/burt/seq/160520/Burt1/T-VA-3-7.R1.fastq.gz',\n",
       " '/home/cfriedline/eckertlab/projects/burt/seq/160520/Burt1/T-AL-5-2.R1.fastq.gz',\n",
       " '/home/cfriedline/eckertlab/projects/burt/seq/160520/Burt1/T-AR-2-14.R1.fastq.gz',\n",
       " '/home/cfriedline/eckertlab/projects/burt/seq/160520/Burt1/T-AR-1-11.R1.fastq.gz',\n",
       " '/home/cfriedline/eckertlab/projects/burt/seq/160520/Burt1/T-AR-2-5.R1.fastq.gz',\n",
       " '/home/cfriedline/eckertlab/projects/burt/seq/160520/Burt1/T-AL-1-8.R1.fastq.gz',\n",
       " '/home/cfriedline/eckertlab/projects/burt/seq/160520/Burt1/T-AR-1-17.R1.fastq.gz',\n",
       " '/home/cfriedline/eckertlab/projects/burt/seq/160520/Burt1/P-AL-3-1.R1.fastq.gz',\n",
       " '/home/cfriedline/eckertlab/projects/burt/seq/160520/Burt1/T-AR-1-2.R1.fastq.gz',\n",
       " '/home/cfriedline/eckertlab/projects/burt/seq/160520/Burt1/P-AL-2-14.R1.fastq.gz',\n",
       " '/home/cfriedline/eckertlab/projects/burt/seq/160520/Burt1/T-MS-2-5.R1.fastq.gz',\n",
       " '/home/cfriedline/eckertlab/projects/burt/seq/160520/Burt1/T-AR-2-17.R1.fastq.gz',\n",
       " '/home/cfriedline/eckertlab/projects/burt/seq/160520/Burt1/P-LA-2-13.R1.fastq.gz',\n",
       " '/home/cfriedline/eckertlab/projects/burt/seq/160520/Burt1/T-AR-2-1.R1.fastq.gz',\n",
       " '/home/cfriedline/eckertlab/projects/burt/seq/160520/Burt1/E-FL-1-12.R1.fastq.gz',\n",
       " '/home/cfriedline/eckertlab/projects/burt/seq/160520/Burt1/T-AL-1-20.R1.fastq.gz',\n",
       " '/home/cfriedline/eckertlab/projects/burt/seq/160520/Burt1/T-AR-2-4.R1.fastq.gz',\n",
       " '/home/cfriedline/eckertlab/projects/burt/seq/160520/Burt1/T-FL-1-18.R1.fastq.gz',\n",
       " '/home/cfriedline/eckertlab/projects/burt/seq/160520/Burt1/T-MS-2-3.R1.fastq.gz',\n",
       " '/home/cfriedline/eckertlab/projects/burt/seq/160520/Burt1/P-LA-2-12.R1.fastq.gz',\n",
       " '/home/cfriedline/eckertlab/projects/burt/seq/160520/Burt1/E-FL-1-10.R1.fastq.gz',\n",
       " '/home/cfriedline/eckertlab/projects/burt/seq/160520/Burt1/T-MS-2-13.R1.fastq.gz',\n",
       " '/home/cfriedline/eckertlab/projects/burt/seq/160520/Burt1/P-FL-1-23.R1.fastq.gz',\n",
       " '/home/cfriedline/eckertlab/projects/burt/seq/160520/Burt1/T-FL-1-21.R1.fastq.gz',\n",
       " '/home/cfriedline/eckertlab/projects/burt/seq/160520/Burt1/P-GA-2-4.R1.fastq.gz',\n",
       " '/home/cfriedline/eckertlab/projects/burt/seq/160520/Burt1/T-MS-2-14.R1.fastq.gz',\n",
       " '/home/cfriedline/eckertlab/projects/burt/seq/160520/Burt1/E-FL-1-5.R1.fastq.gz',\n",
       " '/home/cfriedline/eckertlab/projects/burt/seq/160520/Burt1/T-AR-2-19.R1.fastq.gz',\n",
       " '/home/cfriedline/eckertlab/projects/burt/seq/160520/Burt1/E-FL-1-7.R1.fastq.gz',\n",
       " '/home/cfriedline/eckertlab/projects/burt/seq/160520/Burt1/T-VA-3-5.R1.fastq.gz',\n",
       " '/home/cfriedline/eckertlab/projects/burt/seq/160520/Burt1/T-FL-1-17.R1.fastq.gz',\n",
       " '/home/cfriedline/eckertlab/projects/burt/seq/160520/Burt1/P-FL-1-21.R1.fastq.gz',\n",
       " '/home/cfriedline/eckertlab/projects/burt/seq/160520/Burt1/T-AL-1-5.R1.fastq.gz',\n",
       " '/home/cfriedline/eckertlab/projects/burt/seq/160520/Burt1/E-FL-1-11.R1.fastq.gz',\n",
       " '/home/cfriedline/eckertlab/projects/burt/seq/160520/Burt1/T-FL-1-16.R1.fastq.gz',\n",
       " '/home/cfriedline/eckertlab/projects/burt/seq/160520/Burt1/T-GA-4-8.R1.fastq.gz',\n",
       " '/home/cfriedline/eckertlab/projects/burt/seq/160520/Burt1/T-AR-2-12.R1.fastq.gz',\n",
       " '/home/cfriedline/eckertlab/projects/burt/seq/160520/Burt1/T-AR-1-8.R1.fastq.gz',\n",
       " '/home/cfriedline/eckertlab/projects/burt/seq/160520/Burt1/P-FL-1-28.R1.fastq.gz',\n",
       " '/home/cfriedline/eckertlab/projects/burt/seq/160520/Burt1/T-FL-1-9.R1.fastq.gz',\n",
       " '/home/cfriedline/eckertlab/projects/burt/seq/160520/Burt1/T-VA-3-14.R1.fastq.gz',\n",
       " '/home/cfriedline/eckertlab/projects/burt/seq/160520/Burt1/T-AL-1-15.R1.fastq.gz',\n",
       " '/home/cfriedline/eckertlab/projects/burt/seq/160520/Burt1/T-AR-2-20.R1.fastq.gz',\n",
       " '/home/cfriedline/eckertlab/projects/burt/seq/160520/Burt1/E-FL-1-8.R1.fastq.gz',\n",
       " '/home/cfriedline/eckertlab/projects/burt/seq/160520/Burt1/T-AR-1-20.R1.fastq.gz',\n",
       " '/home/cfriedline/eckertlab/projects/burt/seq/160520/Burt1/T-AL-5-5.R1.fastq.gz',\n",
       " '/home/cfriedline/eckertlab/projects/burt/seq/160520/Burt1/T-AR-1-23.R1.fastq.gz',\n",
       " '/home/cfriedline/eckertlab/projects/burt/seq/160520/Burt1/P-FL-1-29.R1.fastq.gz',\n",
       " '/home/cfriedline/eckertlab/projects/burt/seq/160520/Burt1/G-SC-1-10.R1.fastq.gz',\n",
       " '/home/cfriedline/eckertlab/projects/burt/seq/160520/Burt1/P-LA-2-9.R1.fastq.gz',\n",
       " '/home/cfriedline/eckertlab/projects/burt/seq/160520/Burt1/P-FL-1-25.R1.fastq.gz',\n",
       " '/home/cfriedline/eckertlab/projects/burt/seq/160520/Burt1/T-FL-1-20.R1.fastq.gz',\n",
       " '/home/cfriedline/eckertlab/projects/burt/seq/160520/Burt1/T-MS-2-10.R1.fastq.gz',\n",
       " '/home/cfriedline/eckertlab/projects/burt/seq/160520/Burt1/T-AR-2-18.R1.fastq.gz',\n",
       " '/home/cfriedline/eckertlab/projects/burt/seq/160520/Burt1/P-LA-2-6.R1.fastq.gz',\n",
       " '/home/cfriedline/eckertlab/projects/burt/seq/160520/Burt1/P-FL-1-26.R1.fastq.gz',\n",
       " '/home/cfriedline/eckertlab/projects/burt/seq/160520/Burt1/T-AR-1-16.R1.fastq.gz',\n",
       " '/home/cfriedline/eckertlab/projects/burt/seq/160520/Burt1/T-VA-2-8.R1.fastq.gz',\n",
       " '/home/cfriedline/eckertlab/projects/burt/seq/160520/Burt1/P-FL-1-22.R1.fastq.gz',\n",
       " '/home/cfriedline/eckertlab/projects/burt/seq/160520/Burt1/P-AL-2-2.R1.fastq.gz',\n",
       " '/home/cfriedline/eckertlab/projects/burt/seq/160520/Burt1/P-FL-1-27.R1.fastq.gz',\n",
       " '/home/cfriedline/eckertlab/projects/burt/seq/160520/Burt2/T-AL-6-11.R1.fastq.gz',\n",
       " '/home/cfriedline/eckertlab/projects/burt/seq/160520/Burt2/E-SC-3-15.R1.fastq.gz',\n",
       " '/home/cfriedline/eckertlab/projects/burt/seq/160520/Burt2/P-GA-2-11.R1.fastq.gz',\n",
       " '/home/cfriedline/eckertlab/projects/burt/seq/160520/Burt2/E-SC-4-12.R1.fastq.gz',\n",
       " '/home/cfriedline/eckertlab/projects/burt/seq/160520/Burt2/P-GA-1-13.R1.fastq.gz',\n",
       " '/home/cfriedline/eckertlab/projects/burt/seq/160520/Burt2/T-AL-5-13.R1.fastq.gz',\n",
       " '/home/cfriedline/eckertlab/projects/burt/seq/160520/Burt2/T-AR-2-21.R1.fastq.gz',\n",
       " '/home/cfriedline/eckertlab/projects/burt/seq/160520/Burt2/T-GA-2-11.R1.fastq.gz',\n",
       " '/home/cfriedline/eckertlab/projects/burt/seq/160520/Burt2/P-GA-5-14.R1.fastq.gz',\n",
       " '/home/cfriedline/eckertlab/projects/burt/seq/160520/Burt2/E-SC-4-4.R1.fastq.gz',\n",
       " '/home/cfriedline/eckertlab/projects/burt/seq/160520/Burt2/P-AL-3-15.R1.fastq.gz',\n",
       " '/home/cfriedline/eckertlab/projects/burt/seq/160520/Burt2/P-AL-5-12.R1.fastq.gz',\n",
       " '/home/cfriedline/eckertlab/projects/burt/seq/160520/Burt2/P-AL-4-11.R1.fastq.gz',\n",
       " '/home/cfriedline/eckertlab/projects/burt/seq/160520/Burt2/P-AL-3-7.R1.fastq.gz',\n",
       " '/home/cfriedline/eckertlab/projects/burt/seq/160520/Burt2/P-GA-1-5.R1.fastq.gz',\n",
       " '/home/cfriedline/eckertlab/projects/burt/seq/160520/Burt2/E-SC-3-2.R1.fastq.gz',\n",
       " '/home/cfriedline/eckertlab/projects/burt/seq/160520/Burt2/E-FL-1-21.R1.fastq.gz',\n",
       " '/home/cfriedline/eckertlab/projects/burt/seq/160520/Burt2/P-AL-2-6.R1.fastq.gz',\n",
       " '/home/cfriedline/eckertlab/projects/burt/seq/160520/Burt2/E-SC-3-3.R1.fastq.gz',\n",
       " '/home/cfriedline/eckertlab/projects/burt/seq/160520/Burt2/E-FL-1-18.R1.fastq.gz',\n",
       " '/home/cfriedline/eckertlab/projects/burt/seq/160520/Burt2/E-SC-3-10.R1.fastq.gz',\n",
       " '/home/cfriedline/eckertlab/projects/burt/seq/160520/Burt2/P-AL-4-15.R1.fastq.gz',\n",
       " '/home/cfriedline/eckertlab/projects/burt/seq/160520/Burt2/E-SC-3-9.R1.fastq.gz',\n",
       " '/home/cfriedline/eckertlab/projects/burt/seq/160520/Burt2/T-AR-2-15.R1.fastq.gz',\n",
       " '/home/cfriedline/eckertlab/projects/burt/seq/160520/Burt2/E-FL-1-13.R1.fastq.gz',\n",
       " '/home/cfriedline/eckertlab/projects/burt/seq/160520/Burt2/P-GA-2-13.R1.fastq.gz',\n",
       " '/home/cfriedline/eckertlab/projects/burt/seq/160520/Burt2/P-GA-2-2.R1.fastq.gz',\n",
       " '/home/cfriedline/eckertlab/projects/burt/seq/160520/Burt2/E-GA-3-3.R1.fastq.gz',\n",
       " '/home/cfriedline/eckertlab/projects/burt/seq/160520/Burt2/E-SC-3-5.R1.fastq.gz',\n",
       " '/home/cfriedline/eckertlab/projects/burt/seq/160520/Burt2/P-AL-2-8.R1.fastq.gz',\n",
       " '/home/cfriedline/eckertlab/projects/burt/seq/160520/Burt2/T-AL-5-4.R1.fastq.gz',\n",
       " '/home/cfriedline/eckertlab/projects/burt/seq/160520/Burt2/P-GA-1-8.R1.fastq.gz',\n",
       " '/home/cfriedline/eckertlab/projects/burt/seq/160520/Burt2/T-AL-5-12.R1.fastq.gz',\n",
       " '/home/cfriedline/eckertlab/projects/burt/seq/160520/Burt2/T-GA-2-12.R1.fastq.gz',\n",
       " '/home/cfriedline/eckertlab/projects/burt/seq/160520/Burt2/T-AR-1-25.R1.fastq.gz',\n",
       " '/home/cfriedline/eckertlab/projects/burt/seq/160520/Burt2/E-FL-1-17.R1.fastq.gz',\n",
       " '/home/cfriedline/eckertlab/projects/burt/seq/160520/Burt2/E-FL-1-15.R1.fastq.gz',\n",
       " '/home/cfriedline/eckertlab/projects/burt/seq/160520/Burt2/E-SC-3-6.R1.fastq.gz',\n",
       " '/home/cfriedline/eckertlab/projects/burt/seq/160520/Burt2/E-GA-1-15.R1.fastq.gz',\n",
       " '/home/cfriedline/eckertlab/projects/burt/seq/160520/Burt2/T-AR-2-13.R1.fastq.gz',\n",
       " '/home/cfriedline/eckertlab/projects/burt/seq/160520/Burt2/P-GA-1-7.R1.fastq.gz',\n",
       " '/home/cfriedline/eckertlab/projects/burt/seq/160520/Burt2/P-AL-4-8.R1.fastq.gz',\n",
       " '/home/cfriedline/eckertlab/projects/burt/seq/160520/Burt2/E-SC-3-4.R1.fastq.gz',\n",
       " '/home/cfriedline/eckertlab/projects/burt/seq/160520/Burt2/T-AL-1-16.R1.fastq.gz',\n",
       " '/home/cfriedline/eckertlab/projects/burt/seq/160520/Burt2/P-GA-5-8.R1.fastq.gz',\n",
       " '/home/cfriedline/eckertlab/projects/burt/seq/160520/Burt2/E-FL-1-19.R1.fastq.gz',\n",
       " '/home/cfriedline/eckertlab/projects/burt/seq/160520/Burt2/P-AL-5-7.R1.fastq.gz',\n",
       " '/home/cfriedline/eckertlab/projects/burt/seq/160520/Burt2/E-SC-4-7.R1.fastq.gz',\n",
       " '/home/cfriedline/eckertlab/projects/burt/seq/160520/Burt2/T-AL-6-3.R1.fastq.gz',\n",
       " '/home/cfriedline/eckertlab/projects/burt/seq/160520/Burt2/T-GA-2-5.R1.fastq.gz',\n",
       " '/home/cfriedline/eckertlab/projects/burt/seq/160520/Burt2/T-AR-2-23.R1.fastq.gz',\n",
       " '/home/cfriedline/eckertlab/projects/burt/seq/160520/Burt2/T-AL-1-12.R1.fastq.gz',\n",
       " '/home/cfriedline/eckertlab/projects/burt/seq/160520/Burt2/P-AL-5-9.R1.fastq.gz',\n",
       " '/home/cfriedline/eckertlab/projects/burt/seq/160520/Burt2/T-AL-6-5.R1.fastq.gz',\n",
       " '/home/cfriedline/eckertlab/projects/burt/seq/160520/Burt2/P-GA-2-15.R1.fastq.gz',\n",
       " '/home/cfriedline/eckertlab/projects/burt/seq/160520/Burt2/T-AR-2-11.R1.fastq.gz',\n",
       " '/home/cfriedline/eckertlab/projects/burt/seq/160520/Burt2/E-SC-3-7.R1.fastq.gz',\n",
       " '/home/cfriedline/eckertlab/projects/burt/seq/160520/Burt2/T-VA-2-11.R1.fastq.gz',\n",
       " '/home/cfriedline/eckertlab/projects/burt/seq/160520/Burt2/T-AL-6-7.R1.fastq.gz',\n",
       " '/home/cfriedline/eckertlab/projects/burt/seq/160520/Burt2/E-SC-4-10.R1.fastq.gz',\n",
       " '/home/cfriedline/eckertlab/projects/burt/seq/160520/Burt2/E-SC-4-5.R1.fastq.gz',\n",
       " '/home/cfriedline/eckertlab/projects/burt/seq/160520/Burt2/P-GA-1-6.R1.fastq.gz',\n",
       " '/home/cfriedline/eckertlab/projects/burt/seq/160520/Burt2/T-AR-1-14.R1.fastq.gz',\n",
       " '/home/cfriedline/eckertlab/projects/burt/seq/160520/Burt2/E-SC-4-3.R1.fastq.gz',\n",
       " '/home/cfriedline/eckertlab/projects/burt/seq/160520/Burt2/E-SC-4-8.R1.fastq.gz',\n",
       " '/home/cfriedline/eckertlab/projects/burt/seq/160520/Burt2/E-SC-4-11.R1.fastq.gz',\n",
       " '/home/cfriedline/eckertlab/projects/burt/seq/160520/Burt2/P-AL-5-10.R1.fastq.gz',\n",
       " '/home/cfriedline/eckertlab/projects/burt/seq/160520/Burt2/T-AL-6-2.R1.fastq.gz',\n",
       " '/home/cfriedline/eckertlab/projects/burt/seq/160520/Burt2/T-AL-6-1.R1.fastq.gz',\n",
       " '/home/cfriedline/eckertlab/projects/burt/seq/160520/Burt2/E-SC-4-6.R1.fastq.gz',\n",
       " '/home/cfriedline/eckertlab/projects/burt/seq/160520/Burt2/T-FL-1-12.R1.fastq.gz',\n",
       " '/home/cfriedline/eckertlab/projects/burt/seq/160520/Burt2/E-SC-3-12.R1.fastq.gz',\n",
       " '/home/cfriedline/eckertlab/projects/burt/seq/160520/Burt2/T-GA-2-13.R1.fastq.gz',\n",
       " '/home/cfriedline/eckertlab/projects/burt/seq/160520/Burt2/T-AL-6-9.R1.fastq.gz',\n",
       " '/home/cfriedline/eckertlab/projects/burt/seq/160520/Burt2/T-AR-2-6.R1.fastq.gz',\n",
       " '/home/cfriedline/eckertlab/projects/burt/seq/160520/Burt2/T-AL-5-11.R1.fastq.gz',\n",
       " '/home/cfriedline/eckertlab/projects/burt/seq/160520/Burt2/T-AR-1-3.R1.fastq.gz',\n",
       " '/home/cfriedline/eckertlab/projects/burt/seq/160520/Burt2/P-GA-1-2.R1.fastq.gz',\n",
       " '/home/cfriedline/eckertlab/projects/burt/seq/160520/Burt2/P-GA-2-7.R1.fastq.gz',\n",
       " '/home/cfriedline/eckertlab/projects/burt/seq/160520/Burt2/T-GA-2-1.R1.fastq.gz',\n",
       " '/home/cfriedline/eckertlab/projects/burt/seq/160520/Burt2/T-AL-5-7.R1.fastq.gz',\n",
       " '/home/cfriedline/eckertlab/projects/burt/seq/160520/Burt2/T-AR-2-16.R1.fastq.gz',\n",
       " '/home/cfriedline/eckertlab/projects/burt/seq/160520/Burt2/E-SC-4-2.R1.fastq.gz',\n",
       " '/home/cfriedline/eckertlab/projects/burt/seq/160520/Burt2/P-AL-4-7.R1.fastq.gz',\n",
       " '/home/cfriedline/eckertlab/projects/burt/seq/160520/Burt2/P-AL-2-3.R1.fastq.gz',\n",
       " '/home/cfriedline/eckertlab/projects/burt/seq/160520/Burt2/T-AR-1-7.R1.fastq.gz',\n",
       " '/home/cfriedline/eckertlab/projects/burt/seq/160520/Burt2/E-SC-3-1.R1.fastq.gz',\n",
       " '/home/cfriedline/eckertlab/projects/burt/seq/160520/Burt2/E-SC-4-14.R1.fastq.gz',\n",
       " '/home/cfriedline/eckertlab/projects/burt/seq/160520/Burt2/P-SC-1-15.R1.fastq.gz',\n",
       " '/home/cfriedline/eckertlab/projects/burt/seq/160520/Burt2/P-GA-2-10.R1.fastq.gz',\n",
       " '/home/cfriedline/eckertlab/projects/burt/seq/160520/Burt2/E-SC-3-11.R1.fastq.gz',\n",
       " '/home/cfriedline/eckertlab/projects/burt/seq/160520/Burt2/P-AL-4-3.R1.fastq.gz',\n",
       " '/home/cfriedline/eckertlab/projects/burt/seq/160520/Burt2/T-AR-1-12.R1.fastq.gz',\n",
       " '/home/cfriedline/eckertlab/projects/burt/seq/160520/Burt2/P-GA-2-3.R1.fastq.gz',\n",
       " '/home/cfriedline/eckertlab/projects/burt/seq/160520/Burt2/E-GA-1-5.R1.fastq.gz',\n",
       " '/home/cfriedline/eckertlab/projects/burt/seq/160520/Burt2/T-AL-6-6.R1.fastq.gz',\n",
       " '/home/cfriedline/eckertlab/projects/burt/seq/160520/Burt3/T-AR-1-13.R1.fastq.gz',\n",
       " '/home/cfriedline/eckertlab/projects/burt/seq/160520/Burt3/T-AL-1-24.R1.fastq.gz',\n",
       " '/home/cfriedline/eckertlab/projects/burt/seq/160520/Burt3/P-GA-3-12.R1.fastq.gz',\n",
       " '/home/cfriedline/eckertlab/projects/burt/seq/160520/Burt3/T-GA-2-14.R1.fastq.gz',\n",
       " '/home/cfriedline/eckertlab/projects/burt/seq/160520/Burt3/T-GA-2-10.R1.fastq.gz',\n",
       " '/home/cfriedline/eckertlab/projects/burt/seq/160520/Burt3/P-SC-1-6.R1.fastq.gz',\n",
       " '/home/cfriedline/eckertlab/projects/burt/seq/160520/Burt3/T-GA-2-15.R1.fastq.gz',\n",
       " '/home/cfriedline/eckertlab/projects/burt/seq/160520/Burt3/P-SC-1-5.R1.fastq.gz',\n",
       " '/home/cfriedline/eckertlab/projects/burt/seq/160520/Burt3/E-SC-6-15.R1.fastq.gz',\n",
       " '/home/cfriedline/eckertlab/projects/burt/seq/160520/Burt3/T-AR-1-18.R1.fastq.gz',\n",
       " '/home/cfriedline/eckertlab/projects/burt/seq/160520/Burt3/T-AL-6-14.R1.fastq.gz',\n",
       " '/home/cfriedline/eckertlab/projects/burt/seq/160520/Burt3/E-GA-3-10.R1.fastq.gz',\n",
       " '/home/cfriedline/eckertlab/projects/burt/seq/160520/Burt3/P-SC-1-2.R1.fastq.gz',\n",
       " '/home/cfriedline/eckertlab/projects/burt/seq/160520/Burt3/P-GA-3-13.R1.fastq.gz',\n",
       " '/home/cfriedline/eckertlab/projects/burt/seq/160520/Burt3/P-AL-5-1.R1.fastq.gz',\n",
       " '/home/cfriedline/eckertlab/projects/burt/seq/160520/Burt3/T-GA-3-4.R1.fastq.gz',\n",
       " '/home/cfriedline/eckertlab/projects/burt/seq/160520/Burt3/T-AL-1-7.R1.fastq.gz',\n",
       " '/home/cfriedline/eckertlab/projects/burt/seq/160520/Burt3/T-VA-1-11.R1.fastq.gz',\n",
       " '/home/cfriedline/eckertlab/projects/burt/seq/160520/Burt3/T-GA-3-14.R1.fastq.gz',\n",
       " '/home/cfriedline/eckertlab/projects/burt/seq/160520/Burt3/E-SC-6-7.R1.fastq.gz',\n",
       " '/home/cfriedline/eckertlab/projects/burt/seq/160520/Burt3/P-SC-1-1.R1.fastq.gz',\n",
       " '/home/cfriedline/eckertlab/projects/burt/seq/160520/Burt3/E-GA-2-6.R1.fastq.gz',\n",
       " '/home/cfriedline/eckertlab/projects/burt/seq/160520/Burt3/T-AR-2-3.R1.fastq.gz',\n",
       " '/home/cfriedline/eckertlab/projects/burt/seq/160520/Burt3/T-AL-1-21.R1.fastq.gz',\n",
       " '/home/cfriedline/eckertlab/projects/burt/seq/160520/Burt3/P-GA-4-14.R1.fastq.gz',\n",
       " '/home/cfriedline/eckertlab/projects/burt/seq/160520/Burt3/E-SC-6-12.R1.fastq.gz',\n",
       " '/home/cfriedline/eckertlab/projects/burt/seq/160520/Burt3/P-GA-1-14.R1.fastq.gz',\n",
       " '/home/cfriedline/eckertlab/projects/burt/seq/160520/Burt3/P-FL-1-13.R1.fastq.gz',\n",
       " '/home/cfriedline/eckertlab/projects/burt/seq/160520/Burt3/E-GA-1-3.R1.fastq.gz',\n",
       " '/home/cfriedline/eckertlab/projects/burt/seq/160520/Burt3/T-AL-1-18.R1.fastq.gz',\n",
       " '/home/cfriedline/eckertlab/projects/burt/seq/160520/Burt3/E-SC-6-8.R1.fastq.gz',\n",
       " '/home/cfriedline/eckertlab/projects/burt/seq/160520/Burt3/P-AL-5-11.R1.fastq.gz',\n",
       " '/home/cfriedline/eckertlab/projects/burt/seq/160520/Burt3/T-TX-1-15.R1.fastq.gz',\n",
       " '/home/cfriedline/eckertlab/projects/burt/seq/160520/Burt3/T-GA-2-2.R1.fastq.gz',\n",
       " '/home/cfriedline/eckertlab/projects/burt/seq/160520/Burt3/T-VA-3-12.R1.fastq.gz',\n",
       " '/home/cfriedline/eckertlab/projects/burt/seq/160520/Burt3/P-GA-3-3.R1.fastq.gz',\n",
       " '/home/cfriedline/eckertlab/projects/burt/seq/160520/Burt3/P-SC-1-9.R1.fastq.gz',\n",
       " '/home/cfriedline/eckertlab/projects/burt/seq/160520/Burt3/P-SC-1-8.R1.fastq.gz',\n",
       " '/home/cfriedline/eckertlab/projects/burt/seq/160520/Burt3/E-SC-4-1.R1.fastq.gz',\n",
       " '/home/cfriedline/eckertlab/projects/burt/seq/160520/Burt3/P-LA-2-1.R1.fastq.gz',\n",
       " '/home/cfriedline/eckertlab/projects/burt/seq/160520/Burt3/P-SC-1-13.R1.fastq.gz',\n",
       " '/home/cfriedline/eckertlab/projects/burt/seq/160520/Burt3/P-AL-5-15.R1.fastq.gz',\n",
       " '/home/cfriedline/eckertlab/projects/burt/seq/160520/Burt3/P-GA-2-6.R1.fastq.gz',\n",
       " '/home/cfriedline/eckertlab/projects/burt/seq/160520/Burt3/P-FL-1-1.R1.fastq.gz',\n",
       " '/home/cfriedline/eckertlab/projects/burt/seq/160520/Burt3/E-GA-1-4.R1.fastq.gz',\n",
       " '/home/cfriedline/eckertlab/projects/burt/seq/160520/Burt3/T-AR-1-5.R1.fastq.gz',\n",
       " '/home/cfriedline/eckertlab/projects/burt/seq/160520/Burt3/T-GA-4-14.R1.fastq.gz',\n",
       " '/home/cfriedline/eckertlab/projects/burt/seq/160520/Burt3/P-GA-3-9.R1.fastq.gz',\n",
       " '/home/cfriedline/eckertlab/projects/burt/seq/160520/Burt3/E-SC-3-13.R1.fastq.gz',\n",
       " '/home/cfriedline/eckertlab/projects/burt/seq/160520/Burt3/P-GA-4-9.R1.fastq.gz',\n",
       " '/home/cfriedline/eckertlab/projects/burt/seq/160520/Burt3/T-GA-4-7.R1.fastq.gz',\n",
       " '/home/cfriedline/eckertlab/projects/burt/seq/160520/Burt3/P-SC-1-10.R1.fastq.gz',\n",
       " '/home/cfriedline/eckertlab/projects/burt/seq/160520/Burt3/T-AL-6-4.R1.fastq.gz',\n",
       " '/home/cfriedline/eckertlab/projects/burt/seq/160520/Burt3/T-GA-2-3.R1.fastq.gz',\n",
       " '/home/cfriedline/eckertlab/projects/burt/seq/160520/Burt3/P-GA-3-10.R1.fastq.gz',\n",
       " '/home/cfriedline/eckertlab/projects/burt/seq/160520/Burt3/E-SC-6-5.R1.fastq.gz',\n",
       " '/home/cfriedline/eckertlab/projects/burt/seq/160520/Burt3/P-AL-2-10.R1.fastq.gz',\n",
       " '/home/cfriedline/eckertlab/projects/burt/seq/160520/Burt3/P-FL-1-20.R1.fastq.gz',\n",
       " '/home/cfriedline/eckertlab/projects/burt/seq/160520/Burt3/T-GA-4-6.R1.fastq.gz',\n",
       " '/home/cfriedline/eckertlab/projects/burt/seq/160520/Burt3/E-SC-6-9.R1.fastq.gz',\n",
       " '/home/cfriedline/eckertlab/projects/burt/seq/160520/Burt3/P-SC-1-3.R1.fastq.gz',\n",
       " '/home/cfriedline/eckertlab/projects/burt/seq/160520/Burt3/P-GA-2-14.R1.fastq.gz',\n",
       " '/home/cfriedline/eckertlab/projects/burt/seq/160520/Burt3/E-SC-6-10.R1.fastq.gz',\n",
       " '/home/cfriedline/eckertlab/projects/burt/seq/160520/Burt3/P-SC-1-4.R1.fastq.gz',\n",
       " '/home/cfriedline/eckertlab/projects/burt/seq/160520/Burt3/P-LA-1-14.R1.fastq.gz',\n",
       " '/home/cfriedline/eckertlab/projects/burt/seq/160520/Burt3/P-GA-5-4.R1.fastq.gz',\n",
       " '/home/cfriedline/eckertlab/projects/burt/seq/160520/Burt3/P-GA-3-11.R1.fastq.gz',\n",
       " '/home/cfriedline/eckertlab/projects/burt/seq/160520/Burt3/E-SC-6-14.R1.fastq.gz',\n",
       " '/home/cfriedline/eckertlab/projects/burt/seq/160520/Burt3/P-AL-5-3.R1.fastq.gz',\n",
       " '/home/cfriedline/eckertlab/projects/burt/seq/160520/Burt3/T-GA-2-7.R1.fastq.gz',\n",
       " '/home/cfriedline/eckertlab/projects/burt/seq/160520/Burt3/T-GA-4-1.R1.fastq.gz',\n",
       " '/home/cfriedline/eckertlab/projects/burt/seq/160520/Burt3/T-GA-4-3.R1.fastq.gz',\n",
       " '/home/cfriedline/eckertlab/projects/burt/seq/160520/Burt3/P-FL-1-2.R1.fastq.gz',\n",
       " '/home/cfriedline/eckertlab/projects/burt/seq/160520/Burt3/T-TX-1-5.R1.fastq.gz',\n",
       " '/home/cfriedline/eckertlab/projects/burt/seq/160520/Burt3/P-GA-3-15.R1.fastq.gz',\n",
       " '/home/cfriedline/eckertlab/projects/burt/seq/160520/Burt3/T-MS-2-9.R1.fastq.gz',\n",
       " '/home/cfriedline/eckertlab/projects/burt/seq/160520/Burt3/T-AR-1-1.R1.fastq.gz',\n",
       " '/home/cfriedline/eckertlab/projects/burt/seq/160520/Burt3/E-SC-6-3.R1.fastq.gz',\n",
       " '/home/cfriedline/eckertlab/projects/burt/seq/160520/Burt3/T-GA-3-10.R1.fastq.gz',\n",
       " '/home/cfriedline/eckertlab/projects/burt/seq/160520/Burt3/P-SC-1-12.R1.fastq.gz',\n",
       " '/home/cfriedline/eckertlab/projects/burt/seq/160520/Burt3/P-GA-4-6.R1.fastq.gz',\n",
       " '/home/cfriedline/eckertlab/projects/burt/seq/160520/Burt3/T-VA-3-2.R1.fastq.gz',\n",
       " '/home/cfriedline/eckertlab/projects/burt/seq/160520/Burt3/T-AL-1-23.R1.fastq.gz',\n",
       " '/home/cfriedline/eckertlab/projects/burt/seq/160520/Burt3/T-GA-3-15.R1.fastq.gz',\n",
       " '/home/cfriedline/eckertlab/projects/burt/seq/160520/Burt3/E-SC-6-2.R1.fastq.gz',\n",
       " '/home/cfriedline/eckertlab/projects/burt/seq/160520/Burt3/T-AR-1-24.R1.fastq.gz',\n",
       " '/home/cfriedline/eckertlab/projects/burt/seq/160520/Burt3/P-GA-1-15.R1.fastq.gz',\n",
       " '/home/cfriedline/eckertlab/projects/burt/seq/160520/Burt3/E-FL-1-2.R1.fastq.gz',\n",
       " '/home/cfriedline/eckertlab/projects/burt/seq/160520/Burt3/E-SC-4-15.R1.fastq.gz',\n",
       " '/home/cfriedline/eckertlab/projects/burt/seq/160520/Burt3/T-GA-4-10.R1.fastq.gz',\n",
       " '/home/cfriedline/eckertlab/projects/burt/seq/160520/Burt3/E-SC-6-6.R1.fastq.gz',\n",
       " '/home/cfriedline/eckertlab/projects/burt/seq/160520/Burt3/E-SC-6-1.R1.fastq.gz',\n",
       " '/home/cfriedline/eckertlab/projects/burt/seq/160520/Burt3/P-GA-4-4.R1.fastq.gz',\n",
       " '/home/cfriedline/eckertlab/projects/burt/seq/160520/Burt3/T-AL-6-12.R1.fastq.gz',\n",
       " '/home/cfriedline/eckertlab/projects/burt/seq/160520/Burt3/E-SC-6-13.R1.fastq.gz',\n",
       " '/home/cfriedline/eckertlab/projects/burt/seq/160520/Burt3/T-AR-1-6.R1.fastq.gz',\n",
       " '/home/cfriedline/eckertlab/projects/burt/seq/160520/Burt4/P-AL-4-9.R1.fastq.gz',\n",
       " '/home/cfriedline/eckertlab/projects/burt/seq/160520/Burt4/P-AL-4-14.R1.fastq.gz',\n",
       " '/home/cfriedline/eckertlab/projects/burt/seq/160520/Burt4/P-GA-5-2.R1.fastq.gz',\n",
       " '/home/cfriedline/eckertlab/projects/burt/seq/160520/Burt4/E-GA-3-5.R1.fastq.gz',\n",
       " '/home/cfriedline/eckertlab/projects/burt/seq/160520/Burt4/E-GA-3-7.R1.fastq.gz',\n",
       " '/home/cfriedline/eckertlab/projects/burt/seq/160520/Burt4/T-FL-1-4.R1.fastq.gz',\n",
       " '/home/cfriedline/eckertlab/projects/burt/seq/160520/Burt4/T-AL-5-14.R1.fastq.gz',\n",
       " '/home/cfriedline/eckertlab/projects/burt/seq/160520/Burt4/T-AL-5-8.R1.fastq.gz',\n",
       " '/home/cfriedline/eckertlab/projects/burt/seq/160520/Burt4/E-GA-3-15.R1.fastq.gz',\n",
       " '/home/cfriedline/eckertlab/projects/burt/seq/160520/Burt4/P-GA-1-11.R1.fastq.gz',\n",
       " '/home/cfriedline/eckertlab/projects/burt/seq/160520/Burt4/E-GA-3-12.R1.fastq.gz',\n",
       " '/home/cfriedline/eckertlab/projects/burt/seq/160520/Burt4/E-GA-3-4.R1.fastq.gz',\n",
       " '/home/cfriedline/eckertlab/projects/burt/seq/160520/Burt4/P-AL-4-4.R1.fastq.gz',\n",
       " '/home/cfriedline/eckertlab/projects/burt/seq/160520/Burt4/P-AL-3-10.R1.fastq.gz',\n",
       " '/home/cfriedline/eckertlab/projects/burt/seq/160520/Burt4/P-GA-2-5.R1.fastq.gz',\n",
       " '/home/cfriedline/eckertlab/projects/burt/seq/160520/Burt4/P-AL-2-13.R1.fastq.gz',\n",
       " '/home/cfriedline/eckertlab/projects/burt/seq/160520/Burt4/E-GA-2-7.R1.fastq.gz',\n",
       " '/home/cfriedline/eckertlab/projects/burt/seq/160520/Burt4/E-GA-2-15.R1.fastq.gz',\n",
       " '/home/cfriedline/eckertlab/projects/burt/seq/160520/Burt4/T-VA-1-3.R1.fastq.gz',\n",
       " '/home/cfriedline/eckertlab/projects/burt/seq/160520/Burt4/T-AL-5-10.R1.fastq.gz',\n",
       " '/home/cfriedline/eckertlab/projects/burt/seq/160520/Burt4/E-GA-3-6.R1.fastq.gz',\n",
       " '/home/cfriedline/eckertlab/projects/burt/seq/160520/Burt4/P-GA-4-5.R1.fastq.gz',\n",
       " '/home/cfriedline/eckertlab/projects/burt/seq/160520/Burt4/T-FL-1-14.R1.fastq.gz',\n",
       " '/home/cfriedline/eckertlab/projects/burt/seq/160520/Burt4/T-FL-1-15.R1.fastq.gz',\n",
       " '/home/cfriedline/eckertlab/projects/burt/seq/160520/Burt4/E-GA-2-11.R1.fastq.gz',\n",
       " '/home/cfriedline/eckertlab/projects/burt/seq/160520/Burt4/E-GA-1-10.R1.fastq.gz',\n",
       " '/home/cfriedline/eckertlab/projects/burt/seq/160520/Burt4/T-VA-3-4.R1.fastq.gz',\n",
       " '/home/cfriedline/eckertlab/projects/burt/seq/160520/Burt4/E-GA-2-1.R1.fastq.gz',\n",
       " '/home/cfriedline/eckertlab/projects/burt/seq/160520/Burt4/T-VA-1-7.R1.fastq.gz',\n",
       " '/home/cfriedline/eckertlab/projects/burt/seq/160520/Burt4/E-GA-2-12.R1.fastq.gz',\n",
       " '/home/cfriedline/eckertlab/projects/burt/seq/160520/Burt4/E-GA-1-11.R1.fastq.gz',\n",
       " '/home/cfriedline/eckertlab/projects/burt/seq/160520/Burt4/E-GA-2-8.R1.fastq.gz',\n",
       " '/home/cfriedline/eckertlab/projects/burt/seq/160520/Burt4/E-GA-1-12.R1.fastq.gz',\n",
       " '/home/cfriedline/eckertlab/projects/burt/seq/160520/Burt4/T-GA-3-11.R1.fastq.gz',\n",
       " '/home/cfriedline/eckertlab/projects/burt/seq/160520/Burt4/E-GA-3-13.R1.fastq.gz',\n",
       " '/home/cfriedline/eckertlab/projects/burt/seq/160520/Burt4/P-AL-3-9.R1.fastq.gz',\n",
       " '/home/cfriedline/eckertlab/projects/burt/seq/160520/Burt4/T-GA-3-1.R1.fastq.gz',\n",
       " '/home/cfriedline/eckertlab/projects/burt/seq/160520/Burt4/T-VA-1-12.R1.fastq.gz',\n",
       " '/home/cfriedline/eckertlab/projects/burt/seq/160520/Burt4/T-GA-3-13.R1.fastq.gz',\n",
       " '/home/cfriedline/eckertlab/projects/burt/seq/160520/Burt4/P-AL-3-12.R1.fastq.gz',\n",
       " '/home/cfriedline/eckertlab/projects/burt/seq/160520/Burt4/P-AL-5-8.R1.fastq.gz',\n",
       " '/home/cfriedline/eckertlab/projects/burt/seq/160520/Burt4/E-GA-2-3.R1.fastq.gz',\n",
       " '/home/cfriedline/eckertlab/projects/burt/seq/160520/Burt4/P-GA-3-5.R1.fastq.gz',\n",
       " '/home/cfriedline/eckertlab/projects/burt/seq/160520/Burt4/E-GA-1-8.R1.fastq.gz',\n",
       " '/home/cfriedline/eckertlab/projects/burt/seq/160520/Burt4/T-VA-1-8.R1.fastq.gz',\n",
       " '/home/cfriedline/eckertlab/projects/burt/seq/160520/Burt4/T-GA-3-3.R1.fastq.gz',\n",
       " '/home/cfriedline/eckertlab/projects/burt/seq/160520/Burt4/T-VA-1-10.R1.fastq.gz',\n",
       " '/home/cfriedline/eckertlab/projects/burt/seq/160520/Burt4/P-AL-4-2.R1.fastq.gz',\n",
       " '/home/cfriedline/eckertlab/projects/burt/seq/160520/Burt4/E-GA-1-9.R1.fastq.gz',\n",
       " '/home/cfriedline/eckertlab/projects/burt/seq/160520/Burt4/T-VA-1-6.R1.fastq.gz',\n",
       " '/home/cfriedline/eckertlab/projects/burt/seq/160520/Burt4/T-FL-1-11.R1.fastq.gz',\n",
       " '/home/cfriedline/eckertlab/projects/burt/seq/160520/Burt4/P-AL-5-4.R1.fastq.gz',\n",
       " '/home/cfriedline/eckertlab/projects/burt/seq/160520/Burt4/T-FL-1-10.R1.fastq.gz',\n",
       " '/home/cfriedline/eckertlab/projects/burt/seq/160520/Burt4/E-GA-3-2.R1.fastq.gz',\n",
       " '/home/cfriedline/eckertlab/projects/burt/seq/160520/Burt4/P-AL-5-14.R1.fastq.gz',\n",
       " '/home/cfriedline/eckertlab/projects/burt/seq/160520/Burt4/P-GA-4-7.R1.fastq.gz',\n",
       " '/home/cfriedline/eckertlab/projects/burt/seq/160520/Burt4/E-GA-2-4.R1.fastq.gz',\n",
       " '/home/cfriedline/eckertlab/projects/burt/seq/160520/Burt4/T-AL-5-1.R1.fastq.gz',\n",
       " '/home/cfriedline/eckertlab/projects/burt/seq/160520/Burt4/T-FL-1-7.R1.fastq.gz',\n",
       " '/home/cfriedline/eckertlab/projects/burt/seq/160520/Burt4/E-GA-3-11.R1.fastq.gz',\n",
       " '/home/cfriedline/eckertlab/projects/burt/seq/160520/Burt4/T-VA-2-1.R1.fastq.gz',\n",
       " '/home/cfriedline/eckertlab/projects/burt/seq/160520/Burt4/E-GA-1-14.R1.fastq.gz',\n",
       " '/home/cfriedline/eckertlab/projects/burt/seq/160520/Burt4/E-GA-2-10.R1.fastq.gz',\n",
       " '/home/cfriedline/eckertlab/projects/burt/seq/160520/Burt4/P-AL-4-1.R1.fastq.gz',\n",
       " '/home/cfriedline/eckertlab/projects/burt/seq/160520/Burt4/P-GA-3-14.R1.fastq.gz',\n",
       " '/home/cfriedline/eckertlab/projects/burt/seq/160520/Burt4/T-FL-1-2.R1.fastq.gz',\n",
       " '/home/cfriedline/eckertlab/projects/burt/seq/160520/Burt4/E-GA-1-1.R1.fastq.gz',\n",
       " '/home/cfriedline/eckertlab/projects/burt/seq/160520/Burt4/E-GA-1-6.R1.fastq.gz',\n",
       " '/home/cfriedline/eckertlab/projects/burt/seq/160520/Burt4/E-GA-2-9.R1.fastq.gz',\n",
       " '/home/cfriedline/eckertlab/projects/burt/seq/160520/Burt4/P-GA-4-1.R1.fastq.gz',\n",
       " '/home/cfriedline/eckertlab/projects/burt/seq/160520/Burt4/P-GA-1-3.R1.fastq.gz',\n",
       " '/home/cfriedline/eckertlab/projects/burt/seq/160520/Burt4/P-AL-4-10.R1.fastq.gz',\n",
       " '/home/cfriedline/eckertlab/projects/burt/seq/160520/Burt4/P-AL-3-14.R1.fastq.gz',\n",
       " '/home/cfriedline/eckertlab/projects/burt/seq/160520/Burt4/E-GA-3-14.R1.fastq.gz',\n",
       " '/home/cfriedline/eckertlab/projects/burt/seq/160520/Burt4/T-AL-6-13.R1.fastq.gz',\n",
       " '/home/cfriedline/eckertlab/projects/burt/seq/160520/Burt4/E-GA-2-14.R1.fastq.gz',\n",
       " '/home/cfriedline/eckertlab/projects/burt/seq/160520/Burt4/E-GA-2-13.R1.fastq.gz',\n",
       " '/home/cfriedline/eckertlab/projects/burt/seq/160520/Burt4/P-GA-5-1.R1.fastq.gz',\n",
       " '/home/cfriedline/eckertlab/projects/burt/seq/160520/Burt4/E-GA-1-13.R1.fastq.gz',\n",
       " '/home/cfriedline/eckertlab/projects/burt/seq/160520/Burt4/T-VA-1-2.R1.fastq.gz',\n",
       " '/home/cfriedline/eckertlab/projects/burt/seq/160520/Burt4/P-GA-4-10.R1.fastq.gz',\n",
       " '/home/cfriedline/eckertlab/projects/burt/seq/160520/Burt4/E-GA-2-2.R1.fastq.gz',\n",
       " '/home/cfriedline/eckertlab/projects/burt/seq/160520/Burt4/E-GA-1-7.R1.fastq.gz',\n",
       " '/home/cfriedline/eckertlab/projects/burt/seq/160520/Burt4/T-FL-1-1.R1.fastq.gz',\n",
       " '/home/cfriedline/eckertlab/projects/burt/seq/160520/Burt4/P-AL-3-8.R1.fastq.gz',\n",
       " '/home/cfriedline/eckertlab/projects/burt/seq/160520/Burt4/T-GA-4-11.R1.fastq.gz',\n",
       " '/home/cfriedline/eckertlab/projects/burt/seq/160520/Burt4/T-GA-4-13.R1.fastq.gz',\n",
       " '/home/cfriedline/eckertlab/projects/burt/seq/160520/Burt4/T-VA-2-2.R1.fastq.gz',\n",
       " '/home/cfriedline/eckertlab/projects/burt/seq/160520/Burt4/T-AL-4-14.R1.fastq.gz',\n",
       " '/home/cfriedline/eckertlab/projects/burt/seq/160520/Burt4/T-VA-2-7.R1.fastq.gz',\n",
       " '/home/cfriedline/eckertlab/projects/burt/seq/160520/Burt4/T-VA-2-12.R1.fastq.gz',\n",
       " '/home/cfriedline/eckertlab/projects/burt/seq/160520/Burt4/E-GA-3-9.R1.fastq.gz',\n",
       " '/home/cfriedline/eckertlab/projects/burt/seq/160520/Burt4/T-AL-5-3.R1.fastq.gz',\n",
       " '/home/cfriedline/eckertlab/projects/burt/seq/160520/Burt4/T-VA-1-5.R1.fastq.gz',\n",
       " '/home/cfriedline/eckertlab/projects/burt/seq/160520/Burt4/T-VA-2-15.R1.fastq.gz',\n",
       " '/home/cfriedline/eckertlab/projects/burt/seq/160520/Burt4/E-GA-3-1.R1.fastq.gz',\n",
       " '/home/cfriedline/eckertlab/projects/burt/seq/160520/Burt5/P-LA-2-11.R1.fastq.gz',\n",
       " '/home/cfriedline/eckertlab/projects/burt/seq/160520/Burt5/T-FL-1-13.R1.fastq.gz',\n",
       " '/home/cfriedline/eckertlab/projects/burt/seq/160520/Burt5/P-GA-4-13.R1.fastq.gz',\n",
       " '/home/cfriedline/eckertlab/projects/burt/seq/160520/Burt5/T-VA-3-6.R1.fastq.gz',\n",
       " '/home/cfriedline/eckertlab/projects/burt/seq/160520/Burt5/T-AL-5-6.R1.fastq.gz',\n",
       " '/home/cfriedline/eckertlab/projects/burt/seq/160520/Burt5/T-GA-2-6.R1.fastq.gz',\n",
       " '/home/cfriedline/eckertlab/projects/burt/seq/160520/Burt5/E-FL-1-9.R1.fastq.gz',\n",
       " '/home/cfriedline/eckertlab/projects/burt/seq/160520/Burt5/T-AL-1-3.R1.fastq.gz',\n",
       " '/home/cfriedline/eckertlab/projects/burt/seq/160520/Burt5/T-AR-1-22.R1.fastq.gz',\n",
       " '/home/cfriedline/eckertlab/projects/burt/seq/160520/Burt5/P-GA-3-6.R1.fastq.gz',\n",
       " '/home/cfriedline/eckertlab/projects/burt/seq/160520/Burt5/P-AL-4-6.R1.fastq.gz',\n",
       " '/home/cfriedline/eckertlab/projects/burt/seq/160520/Burt5/P-LA-2-4.R1.fastq.gz',\n",
       " '/home/cfriedline/eckertlab/projects/burt/seq/160520/Burt5/P-SC-1-11.R1.fastq.gz',\n",
       " '/home/cfriedline/eckertlab/projects/burt/seq/160520/Burt5/T-AL-1-17.R1.fastq.gz',\n",
       " '/home/cfriedline/eckertlab/projects/burt/seq/160520/Burt5/T-VA-1-14.R1.fastq.gz',\n",
       " '/home/cfriedline/eckertlab/projects/burt/seq/160520/Burt5/P-FL-1-3.R1.fastq.gz',\n",
       " '/home/cfriedline/eckertlab/projects/burt/seq/160520/Burt5/P-LA-2-2.R1.fastq.gz',\n",
       " '/home/cfriedline/eckertlab/projects/burt/seq/160520/Burt5/T-VA-1-4.R1.fastq.gz',\n",
       " '/home/cfriedline/eckertlab/projects/burt/seq/160520/Burt5/T-VA-1-9.R1.fastq.gz',\n",
       " '/home/cfriedline/eckertlab/projects/burt/seq/160520/Burt5/T-GA-4-4.R1.fastq.gz',\n",
       " '/home/cfriedline/eckertlab/projects/burt/seq/160520/Burt5/P-AL-5-2.R1.fastq.gz',\n",
       " '/home/cfriedline/eckertlab/projects/burt/seq/160520/Burt5/P-GA-5-6.R1.fastq.gz',\n",
       " '/home/cfriedline/eckertlab/projects/burt/seq/160520/Burt5/P-GA-5-3.R1.fastq.gz',\n",
       " '/home/cfriedline/eckertlab/projects/burt/seq/160520/Burt5/P-LA-2-3.R1.fastq.gz',\n",
       " '/home/cfriedline/eckertlab/projects/burt/seq/160520/Burt5/T-GA-4-15.R1.fastq.gz',\n",
       " '/home/cfriedline/eckertlab/projects/burt/seq/160520/Burt5/T-VA-1-13.R1.fastq.gz',\n",
       " '/home/cfriedline/eckertlab/projects/burt/seq/160520/Burt5/P-GA-1-12.R1.fastq.gz',\n",
       " '/home/cfriedline/eckertlab/projects/burt/seq/160520/Burt5/E-SC-6-11.R1.fastq.gz',\n",
       " '/home/cfriedline/eckertlab/projects/burt/seq/160520/Burt5/T-TX-1-1.R1.fastq.gz',\n",
       " '/home/cfriedline/eckertlab/projects/burt/seq/160520/Burt5/P-LA-2-8.R1.fastq.gz',\n",
       " '/home/cfriedline/eckertlab/projects/burt/seq/160520/Burt5/P-AL-3-4.R1.fastq.gz',\n",
       " '/home/cfriedline/eckertlab/projects/burt/seq/160520/Burt5/P-SC-1-7.R1.fastq.gz',\n",
       " '/home/cfriedline/eckertlab/projects/burt/seq/160520/Burt5/T-VA-2-5.R1.fastq.gz',\n",
       " '/home/cfriedline/eckertlab/projects/burt/seq/160520/Burt5/P-GA-3-1.R1.fastq.gz',\n",
       " '/home/cfriedline/eckertlab/projects/burt/seq/160520/Burt5/T-VA-1-15.R1.fastq.gz',\n",
       " '/home/cfriedline/eckertlab/projects/burt/seq/160520/Burt5/P-GA-3-8.R1.fastq.gz',\n",
       " '/home/cfriedline/eckertlab/projects/burt/seq/160520/Burt5/P-LA-2-15.R1.fastq.gz',\n",
       " '/home/cfriedline/eckertlab/projects/burt/seq/160520/Burt5/P-GA-1-10.R1.fastq.gz',\n",
       " '/home/cfriedline/eckertlab/projects/burt/seq/160520/Burt5/T-AR-2-25.R1.fastq.gz',\n",
       " '/home/cfriedline/eckertlab/projects/burt/seq/160520/Burt5/T-VA-2-6.R1.fastq.gz',\n",
       " '/home/cfriedline/eckertlab/projects/burt/seq/160520/Burt5/T-VA-2-14.R1.fastq.gz',\n",
       " '/home/cfriedline/eckertlab/projects/burt/seq/160520/Burt5/T-AR-1-4.R1.fastq.gz',\n",
       " '/home/cfriedline/eckertlab/projects/burt/seq/160520/Burt5/P-GA-4-15.R1.fastq.gz',\n",
       " '/home/cfriedline/eckertlab/projects/burt/seq/160520/Burt5/P-AL-2-15.R1.fastq.gz',\n",
       " '/home/cfriedline/eckertlab/projects/burt/seq/160520/Burt5/P-GA-5-12.R1.fastq.gz',\n",
       " '/home/cfriedline/eckertlab/projects/burt/seq/160520/Burt5/T-GA-4-12.R1.fastq.gz',\n",
       " '/home/cfriedline/eckertlab/projects/burt/seq/160520/Burt5/P-GA-5-7.R1.fastq.gz',\n",
       " '/home/cfriedline/eckertlab/projects/burt/seq/160520/Burt5/E-GA-2-5.R1.fastq.gz',\n",
       " '/home/cfriedline/eckertlab/projects/burt/seq/160520/Burt5/E-FL-1-22.R1.fastq.gz',\n",
       " '/home/cfriedline/eckertlab/projects/burt/seq/160520/Burt5/T-VA-3-1.R1.fastq.gz',\n",
       " '/home/cfriedline/eckertlab/projects/burt/seq/160520/Burt5/T-GA-3-9.R1.fastq.gz',\n",
       " '/home/cfriedline/eckertlab/projects/burt/seq/160520/Burt5/E-SC-3-14.R1.fastq.gz',\n",
       " '/home/cfriedline/eckertlab/projects/burt/seq/160520/Burt5/T-AL-6-10.R1.fastq.gz',\n",
       " '/home/cfriedline/eckertlab/projects/burt/seq/160520/Burt5/T-GA-2-8.R1.fastq.gz',\n",
       " '/home/cfriedline/eckertlab/projects/burt/seq/160520/Burt5/P-GA-1-1.R1.fastq.gz',\n",
       " '/home/cfriedline/eckertlab/projects/burt/seq/160520/Burt5/P-AL-3-3.R1.fastq.gz',\n",
       " '/home/cfriedline/eckertlab/projects/burt/seq/160520/Burt5/T-AL-1-11.R1.fastq.gz',\n",
       " '/home/cfriedline/eckertlab/projects/burt/seq/160520/Burt5/P-GA-3-7.R1.fastq.gz',\n",
       " '/home/cfriedline/eckertlab/projects/burt/seq/160520/Burt5/T-VA-2-9.R1.fastq.gz',\n",
       " '/home/cfriedline/eckertlab/projects/burt/seq/160520/Burt5/E-SC-4-13.R1.fastq.gz',\n",
       " '/home/cfriedline/eckertlab/projects/burt/seq/160520/Burt5/P-GA-4-12.R1.fastq.gz',\n",
       " '/home/cfriedline/eckertlab/projects/burt/seq/160520/Burt5/P-FL-1-9.R1.fastq.gz',\n",
       " '/home/cfriedline/eckertlab/projects/burt/seq/160520/Burt5/T-GA-4-5.R1.fastq.gz',\n",
       " '/home/cfriedline/eckertlab/projects/burt/seq/160520/Burt5/E-FL-1-16.R1.fastq.gz',\n",
       " '/home/cfriedline/eckertlab/projects/burt/seq/160520/Burt5/P-AL-3-2.R1.fastq.gz',\n",
       " '/home/cfriedline/eckertlab/projects/burt/seq/160520/Burt5/T-GA-3-6.R1.fastq.gz',\n",
       " '/home/cfriedline/eckertlab/projects/burt/seq/160520/Burt5/T-AL-4-13.R1.fastq.gz',\n",
       " '/home/cfriedline/eckertlab/projects/burt/seq/160520/Burt5/T-GA-2-4.R1.fastq.gz',\n",
       " '/home/cfriedline/eckertlab/projects/burt/seq/160520/Burt5/T-VA-2-10.R1.fastq.gz',\n",
       " '/home/cfriedline/eckertlab/projects/burt/seq/160520/Burt5/T-VA-2-13.R1.fastq.gz',\n",
       " '/home/cfriedline/eckertlab/projects/burt/seq/160520/Burt5/P-GA-3-4.R1.fastq.gz',\n",
       " '/home/cfriedline/eckertlab/projects/burt/seq/160520/Burt5/T-VA-1-1.R1.fastq.gz',\n",
       " '/home/cfriedline/eckertlab/projects/burt/seq/160520/Burt5/P-GA-5-5.R1.fastq.gz',\n",
       " '/home/cfriedline/eckertlab/projects/burt/seq/160520/Burt5/P-FL-1-6.R1.fastq.gz',\n",
       " '/home/cfriedline/eckertlab/projects/burt/seq/160520/Burt5/P-AL-5-6.R1.fastq.gz',\n",
       " '/home/cfriedline/eckertlab/projects/burt/seq/160520/Burt5/P-AL-2-9.R1.fastq.gz',\n",
       " '/home/cfriedline/eckertlab/projects/burt/seq/160520/Burt5/P-GA-1-4.R1.fastq.gz',\n",
       " '/home/cfriedline/eckertlab/projects/burt/seq/160520/Burt5/P-GA-5-9.R1.fastq.gz',\n",
       " '/home/cfriedline/eckertlab/projects/burt/seq/160520/Burt5/E-GA-1-2.R1.fastq.gz',\n",
       " '/home/cfriedline/eckertlab/projects/burt/seq/160520/Burt5/E-GA-3-8.R1.fastq.gz',\n",
       " '/home/cfriedline/eckertlab/projects/burt/seq/160520/Burt5/P-GA-5-13.R1.fastq.gz',\n",
       " '/home/cfriedline/eckertlab/projects/burt/seq/160520/Burt5/P-GA-4-2.R1.fastq.gz',\n",
       " '/home/cfriedline/eckertlab/projects/burt/seq/160520/Burt5/P-AL-2-12.R1.fastq.gz',\n",
       " '/home/cfriedline/eckertlab/projects/burt/seq/160520/Burt5/P-LA-2-14.R1.fastq.gz',\n",
       " '/home/cfriedline/eckertlab/projects/burt/seq/160520/Burt5/T-AL-1-10.R1.fastq.gz',\n",
       " '/home/cfriedline/eckertlab/projects/burt/seq/160520/Burt5/P-GA-4-3.R1.fastq.gz',\n",
       " '/home/cfriedline/eckertlab/projects/burt/seq/160520/Burt5/T-VA-3-10.R1.fastq.gz',\n",
       " '/home/cfriedline/eckertlab/projects/burt/seq/160520/Burt5/T-FL-1-3.R1.fastq.gz',\n",
       " '/home/cfriedline/eckertlab/projects/burt/seq/160520/Burt5/P-GA-5-15.R1.fastq.gz',\n",
       " '/home/cfriedline/eckertlab/projects/burt/seq/160520/Burt5/T-FL-1-6.R1.fastq.gz',\n",
       " '/home/cfriedline/eckertlab/projects/burt/seq/160520/Burt5/P-AL-3-5.R1.fastq.gz',\n",
       " '/home/cfriedline/eckertlab/projects/burt/seq/160520/Burt5/T-TX-1-3.R1.fastq.gz',\n",
       " '/home/cfriedline/eckertlab/projects/burt/seq/160520/Burt5/P-AL-3-11.R1.fastq.gz',\n",
       " '/home/cfriedline/eckertlab/projects/burt/seq/160520/Burt5/T-VA-2-4.R1.fastq.gz',\n",
       " '/home/cfriedline/eckertlab/projects/burt/seq/160520/Burt5/P-AL-3-6.R1.fastq.gz',\n",
       " '/home/cfriedline/eckertlab/projects/burt/seq/160520/Burt5/T-GA-3-8.R1.fastq.gz',\n",
       " '/home/cfriedline/eckertlab/projects/burt/seq/160520/Burt6/T-MS-5-8.R1.fastq.gz',\n",
       " '/home/cfriedline/eckertlab/projects/burt/seq/160520/Burt6/G-NC-1-8.R1.fastq.gz',\n",
       " '/home/cfriedline/eckertlab/projects/burt/seq/160520/Burt6/T-AL-4-8.R1.fastq.gz',\n",
       " '/home/cfriedline/eckertlab/projects/burt/seq/160520/Burt6/T-MS-1-3.R1.fastq.gz',\n",
       " '/home/cfriedline/eckertlab/projects/burt/seq/160520/Burt6/E-FL-1-23.R1.fastq.gz',\n",
       " '/home/cfriedline/eckertlab/projects/burt/seq/160520/Burt6/P-MS-1-11.R1.fastq.gz',\n",
       " '/home/cfriedline/eckertlab/projects/burt/seq/160520/Burt6/T-TX-2-15.R1.fastq.gz',\n",
       " '/home/cfriedline/eckertlab/projects/burt/seq/160520/Burt6/T-MS-5-15.R1.fastq.gz',\n",
       " '/home/cfriedline/eckertlab/projects/burt/seq/160520/Burt6/G-NC-1-12.R1.fastq.gz',\n",
       " '/home/cfriedline/eckertlab/projects/burt/seq/160520/Burt6/T-MS-1-6.R1.fastq.gz',\n",
       " '/home/cfriedline/eckertlab/projects/burt/seq/160520/Burt6/T-AL-3-13.R1.fastq.gz',\n",
       " '/home/cfriedline/eckertlab/projects/burt/seq/160520/Burt6/T-MS-3-6.R1.fastq.gz',\n",
       " '/home/cfriedline/eckertlab/projects/burt/seq/160520/Burt6/T-MS-4-8.R1.fastq.gz',\n",
       " '/home/cfriedline/eckertlab/projects/burt/seq/160520/Burt6/T-MS-1-14.R1.fastq.gz',\n",
       " '/home/cfriedline/eckertlab/projects/burt/seq/160520/Burt6/T-AL-2-13.R1.fastq.gz',\n",
       " '/home/cfriedline/eckertlab/projects/burt/seq/160520/Burt6/T-MS-3-3.R1.fastq.gz',\n",
       " '/home/cfriedline/eckertlab/projects/burt/seq/160520/Burt6/E-AL-1-3.R1.fastq.gz',\n",
       " '/home/cfriedline/eckertlab/projects/burt/seq/160520/Burt6/T-MS-5-14.R1.fastq.gz',\n",
       " '/home/cfriedline/eckertlab/projects/burt/seq/160520/Burt6/T-MS-1-5.R1.fastq.gz',\n",
       " '/home/cfriedline/eckertlab/projects/burt/seq/160520/Burt6/T-AL-4-2.R1.fastq.gz',\n",
       " '/home/cfriedline/eckertlab/projects/burt/seq/160520/Burt6/T-TX-2-1.R1.fastq.gz',\n",
       " '/home/cfriedline/eckertlab/projects/burt/seq/160520/Burt6/T-LA-4-6.R1.fastq.gz',\n",
       " '/home/cfriedline/eckertlab/projects/burt/seq/160520/Burt6/E-FL-1-24.R1.fastq.gz',\n",
       " '/home/cfriedline/eckertlab/projects/burt/seq/160520/Burt6/T-AL-2-2.R1.fastq.gz',\n",
       " '/home/cfriedline/eckertlab/projects/burt/seq/160520/Burt6/P-LA-6-5.R1.fastq.gz',\n",
       " '/home/cfriedline/eckertlab/projects/burt/seq/160520/Burt6/T-AL-2-9.R1.fastq.gz',\n",
       " '/home/cfriedline/eckertlab/projects/burt/seq/160520/Burt6/T-MS-3-2.R1.fastq.gz',\n",
       " '/home/cfriedline/eckertlab/projects/burt/seq/160520/Burt6/T-AL-3-11.R1.fastq.gz',\n",
       " '/home/cfriedline/eckertlab/projects/burt/seq/160520/Burt6/P-TX-2-4.R1.fastq.gz',\n",
       " '/home/cfriedline/eckertlab/projects/burt/seq/160520/Burt6/P-TX-2-10.R1.fastq.gz',\n",
       " '/home/cfriedline/eckertlab/projects/burt/seq/160520/Burt6/T-AL-3-10.R1.fastq.gz',\n",
       " '/home/cfriedline/eckertlab/projects/burt/seq/160520/Burt6/G-NC-1-3.R1.fastq.gz',\n",
       " '/home/cfriedline/eckertlab/projects/burt/seq/160520/Burt6/P-TX-2-12.R1.fastq.gz',\n",
       " '/home/cfriedline/eckertlab/projects/burt/seq/160520/Burt6/G-VA-1-1.R1.fastq.gz',\n",
       " '/home/cfriedline/eckertlab/projects/burt/seq/160520/Burt6/G-NC-1-11.R1.fastq.gz',\n",
       " '/home/cfriedline/eckertlab/projects/burt/seq/160520/Burt6/P-MS-1-12.R1.fastq.gz',\n",
       " '/home/cfriedline/eckertlab/projects/burt/seq/160520/Burt6/G-VA-1-10.R1.fastq.gz',\n",
       " '/home/cfriedline/eckertlab/projects/burt/seq/160520/Burt6/G-NC-1-4.R1.fastq.gz',\n",
       " '/home/cfriedline/eckertlab/projects/burt/seq/160520/Burt6/T-AL-2-3.R1.fastq.gz',\n",
       " '/home/cfriedline/eckertlab/projects/burt/seq/160520/Burt6/T-AL-3-12.R1.fastq.gz',\n",
       " '/home/cfriedline/eckertlab/projects/burt/seq/160520/Burt6/T-MS-2-12.R1.fastq.gz',\n",
       " '/home/cfriedline/eckertlab/projects/burt/seq/160520/Burt6/G-VA-1-11.R1.fastq.gz',\n",
       " '/home/cfriedline/eckertlab/projects/burt/seq/160520/Burt6/T-AL-2-11.R1.fastq.gz',\n",
       " '/home/cfriedline/eckertlab/projects/burt/seq/160520/Burt6/T-TX-2-24.R1.fastq.gz',\n",
       " '/home/cfriedline/eckertlab/projects/burt/seq/160520/Burt6/G-VA-1-4.R1.fastq.gz',\n",
       " '/home/cfriedline/eckertlab/projects/burt/seq/160520/Burt6/T-AL-3-7.R1.fastq.gz',\n",
       " '/home/cfriedline/eckertlab/projects/burt/seq/160520/Burt6/T-GA-1-12.R1.fastq.gz',\n",
       " '/home/cfriedline/eckertlab/projects/burt/seq/160520/Burt6/E-MS-1-2.R1.fastq.gz',\n",
       " '/home/cfriedline/eckertlab/projects/burt/seq/160520/Burt6/T-AL-3-15.R1.fastq.gz',\n",
       " '/home/cfriedline/eckertlab/projects/burt/seq/160520/Burt6/P-LA-1-8.R1.fastq.gz',\n",
       " '/home/cfriedline/eckertlab/projects/burt/seq/160520/Burt6/P-TX-2-13.R1.fastq.gz',\n",
       " '/home/cfriedline/eckertlab/projects/burt/seq/160520/Burt6/T-TX-2-13.R1.fastq.gz',\n",
       " '/home/cfriedline/eckertlab/projects/burt/seq/160520/Burt6/T-MS-1-8.R1.fastq.gz',\n",
       " '/home/cfriedline/eckertlab/projects/burt/seq/160520/Burt6/P-TX-2-2.R1.fastq.gz',\n",
       " '/home/cfriedline/eckertlab/projects/burt/seq/160520/Burt6/T-AL-4-6.R1.fastq.gz',\n",
       " '/home/cfriedline/eckertlab/projects/burt/seq/160520/Burt6/T-GA-1-11.R1.fastq.gz',\n",
       " '/home/cfriedline/eckertlab/projects/burt/seq/160520/Burt6/T-MS-1-10.R1.fastq.gz',\n",
       " '/home/cfriedline/eckertlab/projects/burt/seq/160520/Burt6/G-NC-1-5.R1.fastq.gz',\n",
       " '/home/cfriedline/eckertlab/projects/burt/seq/160520/Burt6/T-MS-3-9.R1.fastq.gz',\n",
       " '/home/cfriedline/eckertlab/projects/burt/seq/160520/Burt6/T-AL-3-6.R1.fastq.gz',\n",
       " '/home/cfriedline/eckertlab/projects/burt/seq/160520/Burt6/T-AL-2-6.R1.fastq.gz',\n",
       " '/home/cfriedline/eckertlab/projects/burt/seq/160520/Burt6/G-NC-1-1.R1.fastq.gz',\n",
       " '/home/cfriedline/eckertlab/projects/burt/seq/160520/Burt6/G-VA-1-7.R1.fastq.gz',\n",
       " '/home/cfriedline/eckertlab/projects/burt/seq/160520/Burt6/T-AL-2-14.R1.fastq.gz',\n",
       " '/home/cfriedline/eckertlab/projects/burt/seq/160520/Burt6/T-AL-3-5.R1.fastq.gz',\n",
       " '/home/cfriedline/eckertlab/projects/burt/seq/160520/Burt6/T-AL-2-4.R1.fastq.gz',\n",
       " '/home/cfriedline/eckertlab/projects/burt/seq/160520/Burt6/T-AL-3-9.R1.fastq.gz',\n",
       " '/home/cfriedline/eckertlab/projects/burt/seq/160520/Burt6/T-TX-2-25.R1.fastq.gz',\n",
       " '/home/cfriedline/eckertlab/projects/burt/seq/160520/Burt6/G-VA-1-5.R1.fastq.gz',\n",
       " '/home/cfriedline/eckertlab/projects/burt/seq/160520/Burt6/G-NC-1-6.R1.fastq.gz',\n",
       " '/home/cfriedline/eckertlab/projects/burt/seq/160520/Burt6/T-AL-4-12.R1.fastq.gz',\n",
       " '/home/cfriedline/eckertlab/projects/burt/seq/160520/Burt6/G-VA-1-9.R1.fastq.gz',\n",
       " '/home/cfriedline/eckertlab/projects/burt/seq/160520/Burt6/T-MS-3-10.R1.fastq.gz',\n",
       " '/home/cfriedline/eckertlab/projects/burt/seq/160520/Burt6/T-MS-3-14.R1.fastq.gz',\n",
       " '/home/cfriedline/eckertlab/projects/burt/seq/160520/Burt6/T-GA-1-3.R1.fastq.gz',\n",
       " '/home/cfriedline/eckertlab/projects/burt/seq/160520/Burt6/T-GA-1-15.R1.fastq.gz',\n",
       " '/home/cfriedline/eckertlab/projects/burt/seq/160520/Burt6/T-MS-3-8.R1.fastq.gz',\n",
       " '/home/cfriedline/eckertlab/projects/burt/seq/160520/Burt6/T-GA-1-1.R1.fastq.gz',\n",
       " '/home/cfriedline/eckertlab/projects/burt/seq/160520/Burt6/P-TX-2-16.R1.fastq.gz',\n",
       " '/home/cfriedline/eckertlab/projects/burt/seq/160520/Burt6/T-AL-3-8.R1.fastq.gz',\n",
       " '/home/cfriedline/eckertlab/projects/burt/seq/160520/Burt6/T-AL-3-1.R1.fastq.gz',\n",
       " '/home/cfriedline/eckertlab/projects/burt/seq/160520/Burt6/T-AL-4-11.R1.fastq.gz',\n",
       " '/home/cfriedline/eckertlab/projects/burt/seq/160520/Burt6/T-GA-1-6.R1.fastq.gz',\n",
       " '/home/cfriedline/eckertlab/projects/burt/seq/160520/Burt6/T-GA-1-7.R1.fastq.gz',\n",
       " '/home/cfriedline/eckertlab/projects/burt/seq/160520/Burt6/P-TX-2-1.R1.fastq.gz',\n",
       " '/home/cfriedline/eckertlab/projects/burt/seq/160520/Burt6/P-MS-1-5.R1.fastq.gz',\n",
       " '/home/cfriedline/eckertlab/projects/burt/seq/160520/Burt6/P-TX-2-14.R1.fastq.gz',\n",
       " '/home/cfriedline/eckertlab/projects/burt/seq/160520/Burt6/T-TX-2-5.R1.fastq.gz',\n",
       " '/home/cfriedline/eckertlab/projects/burt/seq/160520/Burt6/T-MS-3-4.R1.fastq.gz',\n",
       " '/home/cfriedline/eckertlab/projects/burt/seq/160520/Burt6/T-MS-1-11.R1.fastq.gz',\n",
       " '/home/cfriedline/eckertlab/projects/burt/seq/160520/Burt6/T-TX-2-16.R1.fastq.gz',\n",
       " '/home/cfriedline/eckertlab/projects/burt/seq/160520/Burt6/T-TX-2-7.R1.fastq.gz',\n",
       " '/home/cfriedline/eckertlab/projects/burt/seq/160520/Burt6/T-AL-3-4.R1.fastq.gz',\n",
       " '/home/cfriedline/eckertlab/projects/burt/seq/160520/Burt6/G-VA-1-12.R1.fastq.gz',\n",
       " '/home/cfriedline/eckertlab/projects/burt/seq/160520/Burt6/G-NC-1-9.R1.fastq.gz',\n",
       " '/home/cfriedline/eckertlab/projects/burt/seq/160520/Burt6/T-GA-1-8.R1.fastq.gz',\n",
       " '/home/cfriedline/eckertlab/projects/burt/seq/160520/Burt7/G-VA-3-6.R1.fastq.gz',\n",
       " '/home/cfriedline/eckertlab/projects/burt/seq/160520/Burt7/E-AL-1-15.R1.fastq.gz',\n",
       " '/home/cfriedline/eckertlab/projects/burt/seq/160520/Burt7/T-AL-2-12.R1.fastq.gz',\n",
       " '/home/cfriedline/eckertlab/projects/burt/seq/160520/Burt7/G-NC-1-2.R1.fastq.gz',\n",
       " '/home/cfriedline/eckertlab/projects/burt/seq/160520/Burt7/P-MS-1-9.R1.fastq.gz',\n",
       " '/home/cfriedline/eckertlab/projects/burt/seq/160520/Burt7/E-FL-1-20.R1.fastq.gz',\n",
       " '/home/cfriedline/eckertlab/projects/burt/seq/160520/Burt7/T-TX-2-12.R1.fastq.gz',\n",
       " '/home/cfriedline/eckertlab/projects/burt/seq/160520/Burt7/T-AL-4-10.R1.fastq.gz',\n",
       " '/home/cfriedline/eckertlab/projects/burt/seq/160520/Burt7/P-TX-2-5.R1.fastq.gz',\n",
       " '/home/cfriedline/eckertlab/projects/burt/seq/160520/Burt7/P-LA-4-8.R1.fastq.gz',\n",
       " '/home/cfriedline/eckertlab/projects/burt/seq/160520/Burt7/P-LA-3-11.R1.fastq.gz',\n",
       " '/home/cfriedline/eckertlab/projects/burt/seq/160520/Burt7/P-TX-2-8.R1.fastq.gz',\n",
       " '/home/cfriedline/eckertlab/projects/burt/seq/160520/Burt7/T-GA-1-13.R1.fastq.gz',\n",
       " '/home/cfriedline/eckertlab/projects/burt/seq/160520/Burt7/G-VA-1-14.R1.fastq.gz',\n",
       " '/home/cfriedline/eckertlab/projects/burt/seq/160520/Burt7/P-LA-3-6.R1.fastq.gz',\n",
       " '/home/cfriedline/eckertlab/projects/burt/seq/160520/Burt7/G-VA-1-6.R1.fastq.gz',\n",
       " '/home/cfriedline/eckertlab/projects/burt/seq/160520/Burt7/P-TX-2-3.R1.fastq.gz',\n",
       " '/home/cfriedline/eckertlab/projects/burt/seq/160520/Burt7/T-AL-4-4.R1.fastq.gz',\n",
       " '/home/cfriedline/eckertlab/projects/burt/seq/160520/Burt7/T-AL-3-14.R1.fastq.gz',\n",
       " '/home/cfriedline/eckertlab/projects/burt/seq/160520/Burt7/P-MS-1-13.R1.fastq.gz',\n",
       " '/home/cfriedline/eckertlab/projects/burt/seq/160520/Burt7/T-AL-3-3.R1.fastq.gz',\n",
       " '/home/cfriedline/eckertlab/projects/burt/seq/160520/Burt7/T-MS-3-1.R1.fastq.gz',\n",
       " '/home/cfriedline/eckertlab/projects/burt/seq/160520/Burt7/T-AL-4-9.R1.fastq.gz',\n",
       " '/home/cfriedline/eckertlab/projects/burt/seq/160520/Burt7/T-MS-1-1.R1.fastq.gz',\n",
       " '/home/cfriedline/eckertlab/projects/burt/seq/160520/Burt7/T-LA-3-4.R1.fastq.gz',\n",
       " '/home/cfriedline/eckertlab/projects/burt/seq/160520/Burt7/T-MS-3-15.R1.fastq.gz',\n",
       " '/home/cfriedline/eckertlab/projects/burt/seq/160520/Burt7/P-LA-4-6.R1.fastq.gz',\n",
       " '/home/cfriedline/eckertlab/projects/burt/seq/160520/Burt7/T-AL-3-2.R1.fastq.gz',\n",
       " '/home/cfriedline/eckertlab/projects/burt/seq/160520/Burt7/T-AL-2-7.R1.fastq.gz',\n",
       " '/home/cfriedline/eckertlab/projects/burt/seq/160520/Burt7/T-AL-4-5.R1.fastq.gz',\n",
       " '/home/cfriedline/eckertlab/projects/burt/seq/160520/Burt7/T-AL-2-10.R1.fastq.gz',\n",
       " '/home/cfriedline/eckertlab/projects/burt/seq/160520/Burt7/T-GA-1-4.R1.fastq.gz',\n",
       " '/home/cfriedline/eckertlab/projects/burt/seq/160520/Burt7/E-FL-1-25.R1.fastq.gz',\n",
       " '/home/cfriedline/eckertlab/projects/burt/seq/160520/Burt7/T-MS-1-9.R1.fastq.gz',\n",
       " '/home/cfriedline/eckertlab/projects/burt/seq/160520/Burt7/E-AL-1-10.R1.fastq.gz',\n",
       " '/home/cfriedline/eckertlab/projects/burt/seq/160520/Burt7/T-MS-1-13.R1.fastq.gz',\n",
       " '/home/cfriedline/eckertlab/projects/burt/seq/160520/Burt7/T-TX-2-4.R1.fastq.gz',\n",
       " '/home/cfriedline/eckertlab/projects/burt/seq/160520/Burt7/T-AL-4-3.R1.fastq.gz',\n",
       " '/home/cfriedline/eckertlab/projects/burt/seq/160520/Burt7/T-MS-1-4.R1.fastq.gz',\n",
       " '/home/cfriedline/eckertlab/projects/burt/seq/160520/Burt7/T-TX-2-17.R1.fastq.gz',\n",
       " '/home/cfriedline/eckertlab/projects/burt/seq/160520/Burt7/T-MS-3-12.R1.fastq.gz',\n",
       " '/home/cfriedline/eckertlab/projects/burt/seq/160520/Burt7/T-TX-2-3.R1.fastq.gz',\n",
       " '/home/cfriedline/eckertlab/projects/burt/seq/160520/Burt7/P-MS-1-8.R1.fastq.gz',\n",
       " '/home/cfriedline/eckertlab/projects/burt/seq/160520/Burt7/P-LA-3-1.R1.fastq.gz',\n",
       " '/home/cfriedline/eckertlab/projects/burt/seq/160520/Burt7/T-GA-1-2.R1.fastq.gz',\n",
       " '/home/cfriedline/eckertlab/projects/burt/seq/160520/Burt7/G-NC-1-10.R1.fastq.gz',\n",
       " '/home/cfriedline/eckertlab/projects/burt/seq/160520/Burt7/T-LA-3-6.R1.fastq.gz',\n",
       " '/home/cfriedline/eckertlab/projects/burt/seq/160520/Burt7/T-MS-1-7.R1.fastq.gz',\n",
       " '/home/cfriedline/eckertlab/projects/burt/seq/160520/Burt7/T-GA-1-9.R1.fastq.gz',\n",
       " '/home/cfriedline/eckertlab/projects/burt/seq/160520/Burt7/E-AL-1-2.R1.fastq.gz',\n",
       " '/home/cfriedline/eckertlab/projects/burt/seq/160520/Burt7/T-MS-1-15.R1.fastq.gz',\n",
       " '/home/cfriedline/eckertlab/projects/burt/seq/160520/Burt7/P-LA-4-13.R1.fastq.gz',\n",
       " '/home/cfriedline/eckertlab/projects/burt/seq/160520/Burt7/T-MS-4-9.R1.fastq.gz',\n",
       " '/home/cfriedline/eckertlab/projects/burt/seq/160520/Burt7/P-TX-2-9.R1.fastq.gz',\n",
       " '/home/cfriedline/eckertlab/projects/burt/seq/160520/Burt7/T-TX-2-10.R1.fastq.gz',\n",
       " '/home/cfriedline/eckertlab/projects/burt/seq/160520/Burt7/G-VA-1-2.R1.fastq.gz',\n",
       " '/home/cfriedline/eckertlab/projects/burt/seq/160520/Burt7/P-MS-1-3.R1.fastq.gz',\n",
       " '/home/cfriedline/eckertlab/projects/burt/seq/160520/Burt7/G-VA-1-3.R1.fastq.gz',\n",
       " '/home/cfriedline/eckertlab/projects/burt/seq/160520/Burt7/T-MS-3-11.R1.fastq.gz',\n",
       " '/home/cfriedline/eckertlab/projects/burt/seq/160520/Burt7/P-LA-6-6.R1.fastq.gz',\n",
       " '/home/cfriedline/eckertlab/projects/burt/seq/160520/Burt7/P-LA-3-12.R1.fastq.gz',\n",
       " '/home/cfriedline/eckertlab/projects/burt/seq/160520/Burt7/P-MS-1-15.R1.fastq.gz',\n",
       " '/home/cfriedline/eckertlab/projects/burt/seq/160520/Burt7/P-TX-2-15.R1.fastq.gz',\n",
       " '/home/cfriedline/eckertlab/projects/burt/seq/160520/Burt7/G-VA-1-13.R1.fastq.gz',\n",
       " '/home/cfriedline/eckertlab/projects/burt/seq/160520/Burt7/P-MS-1-2.R1.fastq.gz',\n",
       " '/home/cfriedline/eckertlab/projects/burt/seq/160520/Burt7/T-GA-1-14.R1.fastq.gz',\n",
       " '/home/cfriedline/eckertlab/projects/burt/seq/160520/Burt7/T-TX-2-21.R1.fastq.gz',\n",
       " '/home/cfriedline/eckertlab/projects/burt/seq/160520/Burt7/P-TX-2-6.R1.fastq.gz',\n",
       " '/home/cfriedline/eckertlab/projects/burt/seq/160520/Burt7/T-AL-4-7.R1.fastq.gz',\n",
       " '/home/cfriedline/eckertlab/projects/burt/seq/160520/Burt7/G-NC-1-7.R1.fastq.gz',\n",
       " '/home/cfriedline/eckertlab/projects/burt/seq/160520/Burt7/P-TX-2-7.R1.fastq.gz',\n",
       " '/home/cfriedline/eckertlab/projects/burt/seq/160520/Burt7/G-VA-1-8.R1.fastq.gz',\n",
       " '/home/cfriedline/eckertlab/projects/burt/seq/160520/Burt7/P-MS-1-6.R1.fastq.gz',\n",
       " '/home/cfriedline/eckertlab/projects/burt/seq/160520/Burt7/P-MS-4-5.R1.fastq.gz',\n",
       " '/home/cfriedline/eckertlab/projects/burt/seq/160520/Burt7/T-GA-1-10.R1.fastq.gz',\n",
       " '/home/cfriedline/eckertlab/projects/burt/seq/160520/Burt7/T-MS-3-13.R1.fastq.gz',\n",
       " '/home/cfriedline/eckertlab/projects/burt/seq/160520/Burt7/T-AL-2-8.R1.fastq.gz',\n",
       " '/home/cfriedline/eckertlab/projects/burt/seq/160520/Burt7/E-AL-1-4.R1.fastq.gz',\n",
       " '/home/cfriedline/eckertlab/projects/burt/seq/160520/Burt7/T-AL-2-1.R1.fastq.gz',\n",
       " '/home/cfriedline/eckertlab/projects/burt/seq/160520/Burt7/T-MS-5-7.R1.fastq.gz',\n",
       " '/home/cfriedline/eckertlab/projects/burt/seq/160520/Burt7/T-MS-3-7.R1.fastq.gz',\n",
       " '/home/cfriedline/eckertlab/projects/burt/seq/160520/Burt7/E-AL-1-5.R1.fastq.gz',\n",
       " '/home/cfriedline/eckertlab/projects/burt/seq/160520/Burt7/T-TX-2-9.R1.fastq.gz',\n",
       " '/home/cfriedline/eckertlab/projects/burt/seq/160520/Burt7/E-AL-1-7.R1.fastq.gz',\n",
       " '/home/cfriedline/eckertlab/projects/burt/seq/160520/Burt7/E-AL-1-14.R1.fastq.gz',\n",
       " '/home/cfriedline/eckertlab/projects/burt/seq/160520/Burt7/T-AL-2-5.R1.fastq.gz',\n",
       " '/home/cfriedline/eckertlab/projects/burt/seq/160520/Burt7/T-AL-2-15.R1.fastq.gz',\n",
       " '/home/cfriedline/eckertlab/projects/burt/seq/160520/Burt7/E-AL-1-9.R1.fastq.gz',\n",
       " '/home/cfriedline/eckertlab/projects/burt/seq/160520/Burt7/T-MS-5-13.R1.fastq.gz',\n",
       " '/home/cfriedline/eckertlab/projects/burt/seq/160520/Burt7/T-MS-1-2.R1.fastq.gz',\n",
       " '/home/cfriedline/eckertlab/projects/burt/seq/160520/Burt7/P-MS-1-1.R1.fastq.gz',\n",
       " '/home/cfriedline/eckertlab/projects/burt/seq/160520/Burt7/G-VA-1-15.R1.fastq.gz',\n",
       " '/home/cfriedline/eckertlab/projects/burt/seq/160520/Burt7/T-AL-4-1.R1.fastq.gz',\n",
       " '/home/cfriedline/eckertlab/projects/burt/seq/160520/Burt7/T-MS-3-5.R1.fastq.gz',\n",
       " '/home/cfriedline/eckertlab/projects/burt/seq/160520/Burt7/P-LA-6-10.R1.fastq.gz',\n",
       " '/home/cfriedline/eckertlab/projects/burt/seq/160520/Burt7/T-GA-1-5.R1.fastq.gz',\n",
       " '/home/cfriedline/eckertlab/projects/burt/seq/160525/Burt0/T-AR-2-7.R1.fastq.gz',\n",
       " '/home/cfriedline/eckertlab/projects/burt/seq/160525/Burt0/T-TX-1-19.R1.fastq.gz',\n",
       " '/home/cfriedline/eckertlab/projects/burt/seq/160525/Burt0/G-SC-1-3.R1.fastq.gz',\n",
       " '/home/cfriedline/eckertlab/projects/burt/seq/160525/Burt0/P-LA-2-10.R1.fastq.gz',\n",
       " '/home/cfriedline/eckertlab/projects/burt/seq/160525/Burt0/T-AL-1-2.R1.fastq.gz',\n",
       " '/home/cfriedline/eckertlab/projects/burt/seq/160525/Burt0/P-LA-1-7.R1.fastq.gz',\n",
       " '/home/cfriedline/eckertlab/projects/burt/seq/160525/Burt0/P-AL-2-5.R1.fastq.gz',\n",
       " '/home/cfriedline/eckertlab/projects/burt/seq/160525/Burt0/P-LA-1-2.R1.fastq.gz',\n",
       " '/home/cfriedline/eckertlab/projects/burt/seq/160525/Burt0/T-TX-1-21.R1.fastq.gz',\n",
       " '/home/cfriedline/eckertlab/projects/burt/seq/160525/Burt0/P-GA-2-1.R1.fastq.gz',\n",
       " '/home/cfriedline/eckertlab/projects/burt/seq/160525/Burt0/P-GA-2-12.R1.fastq.gz',\n",
       " '/home/cfriedline/eckertlab/projects/burt/seq/160525/Burt0/E-FL-1-14.R1.fastq.gz',\n",
       " '/home/cfriedline/eckertlab/projects/burt/seq/160525/Burt0/P-LA-1-22.R1.fastq.gz',\n",
       " '/home/cfriedline/eckertlab/projects/burt/seq/160525/Burt0/T-TX-1-22.R1.fastq.gz',\n",
       " '/home/cfriedline/eckertlab/projects/burt/seq/160525/Burt0/G-SC-1-1.R1.fastq.gz',\n",
       " '/home/cfriedline/eckertlab/projects/burt/seq/160525/Burt0/P-LA-1-20.R1.fastq.gz',\n",
       " '/home/cfriedline/eckertlab/projects/burt/seq/160525/Burt0/T-GA-2-9.R1.fastq.gz',\n",
       " '/home/cfriedline/eckertlab/projects/burt/seq/160525/Burt0/T-VA-3-15.R1.fastq.gz',\n",
       " '/home/cfriedline/eckertlab/projects/burt/seq/160525/Burt0/P-FL-1-16.R1.fastq.gz',\n",
       " '/home/cfriedline/eckertlab/projects/burt/seq/160525/Burt0/P-FL-1-4.R1.fastq.gz',\n",
       " '/home/cfriedline/eckertlab/projects/burt/seq/160525/Burt0/T-TX-1-9.R1.fastq.gz',\n",
       " '/home/cfriedline/eckertlab/projects/burt/seq/160525/Burt0/T-GA-3-2.R1.fastq.gz',\n",
       " '/home/cfriedline/eckertlab/projects/burt/seq/160525/Burt0/T-TX-1-16.R1.fastq.gz',\n",
       " '/home/cfriedline/eckertlab/projects/burt/seq/160525/Burt0/P-GA-3-2.R1.fastq.gz',\n",
       " '/home/cfriedline/eckertlab/projects/burt/seq/160525/Burt0/P-AL-4-13.R1.fastq.gz',\n",
       " '/home/cfriedline/eckertlab/projects/burt/seq/160525/Burt0/T-VA-3-8.R1.fastq.gz',\n",
       " '/home/cfriedline/eckertlab/projects/burt/seq/160525/Burt0/T-TX-1-8.R1.fastq.gz',\n",
       " '/home/cfriedline/eckertlab/projects/burt/seq/160525/Burt0/T-TX-1-14.R1.fastq.gz',\n",
       " '/home/cfriedline/eckertlab/projects/burt/seq/160525/Burt0/P-AL-2-4.R1.fastq.gz',\n",
       " '/home/cfriedline/eckertlab/projects/burt/seq/160525/Burt0/P-GA-2-8.R1.fastq.gz',\n",
       " '/home/cfriedline/eckertlab/projects/burt/seq/160525/Burt0/P-FL-1-15.R1.fastq.gz',\n",
       " '/home/cfriedline/eckertlab/projects/burt/seq/160525/Burt0/G-SC-1-2.R1.fastq.gz',\n",
       " '/home/cfriedline/eckertlab/projects/burt/seq/160525/Burt0/T-AR-2-10.R1.fastq.gz',\n",
       " '/home/cfriedline/eckertlab/projects/burt/seq/160525/Burt0/E-SC-3-8.R1.fastq.gz',\n",
       " '/home/cfriedline/eckertlab/projects/burt/seq/160525/Burt0/T-FL-1-5.R1.fastq.gz',\n",
       " '/home/cfriedline/eckertlab/projects/burt/seq/160525/Burt0/T-TX-1-25.R1.fastq.gz',\n",
       " '/home/cfriedline/eckertlab/projects/burt/seq/160525/Burt0/P-LA-1-15.R1.fastq.gz',\n",
       " '/home/cfriedline/eckertlab/projects/burt/seq/160525/Burt0/P-GA-1-9.R1.fastq.gz',\n",
       " '/home/cfriedline/eckertlab/projects/burt/seq/160525/Burt0/T-TX-1-12.R1.fastq.gz',\n",
       " '/home/cfriedline/eckertlab/projects/burt/seq/160525/Burt0/P-LA-1-10.R1.fastq.gz',\n",
       " '/home/cfriedline/eckertlab/projects/burt/seq/160525/Burt0/P-FL-1-7.R1.fastq.gz',\n",
       " '/home/cfriedline/eckertlab/projects/burt/seq/160525/Burt0/T-AR-1-15.R1.fastq.gz',\n",
       " '/home/cfriedline/eckertlab/projects/burt/seq/160525/Burt0/P-AL-2-1.R1.fastq.gz',\n",
       " '/home/cfriedline/eckertlab/projects/burt/seq/160525/Burt0/G-SC-1-9.R1.fastq.gz',\n",
       " '/home/cfriedline/eckertlab/projects/burt/seq/160525/Burt0/E-SC-6-4.R1.fastq.gz',\n",
       " '/home/cfriedline/eckertlab/projects/burt/seq/160525/Burt0/T-GA-3-7.R1.fastq.gz',\n",
       " '/home/cfriedline/eckertlab/projects/burt/seq/160525/Burt0/T-AR-2-8.R1.fastq.gz',\n",
       " '/home/cfriedline/eckertlab/projects/burt/seq/160525/Burt0/P-LA-1-21.R1.fastq.gz',\n",
       " '/home/cfriedline/eckertlab/projects/burt/seq/160525/Burt0/T-AL-5-9.R1.fastq.gz',\n",
       " '/home/cfriedline/eckertlab/projects/burt/seq/160525/Burt0/T-TX-1-18.R1.fastq.gz',\n",
       " '/home/cfriedline/eckertlab/projects/burt/seq/160525/Burt0/T-VA-2-3.R1.fastq.gz',\n",
       " '/home/cfriedline/eckertlab/projects/burt/seq/160525/Burt0/P-AL-5-5.R1.fastq.gz',\n",
       " '/home/cfriedline/eckertlab/projects/burt/seq/160525/Burt0/T-VA-3-9.R1.fastq.gz',\n",
       " '/home/cfriedline/eckertlab/projects/burt/seq/160525/Burt0/T-AL-1-1.R1.fastq.gz',\n",
       " '/home/cfriedline/eckertlab/projects/burt/seq/160525/Burt0/G-SC-1-6.R1.fastq.gz',\n",
       " '/home/cfriedline/eckertlab/projects/burt/seq/160525/Burt0/E-SC-4-9.R1.fastq.gz',\n",
       " '/home/cfriedline/eckertlab/projects/burt/seq/160525/Burt0/P-GA-5-11.R1.fastq.gz',\n",
       " '/home/cfriedline/eckertlab/projects/burt/seq/160525/Burt0/P-LA-1-12.R1.fastq.gz',\n",
       " '/home/cfriedline/eckertlab/projects/burt/seq/160525/Burt0/P-GA-4-11.R1.fastq.gz',\n",
       " '/home/cfriedline/eckertlab/projects/burt/seq/160525/Burt0/P-FL-1-8.R1.fastq.gz',\n",
       " '/home/cfriedline/eckertlab/projects/burt/seq/160525/Burt0/T-AL-5-15.R1.fastq.gz',\n",
       " '/home/cfriedline/eckertlab/projects/burt/seq/160525/Burt0/P-LA-1-9.R1.fastq.gz',\n",
       " '/home/cfriedline/eckertlab/projects/burt/seq/160525/Burt0/T-FL-1-8.R1.fastq.gz',\n",
       " '/home/cfriedline/eckertlab/projects/burt/seq/160525/Burt0/E-FL-1-1.R1.fastq.gz',\n",
       " '/home/cfriedline/eckertlab/projects/burt/seq/160525/Burt0/P-LA-1-11.R1.fastq.gz',\n",
       " '/home/cfriedline/eckertlab/projects/burt/seq/160525/Burt0/T-VA-3-3.R1.fastq.gz',\n",
       " '/home/cfriedline/eckertlab/projects/burt/seq/160525/Burt0/P-FL-1-30.R1.fastq.gz',\n",
       " '/home/cfriedline/eckertlab/projects/burt/seq/160525/Burt0/P-AL-4-12.R1.fastq.gz',\n",
       " '/home/cfriedline/eckertlab/projects/burt/seq/160525/Burt0/P-LA-1-1.R1.fastq.gz',\n",
       " '/home/cfriedline/eckertlab/projects/burt/seq/160525/Burt0/T-TX-1-4.R1.fastq.gz',\n",
       " '/home/cfriedline/eckertlab/projects/burt/seq/160525/Burt0/T-TX-1-11.R1.fastq.gz',\n",
       " '/home/cfriedline/eckertlab/projects/burt/seq/160525/Burt0/G-SC-1-4.R1.fastq.gz',\n",
       " '/home/cfriedline/eckertlab/projects/burt/seq/160525/Burt0/T-TX-1-7.R1.fastq.gz',\n",
       " '/home/cfriedline/eckertlab/projects/burt/seq/160525/Burt0/P-GA-4-8.R1.fastq.gz',\n",
       " '/home/cfriedline/eckertlab/projects/burt/seq/160525/Burt0/P-LA-1-13.R1.fastq.gz',\n",
       " '/home/cfriedline/eckertlab/projects/burt/seq/160525/Burt0/T-GA-3-5.R1.fastq.gz',\n",
       " '/home/cfriedline/eckertlab/projects/burt/seq/160525/Burt0/P-LA-1-16.R1.fastq.gz',\n",
       " '/home/cfriedline/eckertlab/projects/burt/seq/160525/Burt0/T-TX-1-24.R1.fastq.gz',\n",
       " '/home/cfriedline/eckertlab/projects/burt/seq/160525/Burt0/P-LA-1-18.R1.fastq.gz',\n",
       " '/home/cfriedline/eckertlab/projects/burt/seq/160525/Burt0/P-FL-1-12.R1.fastq.gz',\n",
       " '/home/cfriedline/eckertlab/projects/burt/seq/160525/Burt0/T-TX-1-2.R1.fastq.gz',\n",
       " '/home/cfriedline/eckertlab/projects/burt/seq/160525/Burt0/T-TX-1-6.R1.fastq.gz',\n",
       " '/home/cfriedline/eckertlab/projects/burt/seq/160525/Burt0/T-GA-4-9.R1.fastq.gz',\n",
       " '/home/cfriedline/eckertlab/projects/burt/seq/160525/Burt0/P-SC-1-14.R1.fastq.gz',\n",
       " '/home/cfriedline/eckertlab/projects/burt/seq/160525/Burt0/G-SC-1-5.R1.fastq.gz',\n",
       " '/home/cfriedline/eckertlab/projects/burt/seq/160525/Burt0/P-LA-1-17.R1.fastq.gz',\n",
       " '/home/cfriedline/eckertlab/projects/burt/seq/160525/Burt0/T-TX-1-20.R1.fastq.gz',\n",
       " '/home/cfriedline/eckertlab/projects/burt/seq/160525/Burt0/P-AL-4-5.R1.fastq.gz',\n",
       " '/home/cfriedline/eckertlab/projects/burt/seq/160525/Burt0/T-GA-3-12.R1.fastq.gz',\n",
       " '/home/cfriedline/eckertlab/projects/burt/seq/160525/Burt0/P-LA-1-25.R1.fastq.gz',\n",
       " '/home/cfriedline/eckertlab/projects/burt/seq/160525/Burt0/G-SC-1-8.R1.fastq.gz',\n",
       " '/home/cfriedline/eckertlab/projects/burt/seq/160525/Burt0/T-AL-6-8.R1.fastq.gz',\n",
       " '/home/cfriedline/eckertlab/projects/burt/seq/160525/Burt0/G-SC-1-7.R1.fastq.gz',\n",
       " '/home/cfriedline/eckertlab/projects/burt/seq/160525/Burt0/P-AL-5-13.R1.fastq.gz',\n",
       " '/home/cfriedline/eckertlab/projects/burt/seq/160525/Burt0/T-GA-4-2.R1.fastq.gz',\n",
       " '/home/cfriedline/eckertlab/projects/burt/seq/160525/Burt0/T-TX-1-23.R1.fastq.gz',\n",
       " '/home/cfriedline/eckertlab/projects/burt/seq/160525/Burt2/T-AL-6-11.R1.fastq.gz',\n",
       " '/home/cfriedline/eckertlab/projects/burt/seq/160525/Burt2/E-SC-3-15.R1.fastq.gz',\n",
       " '/home/cfriedline/eckertlab/projects/burt/seq/160525/Burt2/P-GA-2-11.R1.fastq.gz',\n",
       " '/home/cfriedline/eckertlab/projects/burt/seq/160525/Burt2/E-SC-4-12.R1.fastq.gz',\n",
       " '/home/cfriedline/eckertlab/projects/burt/seq/160525/Burt2/P-GA-1-13.R1.fastq.gz',\n",
       " '/home/cfriedline/eckertlab/projects/burt/seq/160525/Burt2/T-AL-5-13.R1.fastq.gz',\n",
       " '/home/cfriedline/eckertlab/projects/burt/seq/160525/Burt2/T-AR-2-21.R1.fastq.gz',\n",
       " '/home/cfriedline/eckertlab/projects/burt/seq/160525/Burt2/T-GA-2-11.R1.fastq.gz',\n",
       " '/home/cfriedline/eckertlab/projects/burt/seq/160525/Burt2/P-GA-5-14.R1.fastq.gz',\n",
       " '/home/cfriedline/eckertlab/projects/burt/seq/160525/Burt2/E-SC-4-4.R1.fastq.gz',\n",
       " '/home/cfriedline/eckertlab/projects/burt/seq/160525/Burt2/P-AL-3-15.R1.fastq.gz',\n",
       " '/home/cfriedline/eckertlab/projects/burt/seq/160525/Burt2/P-AL-5-12.R1.fastq.gz',\n",
       " '/home/cfriedline/eckertlab/projects/burt/seq/160525/Burt2/P-AL-4-11.R1.fastq.gz',\n",
       " '/home/cfriedline/eckertlab/projects/burt/seq/160525/Burt2/P-AL-3-7.R1.fastq.gz',\n",
       " '/home/cfriedline/eckertlab/projects/burt/seq/160525/Burt2/P-GA-1-5.R1.fastq.gz',\n",
       " '/home/cfriedline/eckertlab/projects/burt/seq/160525/Burt2/E-SC-3-2.R1.fastq.gz',\n",
       " '/home/cfriedline/eckertlab/projects/burt/seq/160525/Burt2/E-FL-1-21.R1.fastq.gz',\n",
       " '/home/cfriedline/eckertlab/projects/burt/seq/160525/Burt2/P-AL-2-6.R1.fastq.gz',\n",
       " '/home/cfriedline/eckertlab/projects/burt/seq/160525/Burt2/E-SC-3-3.R1.fastq.gz',\n",
       " '/home/cfriedline/eckertlab/projects/burt/seq/160525/Burt2/E-FL-1-18.R1.fastq.gz',\n",
       " '/home/cfriedline/eckertlab/projects/burt/seq/160525/Burt2/E-SC-3-10.R1.fastq.gz',\n",
       " '/home/cfriedline/eckertlab/projects/burt/seq/160525/Burt2/P-AL-4-15.R1.fastq.gz',\n",
       " '/home/cfriedline/eckertlab/projects/burt/seq/160525/Burt2/E-SC-3-9.R1.fastq.gz',\n",
       " '/home/cfriedline/eckertlab/projects/burt/seq/160525/Burt2/T-AR-2-15.R1.fastq.gz',\n",
       " '/home/cfriedline/eckertlab/projects/burt/seq/160525/Burt2/E-FL-1-13.R1.fastq.gz',\n",
       " '/home/cfriedline/eckertlab/projects/burt/seq/160525/Burt2/P-GA-2-13.R1.fastq.gz',\n",
       " '/home/cfriedline/eckertlab/projects/burt/seq/160525/Burt2/P-GA-2-2.R1.fastq.gz',\n",
       " '/home/cfriedline/eckertlab/projects/burt/seq/160525/Burt2/E-GA-3-3.R1.fastq.gz',\n",
       " '/home/cfriedline/eckertlab/projects/burt/seq/160525/Burt2/E-SC-3-5.R1.fastq.gz',\n",
       " '/home/cfriedline/eckertlab/projects/burt/seq/160525/Burt2/P-AL-2-8.R1.fastq.gz',\n",
       " '/home/cfriedline/eckertlab/projects/burt/seq/160525/Burt2/T-AL-5-4.R1.fastq.gz',\n",
       " '/home/cfriedline/eckertlab/projects/burt/seq/160525/Burt2/P-GA-1-8.R1.fastq.gz',\n",
       " '/home/cfriedline/eckertlab/projects/burt/seq/160525/Burt2/T-AL-5-12.R1.fastq.gz',\n",
       " '/home/cfriedline/eckertlab/projects/burt/seq/160525/Burt2/T-GA-2-12.R1.fastq.gz',\n",
       " '/home/cfriedline/eckertlab/projects/burt/seq/160525/Burt2/T-AR-1-25.R1.fastq.gz',\n",
       " '/home/cfriedline/eckertlab/projects/burt/seq/160525/Burt2/E-FL-1-17.R1.fastq.gz',\n",
       " '/home/cfriedline/eckertlab/projects/burt/seq/160525/Burt2/E-FL-1-15.R1.fastq.gz',\n",
       " '/home/cfriedline/eckertlab/projects/burt/seq/160525/Burt2/E-SC-3-6.R1.fastq.gz',\n",
       " '/home/cfriedline/eckertlab/projects/burt/seq/160525/Burt2/E-GA-1-15.R1.fastq.gz',\n",
       " '/home/cfriedline/eckertlab/projects/burt/seq/160525/Burt2/T-AR-2-13.R1.fastq.gz',\n",
       " '/home/cfriedline/eckertlab/projects/burt/seq/160525/Burt2/P-GA-1-7.R1.fastq.gz',\n",
       " '/home/cfriedline/eckertlab/projects/burt/seq/160525/Burt2/P-AL-4-8.R1.fastq.gz',\n",
       " '/home/cfriedline/eckertlab/projects/burt/seq/160525/Burt2/E-SC-3-4.R1.fastq.gz',\n",
       " '/home/cfriedline/eckertlab/projects/burt/seq/160525/Burt2/T-AL-1-16.R1.fastq.gz',\n",
       " '/home/cfriedline/eckertlab/projects/burt/seq/160525/Burt2/P-GA-5-8.R1.fastq.gz',\n",
       " '/home/cfriedline/eckertlab/projects/burt/seq/160525/Burt2/E-FL-1-19.R1.fastq.gz',\n",
       " '/home/cfriedline/eckertlab/projects/burt/seq/160525/Burt2/P-AL-5-7.R1.fastq.gz',\n",
       " '/home/cfriedline/eckertlab/projects/burt/seq/160525/Burt2/E-SC-4-7.R1.fastq.gz',\n",
       " '/home/cfriedline/eckertlab/projects/burt/seq/160525/Burt2/T-AL-6-3.R1.fastq.gz',\n",
       " '/home/cfriedline/eckertlab/projects/burt/seq/160525/Burt2/T-GA-2-5.R1.fastq.gz',\n",
       " '/home/cfriedline/eckertlab/projects/burt/seq/160525/Burt2/T-AR-2-23.R1.fastq.gz',\n",
       " '/home/cfriedline/eckertlab/projects/burt/seq/160525/Burt2/T-AL-1-12.R1.fastq.gz',\n",
       " '/home/cfriedline/eckertlab/projects/burt/seq/160525/Burt2/P-AL-5-9.R1.fastq.gz',\n",
       " '/home/cfriedline/eckertlab/projects/burt/seq/160525/Burt2/T-AL-6-5.R1.fastq.gz',\n",
       " '/home/cfriedline/eckertlab/projects/burt/seq/160525/Burt2/P-GA-2-15.R1.fastq.gz',\n",
       " '/home/cfriedline/eckertlab/projects/burt/seq/160525/Burt2/T-AR-2-11.R1.fastq.gz',\n",
       " '/home/cfriedline/eckertlab/projects/burt/seq/160525/Burt2/E-SC-3-7.R1.fastq.gz',\n",
       " '/home/cfriedline/eckertlab/projects/burt/seq/160525/Burt2/T-VA-2-11.R1.fastq.gz',\n",
       " '/home/cfriedline/eckertlab/projects/burt/seq/160525/Burt2/T-AL-6-7.R1.fastq.gz',\n",
       " '/home/cfriedline/eckertlab/projects/burt/seq/160525/Burt2/E-SC-4-10.R1.fastq.gz',\n",
       " '/home/cfriedline/eckertlab/projects/burt/seq/160525/Burt2/E-SC-4-5.R1.fastq.gz',\n",
       " '/home/cfriedline/eckertlab/projects/burt/seq/160525/Burt2/P-GA-1-6.R1.fastq.gz',\n",
       " '/home/cfriedline/eckertlab/projects/burt/seq/160525/Burt2/T-AR-1-14.R1.fastq.gz',\n",
       " '/home/cfriedline/eckertlab/projects/burt/seq/160525/Burt2/E-SC-4-3.R1.fastq.gz',\n",
       " '/home/cfriedline/eckertlab/projects/burt/seq/160525/Burt2/E-SC-4-8.R1.fastq.gz',\n",
       " '/home/cfriedline/eckertlab/projects/burt/seq/160525/Burt2/E-SC-4-11.R1.fastq.gz',\n",
       " '/home/cfriedline/eckertlab/projects/burt/seq/160525/Burt2/P-AL-5-10.R1.fastq.gz',\n",
       " '/home/cfriedline/eckertlab/projects/burt/seq/160525/Burt2/T-AL-6-2.R1.fastq.gz',\n",
       " '/home/cfriedline/eckertlab/projects/burt/seq/160525/Burt2/T-AL-6-1.R1.fastq.gz',\n",
       " '/home/cfriedline/eckertlab/projects/burt/seq/160525/Burt2/E-SC-4-6.R1.fastq.gz',\n",
       " '/home/cfriedline/eckertlab/projects/burt/seq/160525/Burt2/T-FL-1-12.R1.fastq.gz',\n",
       " '/home/cfriedline/eckertlab/projects/burt/seq/160525/Burt2/E-SC-3-12.R1.fastq.gz',\n",
       " '/home/cfriedline/eckertlab/projects/burt/seq/160525/Burt2/T-GA-2-13.R1.fastq.gz',\n",
       " '/home/cfriedline/eckertlab/projects/burt/seq/160525/Burt2/T-AL-6-9.R1.fastq.gz',\n",
       " '/home/cfriedline/eckertlab/projects/burt/seq/160525/Burt2/T-AR-2-6.R1.fastq.gz',\n",
       " '/home/cfriedline/eckertlab/projects/burt/seq/160525/Burt2/T-AL-5-11.R1.fastq.gz',\n",
       " '/home/cfriedline/eckertlab/projects/burt/seq/160525/Burt2/T-AR-1-3.R1.fastq.gz',\n",
       " '/home/cfriedline/eckertlab/projects/burt/seq/160525/Burt2/P-GA-1-2.R1.fastq.gz',\n",
       " '/home/cfriedline/eckertlab/projects/burt/seq/160525/Burt2/P-GA-2-7.R1.fastq.gz',\n",
       " '/home/cfriedline/eckertlab/projects/burt/seq/160525/Burt2/T-GA-2-1.R1.fastq.gz',\n",
       " '/home/cfriedline/eckertlab/projects/burt/seq/160525/Burt2/T-AL-5-7.R1.fastq.gz',\n",
       " '/home/cfriedline/eckertlab/projects/burt/seq/160525/Burt2/T-AR-2-16.R1.fastq.gz',\n",
       " '/home/cfriedline/eckertlab/projects/burt/seq/160525/Burt2/E-SC-4-2.R1.fastq.gz',\n",
       " '/home/cfriedline/eckertlab/projects/burt/seq/160525/Burt2/P-AL-4-7.R1.fastq.gz',\n",
       " '/home/cfriedline/eckertlab/projects/burt/seq/160525/Burt2/P-AL-2-3.R1.fastq.gz',\n",
       " '/home/cfriedline/eckertlab/projects/burt/seq/160525/Burt2/T-AR-1-7.R1.fastq.gz',\n",
       " '/home/cfriedline/eckertlab/projects/burt/seq/160525/Burt2/E-SC-3-1.R1.fastq.gz',\n",
       " '/home/cfriedline/eckertlab/projects/burt/seq/160525/Burt2/E-SC-4-14.R1.fastq.gz',\n",
       " '/home/cfriedline/eckertlab/projects/burt/seq/160525/Burt2/P-SC-1-15.R1.fastq.gz',\n",
       " '/home/cfriedline/eckertlab/projects/burt/seq/160525/Burt2/P-GA-2-10.R1.fastq.gz',\n",
       " '/home/cfriedline/eckertlab/projects/burt/seq/160525/Burt2/E-SC-3-11.R1.fastq.gz',\n",
       " '/home/cfriedline/eckertlab/projects/burt/seq/160525/Burt2/P-AL-4-3.R1.fastq.gz',\n",
       " '/home/cfriedline/eckertlab/projects/burt/seq/160525/Burt2/T-AR-1-12.R1.fastq.gz',\n",
       " '/home/cfriedline/eckertlab/projects/burt/seq/160525/Burt2/P-GA-2-3.R1.fastq.gz',\n",
       " '/home/cfriedline/eckertlab/projects/burt/seq/160525/Burt2/E-GA-1-5.R1.fastq.gz',\n",
       " '/home/cfriedline/eckertlab/projects/burt/seq/160525/Burt2/T-AL-6-6.R1.fastq.gz',\n",
       " '/home/cfriedline/eckertlab/projects/burt/seq/160525/Burt4/P-AL-4-9.R1.fastq.gz',\n",
       " '/home/cfriedline/eckertlab/projects/burt/seq/160525/Burt4/P-AL-4-14.R1.fastq.gz',\n",
       " '/home/cfriedline/eckertlab/projects/burt/seq/160525/Burt4/P-GA-5-2.R1.fastq.gz',\n",
       " '/home/cfriedline/eckertlab/projects/burt/seq/160525/Burt4/E-GA-3-5.R1.fastq.gz',\n",
       " '/home/cfriedline/eckertlab/projects/burt/seq/160525/Burt4/E-GA-3-7.R1.fastq.gz',\n",
       " '/home/cfriedline/eckertlab/projects/burt/seq/160525/Burt4/T-FL-1-4.R1.fastq.gz',\n",
       " '/home/cfriedline/eckertlab/projects/burt/seq/160525/Burt4/T-AL-5-14.R1.fastq.gz',\n",
       " '/home/cfriedline/eckertlab/projects/burt/seq/160525/Burt4/T-AL-5-8.R1.fastq.gz',\n",
       " '/home/cfriedline/eckertlab/projects/burt/seq/160525/Burt4/E-GA-3-15.R1.fastq.gz',\n",
       " '/home/cfriedline/eckertlab/projects/burt/seq/160525/Burt4/P-GA-1-11.R1.fastq.gz',\n",
       " '/home/cfriedline/eckertlab/projects/burt/seq/160525/Burt4/E-GA-3-12.R1.fastq.gz',\n",
       " '/home/cfriedline/eckertlab/projects/burt/seq/160525/Burt4/E-GA-3-4.R1.fastq.gz',\n",
       " '/home/cfriedline/eckertlab/projects/burt/seq/160525/Burt4/P-AL-4-4.R1.fastq.gz',\n",
       " '/home/cfriedline/eckertlab/projects/burt/seq/160525/Burt4/P-AL-3-10.R1.fastq.gz',\n",
       " '/home/cfriedline/eckertlab/projects/burt/seq/160525/Burt4/P-GA-2-5.R1.fastq.gz',\n",
       " '/home/cfriedline/eckertlab/projects/burt/seq/160525/Burt4/P-AL-2-13.R1.fastq.gz',\n",
       " '/home/cfriedline/eckertlab/projects/burt/seq/160525/Burt4/E-GA-2-7.R1.fastq.gz',\n",
       " '/home/cfriedline/eckertlab/projects/burt/seq/160525/Burt4/E-GA-2-15.R1.fastq.gz',\n",
       " '/home/cfriedline/eckertlab/projects/burt/seq/160525/Burt4/T-VA-1-3.R1.fastq.gz',\n",
       " '/home/cfriedline/eckertlab/projects/burt/seq/160525/Burt4/T-AL-5-10.R1.fastq.gz',\n",
       " '/home/cfriedline/eckertlab/projects/burt/seq/160525/Burt4/E-GA-3-6.R1.fastq.gz',\n",
       " '/home/cfriedline/eckertlab/projects/burt/seq/160525/Burt4/P-GA-4-5.R1.fastq.gz',\n",
       " '/home/cfriedline/eckertlab/projects/burt/seq/160525/Burt4/T-FL-1-14.R1.fastq.gz',\n",
       " '/home/cfriedline/eckertlab/projects/burt/seq/160525/Burt4/T-FL-1-15.R1.fastq.gz',\n",
       " '/home/cfriedline/eckertlab/projects/burt/seq/160525/Burt4/E-GA-2-11.R1.fastq.gz',\n",
       " '/home/cfriedline/eckertlab/projects/burt/seq/160525/Burt4/E-GA-1-10.R1.fastq.gz',\n",
       " '/home/cfriedline/eckertlab/projects/burt/seq/160525/Burt4/T-VA-3-4.R1.fastq.gz',\n",
       " '/home/cfriedline/eckertlab/projects/burt/seq/160525/Burt4/E-GA-2-1.R1.fastq.gz',\n",
       " '/home/cfriedline/eckertlab/projects/burt/seq/160525/Burt4/T-VA-1-7.R1.fastq.gz',\n",
       " '/home/cfriedline/eckertlab/projects/burt/seq/160525/Burt4/E-GA-2-12.R1.fastq.gz',\n",
       " '/home/cfriedline/eckertlab/projects/burt/seq/160525/Burt4/E-GA-1-11.R1.fastq.gz',\n",
       " '/home/cfriedline/eckertlab/projects/burt/seq/160525/Burt4/E-GA-2-8.R1.fastq.gz',\n",
       " '/home/cfriedline/eckertlab/projects/burt/seq/160525/Burt4/E-GA-1-12.R1.fastq.gz',\n",
       " '/home/cfriedline/eckertlab/projects/burt/seq/160525/Burt4/T-GA-3-11.R1.fastq.gz',\n",
       " '/home/cfriedline/eckertlab/projects/burt/seq/160525/Burt4/E-GA-3-13.R1.fastq.gz',\n",
       " '/home/cfriedline/eckertlab/projects/burt/seq/160525/Burt4/P-AL-3-9.R1.fastq.gz',\n",
       " '/home/cfriedline/eckertlab/projects/burt/seq/160525/Burt4/T-GA-3-1.R1.fastq.gz',\n",
       " '/home/cfriedline/eckertlab/projects/burt/seq/160525/Burt4/T-VA-1-12.R1.fastq.gz',\n",
       " '/home/cfriedline/eckertlab/projects/burt/seq/160525/Burt4/T-GA-3-13.R1.fastq.gz',\n",
       " '/home/cfriedline/eckertlab/projects/burt/seq/160525/Burt4/P-AL-3-12.R1.fastq.gz',\n",
       " ...]"
      ]
     },
     "execution_count": 7,
     "metadata": {},
     "output_type": "execute_result"
    }
   ],
   "source": [
    "fqs['fastq'].tolist()"
   ]
  },
  {
   "cell_type": "code",
   "execution_count": 8,
   "metadata": {},
   "outputs": [
    {
     "data": {
      "text/plain": [
       "(1709, 1709)"
      ]
     },
     "execution_count": 8,
     "metadata": {},
     "output_type": "execute_result"
    }
   ],
   "source": [
    "# get unique basenames names for all fastqs\n",
    "bcounts = Counter()\n",
    "bnames = {}\n",
    "for fastq in fqs['fastq']:\n",
    "    bname = op.basename(fastq).replace(\".R1.fastq.gz\", \"_R1.fastq.gz\")\n",
    "    bcounts[bname] += 1\n",
    "    if not bname in list(bnames.values()):\n",
    "        bnames[fastq] = bname\n",
    "    else:\n",
    "        bname = bname.replace(\"R1.fastq.gz\", \"%s_R1.fastq.gz\" % bcounts[bname])\n",
    "    bnames[fastq] = bname\n",
    "len(bnames), luni(bnames.values())"
   ]
  },
  {
   "cell_type": "code",
   "execution_count": 9,
   "metadata": {},
   "outputs": [
    {
     "data": {
      "text/html": [
       "<div>\n",
       "<style scoped>\n",
       "    .dataframe tbody tr th:only-of-type {\n",
       "        vertical-align: middle;\n",
       "    }\n",
       "\n",
       "    .dataframe tbody tr th {\n",
       "        vertical-align: top;\n",
       "    }\n",
       "\n",
       "    .dataframe thead th {\n",
       "        text-align: right;\n",
       "    }\n",
       "</style>\n",
       "<table border=\"1\" class=\"dataframe\">\n",
       "  <thead>\n",
       "    <tr style=\"text-align: right;\">\n",
       "      <th></th>\n",
       "      <th>sample_name</th>\n",
       "      <th>library_name</th>\n",
       "      <th>pool_name</th>\n",
       "      <th>ploidy</th>\n",
       "      <th>file_name_r1</th>\n",
       "      <th>file_name_r2</th>\n",
       "      <th>adaptor_1</th>\n",
       "      <th>adaptor_2</th>\n",
       "      <th>ref</th>\n",
       "      <th>rgid</th>\n",
       "      <th>rglb</th>\n",
       "      <th>rgpl</th>\n",
       "      <th>rgpu</th>\n",
       "      <th>rgsm</th>\n",
       "    </tr>\n",
       "  </thead>\n",
       "  <tbody>\n",
       "  </tbody>\n",
       "</table>\n",
       "</div>"
      ],
      "text/plain": [
       "Empty DataFrame\n",
       "Columns: [sample_name, library_name, pool_name, ploidy, file_name_r1, file_name_r2, adaptor_1, adaptor_2, ref, rgid, rglb, rgpl, rgpu, rgsm]\n",
       "Index: []"
      ]
     },
     "metadata": {},
     "output_type": "display_data"
    },
    {
     "name": "stderr",
     "output_type": "stream",
     "text": [
      "100%|██████████| 1709/1709 [00:17<00:00, 95.75it/s]\n"
     ]
    },
    {
     "data": {
      "text/html": [
       "<div>\n",
       "<style scoped>\n",
       "    .dataframe tbody tr th:only-of-type {\n",
       "        vertical-align: middle;\n",
       "    }\n",
       "\n",
       "    .dataframe tbody tr th {\n",
       "        vertical-align: top;\n",
       "    }\n",
       "\n",
       "    .dataframe thead th {\n",
       "        text-align: right;\n",
       "    }\n",
       "</style>\n",
       "<table border=\"1\" class=\"dataframe\">\n",
       "  <thead>\n",
       "    <tr style=\"text-align: right;\">\n",
       "      <th></th>\n",
       "      <th>sample_name</th>\n",
       "      <th>library_name</th>\n",
       "      <th>pool_name</th>\n",
       "      <th>ploidy</th>\n",
       "      <th>file_name_r1</th>\n",
       "      <th>file_name_r2</th>\n",
       "      <th>adaptor_1</th>\n",
       "      <th>adaptor_2</th>\n",
       "      <th>ref</th>\n",
       "      <th>rgid</th>\n",
       "      <th>rglb</th>\n",
       "      <th>rgpl</th>\n",
       "      <th>rgpu</th>\n",
       "      <th>rgsm</th>\n",
       "    </tr>\n",
       "  </thead>\n",
       "  <tbody>\n",
       "    <tr>\n",
       "      <th>0</th>\n",
       "      <td>T-AR-2-7</td>\n",
       "      <td>Burt0</td>\n",
       "      <td>BURT</td>\n",
       "      <td>2</td>\n",
       "      <td>T-AR-2-7_R1.fastq.gz</td>\n",
       "      <td>NaN</td>\n",
       "      <td>NaN</td>\n",
       "      <td>NaN</td>\n",
       "      <td>/home/lindb/eckertlab/BURT/refs/dDocent_denovo...</td>\n",
       "      <td>T-AR-2-7.160520.Burt0</td>\n",
       "      <td>Burt0</td>\n",
       "      <td>ILLUMINA</td>\n",
       "      <td>C7WRGACXX.1.T-AR-2-7</td>\n",
       "      <td>T-AR-2-7</td>\n",
       "    </tr>\n",
       "    <tr>\n",
       "      <th>1</th>\n",
       "      <td>T-TX-1-19</td>\n",
       "      <td>Burt0</td>\n",
       "      <td>BURT</td>\n",
       "      <td>2</td>\n",
       "      <td>T-TX-1-19_R1.fastq.gz</td>\n",
       "      <td>NaN</td>\n",
       "      <td>NaN</td>\n",
       "      <td>NaN</td>\n",
       "      <td>/home/lindb/eckertlab/BURT/refs/dDocent_denovo...</td>\n",
       "      <td>T-TX-1-19.160520.Burt0</td>\n",
       "      <td>Burt0</td>\n",
       "      <td>ILLUMINA</td>\n",
       "      <td>C7WRGACXX.1.T-TX-1-19</td>\n",
       "      <td>T-TX-1-19</td>\n",
       "    </tr>\n",
       "    <tr>\n",
       "      <th>2</th>\n",
       "      <td>G-SC-1-3</td>\n",
       "      <td>Burt0</td>\n",
       "      <td>BURT</td>\n",
       "      <td>2</td>\n",
       "      <td>G-SC-1-3_R1.fastq.gz</td>\n",
       "      <td>NaN</td>\n",
       "      <td>NaN</td>\n",
       "      <td>NaN</td>\n",
       "      <td>/home/lindb/eckertlab/BURT/refs/dDocent_denovo...</td>\n",
       "      <td>G-SC-1-3.160520.Burt0</td>\n",
       "      <td>Burt0</td>\n",
       "      <td>ILLUMINA</td>\n",
       "      <td>C7WRGACXX.1.G-SC-1-3</td>\n",
       "      <td>G-SC-1-3</td>\n",
       "    </tr>\n",
       "    <tr>\n",
       "      <th>3</th>\n",
       "      <td>P-LA-2-10</td>\n",
       "      <td>Burt0</td>\n",
       "      <td>BURT</td>\n",
       "      <td>2</td>\n",
       "      <td>P-LA-2-10_R1.fastq.gz</td>\n",
       "      <td>NaN</td>\n",
       "      <td>NaN</td>\n",
       "      <td>NaN</td>\n",
       "      <td>/home/lindb/eckertlab/BURT/refs/dDocent_denovo...</td>\n",
       "      <td>P-LA-2-10.160520.Burt0</td>\n",
       "      <td>Burt0</td>\n",
       "      <td>ILLUMINA</td>\n",
       "      <td>C7WRGACXX.1.P-LA-2-10</td>\n",
       "      <td>P-LA-2-10</td>\n",
       "    </tr>\n",
       "    <tr>\n",
       "      <th>4</th>\n",
       "      <td>T-AL-1-2</td>\n",
       "      <td>Burt0</td>\n",
       "      <td>BURT</td>\n",
       "      <td>2</td>\n",
       "      <td>T-AL-1-2_R1.fastq.gz</td>\n",
       "      <td>NaN</td>\n",
       "      <td>NaN</td>\n",
       "      <td>NaN</td>\n",
       "      <td>/home/lindb/eckertlab/BURT/refs/dDocent_denovo...</td>\n",
       "      <td>T-AL-1-2.160520.Burt0</td>\n",
       "      <td>Burt0</td>\n",
       "      <td>ILLUMINA</td>\n",
       "      <td>C7WRGACXX.1.T-AL-1-2</td>\n",
       "      <td>T-AL-1-2</td>\n",
       "    </tr>\n",
       "  </tbody>\n",
       "</table>\n",
       "</div>"
      ],
      "text/plain": [
       "  sample_name library_name pool_name  ploidy           file_name_r1  \\\n",
       "0    T-AR-2-7        Burt0      BURT       2   T-AR-2-7_R1.fastq.gz   \n",
       "1   T-TX-1-19        Burt0      BURT       2  T-TX-1-19_R1.fastq.gz   \n",
       "2    G-SC-1-3        Burt0      BURT       2   G-SC-1-3_R1.fastq.gz   \n",
       "3   P-LA-2-10        Burt0      BURT       2  P-LA-2-10_R1.fastq.gz   \n",
       "4    T-AL-1-2        Burt0      BURT       2   T-AL-1-2_R1.fastq.gz   \n",
       "\n",
       "   file_name_r2  adaptor_1  adaptor_2  \\\n",
       "0           NaN        NaN        NaN   \n",
       "1           NaN        NaN        NaN   \n",
       "2           NaN        NaN        NaN   \n",
       "3           NaN        NaN        NaN   \n",
       "4           NaN        NaN        NaN   \n",
       "\n",
       "                                                 ref                    rgid  \\\n",
       "0  /home/lindb/eckertlab/BURT/refs/dDocent_denovo...   T-AR-2-7.160520.Burt0   \n",
       "1  /home/lindb/eckertlab/BURT/refs/dDocent_denovo...  T-TX-1-19.160520.Burt0   \n",
       "2  /home/lindb/eckertlab/BURT/refs/dDocent_denovo...   G-SC-1-3.160520.Burt0   \n",
       "3  /home/lindb/eckertlab/BURT/refs/dDocent_denovo...  P-LA-2-10.160520.Burt0   \n",
       "4  /home/lindb/eckertlab/BURT/refs/dDocent_denovo...   T-AL-1-2.160520.Burt0   \n",
       "\n",
       "    rglb      rgpl                   rgpu       rgsm  \n",
       "0  Burt0  ILLUMINA   C7WRGACXX.1.T-AR-2-7   T-AR-2-7  \n",
       "1  Burt0  ILLUMINA  C7WRGACXX.1.T-TX-1-19  T-TX-1-19  \n",
       "2  Burt0  ILLUMINA   C7WRGACXX.1.G-SC-1-3   G-SC-1-3  \n",
       "3  Burt0  ILLUMINA  C7WRGACXX.1.P-LA-2-10  P-LA-2-10  \n",
       "4  Burt0  ILLUMINA   C7WRGACXX.1.T-AL-1-2   T-AL-1-2  "
      ]
     },
     "execution_count": 9,
     "metadata": {},
     "output_type": "execute_result"
    }
   ],
   "source": [
    "# read in datatable.txt template, create blank template\n",
    "dt = pd.read_table('/home/lindb/g/varscan_pipeline/datatable.txt')\n",
    "dt = pd.DataFrame(columns=dt.columns)\n",
    "display(dt)  # display blank df to show col names\n",
    "\n",
    "for line in nb(fqs.index):\n",
    "    row = nrow(dt)\n",
    "    dt.loc[row, 'sample_name'] = fqs.loc[line, 'sample_name']\n",
    "    dt.loc[row, 'library_name'] = fqs.loc[line, 'lib']\n",
    "    dt.loc[row, 'file_name_r1'] = bnames[fqs.loc[line, 'fastq']]\n",
    "    dt.loc[row, 'rgid'] = fqs.loc[line, 'RGID']\n",
    "    dt.loc[row, 'rglb'] = fqs.loc[line, 'RGLB']\n",
    "    dt.loc[row, 'rgpu'] = fqs.loc[line, 'RGPU']\n",
    "    dt.loc[row, 'rgsm'] = dt.loc[row, 'sample_name']\n",
    "dt['pool_name'] = 'BURT'\n",
    "dt['ploidy'] = 2\n",
    "dt['file_name_r2'] = np.nan\n",
    "dt['adaptor_1'] = np.nan\n",
    "dt['adaptor_2'] = np.nan\n",
    "dt['ref'] = '/home/lindb/eckertlab/BURT/refs/dDocent_denovo_assembly/reference_pseudo.fasta'\n",
    "dt['rgpl'] = 'ILLUMINA'\n",
    "dt.head()"
   ]
  },
  {
   "cell_type": "code",
   "execution_count": 10,
   "metadata": {},
   "outputs": [
    {
     "data": {
      "text/html": [
       "<div>\n",
       "<style scoped>\n",
       "    .dataframe tbody tr th:only-of-type {\n",
       "        vertical-align: middle;\n",
       "    }\n",
       "\n",
       "    .dataframe tbody tr th {\n",
       "        vertical-align: top;\n",
       "    }\n",
       "\n",
       "    .dataframe thead th {\n",
       "        text-align: right;\n",
       "    }\n",
       "</style>\n",
       "<table border=\"1\" class=\"dataframe\">\n",
       "  <thead>\n",
       "    <tr style=\"text-align: right;\">\n",
       "      <th></th>\n",
       "      <th>sample_name</th>\n",
       "      <th>library_name</th>\n",
       "      <th>pool_name</th>\n",
       "      <th>ploidy</th>\n",
       "      <th>file_name_r1</th>\n",
       "      <th>file_name_r2</th>\n",
       "      <th>adaptor_1</th>\n",
       "      <th>adaptor_2</th>\n",
       "      <th>ref</th>\n",
       "      <th>rgid</th>\n",
       "      <th>rglb</th>\n",
       "      <th>rgpl</th>\n",
       "      <th>rgpu</th>\n",
       "      <th>rgsm</th>\n",
       "    </tr>\n",
       "  </thead>\n",
       "  <tbody>\n",
       "    <tr>\n",
       "      <th>613</th>\n",
       "      <td>G-NC-1-4</td>\n",
       "      <td>Burt6</td>\n",
       "      <td>BURT</td>\n",
       "      <td>2</td>\n",
       "      <td>G-NC-1-4_R1.fastq.gz</td>\n",
       "      <td>NaN</td>\n",
       "      <td>NaN</td>\n",
       "      <td>NaN</td>\n",
       "      <td>/home/lindb/eckertlab/BURT/refs/dDocent_denovo...</td>\n",
       "      <td>G-NC-1-4.160520.Burt6</td>\n",
       "      <td>Burt6</td>\n",
       "      <td>ILLUMINA</td>\n",
       "      <td>C7WRGACXX.7.G-NC-1-4</td>\n",
       "      <td>G-NC-1-4</td>\n",
       "    </tr>\n",
       "    <tr>\n",
       "      <th>1093</th>\n",
       "      <td>G-NC-1-4</td>\n",
       "      <td>Burt6</td>\n",
       "      <td>BURT</td>\n",
       "      <td>2</td>\n",
       "      <td>G-NC-1-4_2_R1.fastq.gz</td>\n",
       "      <td>NaN</td>\n",
       "      <td>NaN</td>\n",
       "      <td>NaN</td>\n",
       "      <td>/home/lindb/eckertlab/BURT/refs/dDocent_denovo...</td>\n",
       "      <td>G-NC-1-4.160525.Burt6</td>\n",
       "      <td>Burt6</td>\n",
       "      <td>ILLUMINA</td>\n",
       "      <td>C7WP4ACXX.7.G-NC-1-4</td>\n",
       "      <td>G-NC-1-4</td>\n",
       "    </tr>\n",
       "    <tr>\n",
       "      <th>1694</th>\n",
       "      <td>G-NC-1-4</td>\n",
       "      <td>BURT_13</td>\n",
       "      <td>BURT</td>\n",
       "      <td>2</td>\n",
       "      <td>G-NC-1-4_3_R1.fastq.gz</td>\n",
       "      <td>NaN</td>\n",
       "      <td>NaN</td>\n",
       "      <td>NaN</td>\n",
       "      <td>/home/lindb/eckertlab/BURT/refs/dDocent_denovo...</td>\n",
       "      <td>G-NC-1-4.Novogene1.BURT_13</td>\n",
       "      <td>BURT_13</td>\n",
       "      <td>ILLUMINA</td>\n",
       "      <td>HKFKHBBXX.5.G-NC-1-4</td>\n",
       "      <td>G-NC-1-4</td>\n",
       "    </tr>\n",
       "  </tbody>\n",
       "</table>\n",
       "</div>"
      ],
      "text/plain": [
       "     sample_name library_name pool_name  ploidy            file_name_r1  \\\n",
       "613     G-NC-1-4        Burt6      BURT       2    G-NC-1-4_R1.fastq.gz   \n",
       "1093    G-NC-1-4        Burt6      BURT       2  G-NC-1-4_2_R1.fastq.gz   \n",
       "1694    G-NC-1-4      BURT_13      BURT       2  G-NC-1-4_3_R1.fastq.gz   \n",
       "\n",
       "      file_name_r2  adaptor_1  adaptor_2  \\\n",
       "613            NaN        NaN        NaN   \n",
       "1093           NaN        NaN        NaN   \n",
       "1694           NaN        NaN        NaN   \n",
       "\n",
       "                                                    ref  \\\n",
       "613   /home/lindb/eckertlab/BURT/refs/dDocent_denovo...   \n",
       "1093  /home/lindb/eckertlab/BURT/refs/dDocent_denovo...   \n",
       "1694  /home/lindb/eckertlab/BURT/refs/dDocent_denovo...   \n",
       "\n",
       "                            rgid     rglb      rgpl                  rgpu  \\\n",
       "613        G-NC-1-4.160520.Burt6    Burt6  ILLUMINA  C7WRGACXX.7.G-NC-1-4   \n",
       "1093       G-NC-1-4.160525.Burt6    Burt6  ILLUMINA  C7WP4ACXX.7.G-NC-1-4   \n",
       "1694  G-NC-1-4.Novogene1.BURT_13  BURT_13  ILLUMINA  HKFKHBBXX.5.G-NC-1-4   \n",
       "\n",
       "          rgsm  \n",
       "613   G-NC-1-4  \n",
       "1093  G-NC-1-4  \n",
       "1694  G-NC-1-4  "
      ]
     },
     "execution_count": 10,
     "metadata": {},
     "output_type": "execute_result"
    }
   ],
   "source": [
    "# look at an example with multiple files\n",
    "dt[dt['sample_name']=='G-NC-1-4']"
   ]
  },
  {
   "cell_type": "code",
   "execution_count": 11,
   "metadata": {},
   "outputs": [
    {
     "data": {
      "text/plain": [
       "'/gpfs_fs/home/eckertlab/BURT/002_trim_and_map/denovo_mapping'"
      ]
     },
     "execution_count": 11,
     "metadata": {},
     "output_type": "execute_result"
    }
   ],
   "source": [
    "denovodir"
   ]
  },
  {
   "cell_type": "code",
   "execution_count": 12,
   "metadata": {},
   "outputs": [],
   "source": [
    "dt.to_csv(op.join(denovodir, 'datatable.txt'), sep='\\t', index=False)"
   ]
  },
  {
   "cell_type": "code",
   "execution_count": 13,
   "metadata": {},
   "outputs": [
    {
     "name": "stderr",
     "output_type": "stream",
     "text": [
      "100%|██████████| 1709/1709 [00:00<00:00, 689767.66it/s]\n"
     ]
    }
   ],
   "source": [
    "# make symlinks to parentdir\n",
    "for src in nb(fqs['fastq']):\n",
    "    dst = op.join(denovodir, bnames[src])\n",
    "    os.symlink(src, dst)"
   ]
  },
  {
   "cell_type": "code",
   "execution_count": null,
   "metadata": {},
   "outputs": [],
   "source": [
    "# run 00_start but comment out the qsub command in 01_trim.py"
   ]
  },
  {
   "cell_type": "code",
   "execution_count": 14,
   "metadata": {},
   "outputs": [
    {
     "data": {
      "text/plain": [
       "Namespace(email='lindb@vcu.edu', email_options=['fail'], maf=None, paralogs=False, parentdir='/gpfs_fs/home/eckertlab/BURT/002_trim_and_map/denovo_mapping', repeats=False, sge=True, translate=True)"
      ]
     },
     "execution_count": 14,
     "metadata": {},
     "output_type": "execute_result"
    }
   ],
   "source": [
    "pklload(op.join(denovodir, 'pipeline_start_command.pkl'))"
   ]
  },
  {
   "cell_type": "markdown",
   "metadata": {},
   "source": [
    "# chain up the .sh files\n",
    "\n",
    "godel only allows 200 job submissions, so I'm going to create chains of jobs so that once one job finishes mapping it submits a trim job."
   ]
  },
  {
   "cell_type": "markdown",
   "metadata": {},
   "source": [
    "#### first run each python script to create the sh files for the next step (through marking duplicates)\n",
    "\n",
    "I went into the pipeline and commented out the part where it submits the jobs so that I could run each python script"
   ]
  },
  {
   "cell_type": "code",
   "execution_count": 16,
   "metadata": {},
   "outputs": [
    {
     "data": {
      "text/plain": [
       "1135"
      ]
     },
     "execution_count": 16,
     "metadata": {},
     "output_type": "execute_result"
    }
   ],
   "source": [
    "# get the trimming shfiles to create the mapping shfiles\n",
    "shdir = op.join(denovodir, 'BURT/shfiles/01_trimmed_shfiles')\n",
    "trimshfiles = fs(shdir, endswith='.sh')\n",
    "len(trimshfiles)"
   ]
  },
  {
   "cell_type": "code",
   "execution_count": 49,
   "metadata": {
    "scrolled": false
   },
   "outputs": [
    {
     "data": {
      "text/plain": [
       "'python $HOME/pipeline/02_bwa-map_view_sort_index_flagstat.py /gpfs_fs/home/eckertlab/BURT/002_trim_and_map/denovo_mapping E-AL-1-1'"
      ]
     },
     "execution_count": 49,
     "metadata": {},
     "output_type": "execute_result"
    }
   ],
   "source": [
    "# write python cmds to a file, cat this file to GNU parallel in terminal window\n",
    "catfile = op.join(denovodir, 'BURT/01_catfile.txt')\n",
    "with open(catfile, 'w') as o:\n",
    "    cmds = []\n",
    "    for sh in trimshfiles:\n",
    "        text = read(sh)\n",
    "        cmds.append(text[-3])\n",
    "    o.write(\"%s\" % '\\n'.join(cmds))\n",
    "cmds[0]"
   ]
  },
  {
   "cell_type": "code",
   "execution_count": 50,
   "metadata": {},
   "outputs": [
    {
     "data": {
      "text/plain": [
       "'/gpfs_fs/home/eckertlab/BURT/002_trim_and_map/denovo_mapping/BURT/01_catfile.txt'"
      ]
     },
     "execution_count": 50,
     "metadata": {},
     "output_type": "execute_result"
    }
   ],
   "source": [
    "catfile"
   ]
  },
  {
   "cell_type": "code",
   "execution_count": 51,
   "metadata": {},
   "outputs": [],
   "source": [
    "# cat catfile in terminal"
   ]
  },
  {
   "cell_type": "code",
   "execution_count": 52,
   "metadata": {},
   "outputs": [
    {
     "data": {
      "text/plain": [
       "'python $HOME/pipeline/02_bwa-map_view_sort_index_flagstat.py /gpfs_fs/home/eckertlab/BURT/002_trim_and_map/denovo_mapping T-VA-4-9'"
      ]
     },
     "execution_count": 52,
     "metadata": {},
     "output_type": "execute_result"
    }
   ],
   "source": [
    "cmds[-1]"
   ]
  },
  {
   "cell_type": "code",
   "execution_count": 56,
   "metadata": {},
   "outputs": [
    {
     "data": {
      "text/plain": [
       "1135"
      ]
     },
     "execution_count": 56,
     "metadata": {},
     "output_type": "execute_result"
    }
   ],
   "source": [
    "# get the mapping shfiles to create the mark-dups shfiles\n",
    "shdir = op.join(denovodir, 'BURT/shfiles/02_bwa_shfiles')\n",
    "mapshfiles = fs(shdir, endswith='.sh')\n",
    "len(mapshfiles)"
   ]
  },
  {
   "cell_type": "code",
   "execution_count": 57,
   "metadata": {},
   "outputs": [
    {
     "data": {
      "text/plain": [
       "'#python $HOME/pipeline/03_mark_build.py /gpfs_fs/home/eckertlab/BURT/002_trim_and_map/denovo_mapping/BURT E-AL-1-1'"
      ]
     },
     "execution_count": 57,
     "metadata": {},
     "output_type": "execute_result"
    }
   ],
   "source": [
    "read(mapshfiles[0])[-2]"
   ]
  },
  {
   "cell_type": "code",
   "execution_count": 58,
   "metadata": {},
   "outputs": [
    {
     "data": {
      "text/plain": [
       "'python $HOME/pipeline/03_mark_build.py /gpfs_fs/home/eckertlab/BURT/002_trim_and_map/denovo_mapping/BURT E-AL-1-1'"
      ]
     },
     "execution_count": 58,
     "metadata": {},
     "output_type": "execute_result"
    }
   ],
   "source": [
    "# write python cmds to a file, cat this file to GNU parallel in terminal window\n",
    "catfile = op.join(denovodir, 'BURT/02_catfile.txt')\n",
    "with open(catfile, 'w') as o:\n",
    "    cmds = []\n",
    "    for sh in mapshfiles:\n",
    "        text = read(sh)\n",
    "        cmds.append(text[-2][1:])\n",
    "    o.write(\"%s\" % '\\n'.join(cmds))\n",
    "cmds[0]"
   ]
  },
  {
   "cell_type": "markdown",
   "metadata": {},
   "source": [
    "#### now go through and submit new trim jobs after marking dups finishes in another job"
   ]
  },
  {
   "cell_type": "code",
   "execution_count": 59,
   "metadata": {},
   "outputs": [
    {
     "data": {
      "text/plain": [
       "1135"
      ]
     },
     "execution_count": 59,
     "metadata": {},
     "output_type": "execute_result"
    }
   ],
   "source": [
    "dupdir = op.join(denovodir, 'BURT/shfiles/03_mark_build_shfiles')\n",
    "dupshfiles = fs(dupdir, endswith='.sh')\n",
    "len(dupshfiles)"
   ]
  },
  {
   "cell_type": "code",
   "execution_count": 60,
   "metadata": {},
   "outputs": [
    {
     "name": "stderr",
     "output_type": "stream",
     "text": [
      "100%|██████████| 1135/1135 [00:01<00:00, 911.10it/s]\n"
     ]
    }
   ],
   "source": [
    "# identify chains of jobs so that once one job finishes (trim + map) it submits the next trim job in the chain\n",
    "chains = {}\n",
    "lencount = 1\n",
    "itercount = 0\n",
    "for sh in nb(dupshfiles):\n",
    "    if len(chains) < 150:\n",
    "        chains[sh] = []\n",
    "    else:\n",
    "        for shstart in chains:\n",
    "            if len(chains[shstart]) < lencount:\n",
    "                sh = sh.replace(\"/03_mark_build_shfiles/\", \"/01_trimmed_shfiles/\").replace(\"-mark.sh\", \"-trim.sh\")\n",
    "                assert op.exists(sh)\n",
    "                chains[shstart].append(sh)\n",
    "                itercount += 1\n",
    "                if itercount % 150 == 0 and itercount > 0:\n",
    "                    itercount = 0\n",
    "                    lencount += 1\n",
    "                break"
   ]
  },
  {
   "cell_type": "code",
   "execution_count": 61,
   "metadata": {},
   "outputs": [
    {
     "data": {
      "text/plain": [
       "'/gpfs_fs/home/eckertlab/BURT/002_trim_and_map/denovo_mapping/BURT/shfiles/01_trimmed_shfiles/BURT-T-VA-4-9-trim.sh'"
      ]
     },
     "execution_count": 61,
     "metadata": {},
     "output_type": "execute_result"
    }
   ],
   "source": [
    "sh"
   ]
  },
  {
   "cell_type": "code",
   "execution_count": 62,
   "metadata": {},
   "outputs": [
    {
     "data": {
      "text/plain": [
       "(1135, 1135, 1135, 1135)"
      ]
     },
     "execution_count": 62,
     "metadata": {},
     "output_type": "execute_result"
    }
   ],
   "source": [
    "# make sure it makes sense\n",
    "allsh = []\n",
    "count = len(chains)\n",
    "for sh,lst in chains.items():\n",
    "    count += len(lst)\n",
    "    allsh.append(sh)\n",
    "    allsh.extend(lst)\n",
    "count, len(dupshfiles), len(allsh), luni(allsh)"
   ]
  },
  {
   "cell_type": "code",
   "execution_count": 63,
   "metadata": {},
   "outputs": [
    {
     "data": {
      "text/plain": [
       "['/gpfs_fs/home/eckertlab/BURT/002_trim_and_map/denovo_mapping/BURT/shfiles/01_trimmed_shfiles/BURT-E-SC-1-9-trim.sh',\n",
       " '/gpfs_fs/home/eckertlab/BURT/002_trim_and_map/denovo_mapping/BURT/shfiles/01_trimmed_shfiles/BURT-G-VA-1-11-trim.sh',\n",
       " '/gpfs_fs/home/eckertlab/BURT/002_trim_and_map/denovo_mapping/BURT/shfiles/01_trimmed_shfiles/BURT-P-AL-5-3-trim.sh',\n",
       " '/gpfs_fs/home/eckertlab/BURT/002_trim_and_map/denovo_mapping/BURT/shfiles/01_trimmed_shfiles/BURT-P-LA-3-12-trim.sh',\n",
       " '/gpfs_fs/home/eckertlab/BURT/002_trim_and_map/denovo_mapping/BURT/shfiles/01_trimmed_shfiles/BURT-T-AL-3-6-trim.sh',\n",
       " '/gpfs_fs/home/eckertlab/BURT/002_trim_and_map/denovo_mapping/BURT/shfiles/01_trimmed_shfiles/BURT-T-GA-3-10-trim.sh',\n",
       " '/gpfs_fs/home/eckertlab/BURT/002_trim_and_map/denovo_mapping/BURT/shfiles/01_trimmed_shfiles/BURT-T-TX-1-3-trim.sh']"
      ]
     },
     "execution_count": 63,
     "metadata": {},
     "output_type": "execute_result"
    }
   ],
   "source": [
    "# look at the first chain of job submissions\n",
    "k0 = keys(chains)[0]\n",
    "chains[k0]"
   ]
  },
  {
   "cell_type": "code",
   "execution_count": 64,
   "metadata": {},
   "outputs": [
    {
     "name": "stdout",
     "output_type": "stream",
     "text": [
      "BURT-E-AL-1-1-mark.sh  will submit  BURT-E-SC-1-9-trim.sh\n",
      "BURT-E-SC-1-9-mark.sh  will submit  BURT-G-VA-1-11-trim.sh\n",
      "BURT-G-VA-1-11-mark.sh  will submit  BURT-P-AL-5-3-trim.sh\n",
      "BURT-P-AL-5-3-mark.sh  will submit  BURT-P-LA-3-12-trim.sh\n",
      "BURT-P-LA-3-12-mark.sh  will submit  BURT-T-AL-3-6-trim.sh\n",
      "BURT-T-AL-3-6-mark.sh  will submit  BURT-T-GA-3-10-trim.sh\n",
      "BURT-T-GA-3-10-mark.sh  will submit  BURT-T-TX-1-3-trim.sh\n"
     ]
    }
   ],
   "source": [
    "# add in commands to qsub the next shfile once the last shfile is finished mapping\n",
    "count = 0\n",
    "for sh,lst in chains.items():\n",
    "    lastsh = sh\n",
    "    for nextsh in lst:\n",
    "        if count == 0:\n",
    "            print(op.basename(lastsh), ' will submit ', op.basename(nextsh))  # for visualization\n",
    "        # get the text from the sh file, add in qsub commands\n",
    "        text = read(lastsh)\n",
    "        if '# submit next job' not in text:\n",
    "            text.append('# submit next job')\n",
    "            text.append('cd %s' % op.dirname(nextsh))\n",
    "            text.append('qsub %s' % op.basename(nextsh))\n",
    "        # write the text back to file\n",
    "        with open(lastsh, 'w') as o:\n",
    "            o.write(\"%s\" % '\\n'.join(text))\n",
    "        # replace lastsh by changing nextsh from trim to mark\n",
    "        lastsh = nextsh.replace(\"/01_trimmed_shfiles/\", \"/03_mark_build_shfiles/\").replace(\"-trim.sh\", \"-mark.sh\")\n",
    "    count += 1"
   ]
  },
  {
   "cell_type": "code",
   "execution_count": 65,
   "metadata": {},
   "outputs": [
    {
     "name": "stderr",
     "output_type": "stream",
     "text": [
      "  2%|▏         | 27/1135 [00:00<00:04, 263.73it/s]"
     ]
    },
    {
     "name": "stdout",
     "output_type": "stream",
     "text": [
      "/gpfs_fs/home/eckertlab/BURT/002_trim_and_map/denovo_mapping/BURT/shfiles/01_trimmed_shfiles\n"
     ]
    },
    {
     "name": "stderr",
     "output_type": "stream",
     "text": [
      "100%|██████████| 1135/1135 [00:03<00:00, 330.48it/s]\n",
      "  3%|▎         | 36/1135 [00:00<00:03, 358.64it/s]"
     ]
    },
    {
     "name": "stdout",
     "output_type": "stream",
     "text": [
      "/gpfs_fs/home/eckertlab/BURT/002_trim_and_map/denovo_mapping/BURT/shfiles/02_bwa_shfiles\n"
     ]
    },
    {
     "name": "stderr",
     "output_type": "stream",
     "text": [
      "100%|██████████| 1135/1135 [00:03<00:00, 343.32it/s]\n"
     ]
    }
   ],
   "source": [
    "# go back through trim and mapping jobs and replace python script command with qsub command\n",
    "# so that the python scripts don't overwrite the changes I've made to the sh files\n",
    "dirs = ['/gpfs_fs/home/eckertlab/BURT/002_trim_and_map/denovo_mapping/BURT/shfiles/01_trimmed_shfiles',\n",
    "        '/gpfs_fs/home/eckertlab/BURT/002_trim_and_map/denovo_mapping/BURT/shfiles/02_bwa_shfiles']\n",
    "for d in dirs:\n",
    "    print(d)\n",
    "    shfiles = fs(d, endswith='.sh')\n",
    "    # fore each sh file, comment python cmd and add qsub command for next phase\n",
    "    for sh in nb(shfiles):\n",
    "        text = read(sh)\n",
    "        for i,line in enumerate(text):\n",
    "            if line.startswith('python'):\n",
    "                text[i] = \"#%s\" % line\n",
    "        if '01_trimmed_shfiles' in d:\n",
    "            nextsh = sh.replace('/01_trimmed_shfiles/', '/02_bwa_shfiles/').replace('-trim.sh', '-bwa.sh')\n",
    "        elif '02_bwa_shfiles' in d:\n",
    "            nextsh = sh.replace('/02_bwa_shfiles/', '/03_mark_build_shfiles/').replace('-bwa.sh', '-mark.sh')\n",
    "        else:\n",
    "            print('continuing')\n",
    "            continue\n",
    "        assert op.exists(nextsh)\n",
    "        text.extend(['', '# submit next newest job', 'cd %s' % op.dirname(nextsh)])\n",
    "        text.append('qsub %s' % op.basename(nextsh))\n",
    "        with open(sh, 'w') as o:\n",
    "            o.write(\"%s\" % '\\n'.join(text))"
   ]
  },
  {
   "cell_type": "code",
   "execution_count": 66,
   "metadata": {
    "scrolled": false
   },
   "outputs": [
    {
     "data": {
      "text/plain": [
       "['#!/bin/bash',\n",
       " '#$ -cwd',\n",
       " '#$ -j y',\n",
       " '#$ -N BURT-T-VA-4-9-bwa',\n",
       " '#$ -l mem_free=55000M',\n",
       " '#$ -pe smp_2 32',\n",
       " '#$ -S /bin/bash',\n",
       " '#$ -M lindb@vcu.edu',\n",
       " '#$ -m a',\n",
       " '',\n",
       " '# get RGID and RGPU',\n",
       " 'RGID=T-VA-4-9.Novogene1.BURT_12',\n",
       " 'RGPU=T-VA-4-9.Novogene1.BURT_12',\n",
       " '',\n",
       " '# map, sam to bam, sort by coordinate, index',\n",
       " '',\n",
       " 'bwa mem -t 32 -M -R \"@RG\\\\tID:$RGID\\\\tSM:T-VA-4-9\\\\tPL:ILLUMINA\\\\tLB:BURT_12\\\\tPU:$RGPU\" /home/lindb/eckertlab/BURT/refs/dDocent_denovo_assembly/reference_pseudo.fasta /gpfs_fs/home/eckertlab/BURT/002_trim_and_map/denovo_mapping/BURT/01_trimmed/T-VA-4-9_R1_trimmed.fastq.gz  > /gpfs_fs/home/eckertlab/BURT/002_trim_and_map/denovo_mapping/BURT/02a_samfiles/T-VA-4-9_R1R2_trimmed.sam',\n",
       " '',\n",
       " '',\n",
       " '',\n",
       " 'samtools view -@ 32 -q 20 -F 0x0004  -Sb /gpfs_fs/home/eckertlab/BURT/002_trim_and_map/denovo_mapping/BURT/02a_samfiles/T-VA-4-9_R1R2_trimmed.sam > /gpfs_fs/home/eckertlab/BURT/002_trim_and_map/denovo_mapping/BURT/02b_bamfiles/T-VA-4-9_R1R2_trimmed.bam',\n",
       " 'samtools sort -@ 32 /gpfs_fs/home/eckertlab/BURT/002_trim_and_map/denovo_mapping/BURT/02b_bamfiles/T-VA-4-9_R1R2_trimmed.bam > /gpfs_fs/home/eckertlab/BURT/002_trim_and_map/denovo_mapping/BURT/02c_sorted_bamfiles/T-VA-4-9_R1R2_trimmed_sorted.bam',\n",
       " 'samtools index /gpfs_fs/home/eckertlab/BURT/002_trim_and_map/denovo_mapping/BURT/02c_sorted_bamfiles/T-VA-4-9_R1R2_trimmed_sorted.bam',\n",
       " 'samtools flagstat /gpfs_fs/home/eckertlab/BURT/002_trim_and_map/denovo_mapping/BURT/02c_sorted_bamfiles/T-VA-4-9_R1R2_trimmed_sorted.bam > /gpfs_fs/home/eckertlab/BURT/002_trim_and_map/denovo_mapping/BURT/02c_sorted_bamfiles/T-VA-4-9_R1R2_trimmed_sorted.bam.flagstats',\n",
       " '',\n",
       " '',\n",
       " '',\n",
       " 'bedtools bamtobed -i /gpfs_fs/home/eckertlab/BURT/002_trim_and_map/denovo_mapping/BURT/02c_sorted_bamfiles/T-VA-4-9_R1R2_trimmed_sorted.bam > /gpfs_fs/home/eckertlab/BURT/002_trim_and_map/denovo_mapping/BURT/02c_sorted_bamfiles/T-VA-4-9_R1R2_trimmed_sortedbam.coord',\n",
       " '',\n",
       " '',\n",
       " '',\n",
       " '',\n",
       " '# mark and build',\n",
       " 'source /gpfs_fs/home/eckertlab/BURT/002_trim_and_map/denovo_mapping/bash_variables',\n",
       " '#python $HOME/pipeline/03_mark_build.py /gpfs_fs/home/eckertlab/BURT/002_trim_and_map/denovo_mapping/BURT T-VA-4-9',\n",
       " '',\n",
       " '',\n",
       " '# submit next newest job',\n",
       " 'cd /gpfs_fs/home/eckertlab/BURT/002_trim_and_map/denovo_mapping/BURT/shfiles/03_mark_build_shfiles',\n",
       " 'qsub BURT-T-VA-4-9-mark.sh']"
      ]
     },
     "execution_count": 66,
     "metadata": {},
     "output_type": "execute_result"
    }
   ],
   "source": [
    "text"
   ]
  },
  {
   "cell_type": "code",
   "execution_count": 67,
   "metadata": {},
   "outputs": [
    {
     "data": {
      "text/plain": [
       "150"
      ]
     },
     "execution_count": 67,
     "metadata": {},
     "output_type": "execute_result"
    }
   ],
   "source": [
    "len(chains)"
   ]
  },
  {
   "cell_type": "code",
   "execution_count": 69,
   "metadata": {},
   "outputs": [
    {
     "name": "stderr",
     "output_type": "stream",
     "text": [
      "  8%|▊         | 91/1135 [00:00<00:01, 904.66it/s]"
     ]
    },
    {
     "name": "stdout",
     "output_type": "stream",
     "text": [
      "/home/lindb/eckertlab/BURT/002_trim_and_map/denovo_mapping/BURT/shfiles/01_trimmed_shfiles\n"
     ]
    },
    {
     "name": "stderr",
     "output_type": "stream",
     "text": [
      "100%|██████████| 1135/1135 [00:01<00:00, 743.23it/s]\n",
      "  7%|▋         | 80/1135 [00:00<00:01, 796.57it/s]"
     ]
    },
    {
     "name": "stdout",
     "output_type": "stream",
     "text": [
      "/home/lindb/eckertlab/BURT/002_trim_and_map/denovo_mapping/BURT/shfiles/02_bwa_shfiles\n"
     ]
    },
    {
     "name": "stderr",
     "output_type": "stream",
     "text": [
      "100%|██████████| 1135/1135 [00:01<00:00, 808.77it/s]\n",
      "  6%|▌         | 66/1135 [00:00<00:01, 655.15it/s]"
     ]
    },
    {
     "name": "stdout",
     "output_type": "stream",
     "text": [
      "/home/lindb/eckertlab/BURT/002_trim_and_map/denovo_mapping/BURT/shfiles/03_mark_build_shfiles\n"
     ]
    },
    {
     "name": "stderr",
     "output_type": "stream",
     "text": [
      "100%|██████████| 1135/1135 [00:01<00:00, 568.70it/s]\n"
     ]
    },
    {
     "data": {
      "text/plain": [
       "['#!/bin/bash',\n",
       " '#$ -cwd',\n",
       " '#$ -j y',\n",
       " '#$ -l mem_free=30000M',\n",
       " '#$ -N BURT-T-VA-4-9-mark',\n",
       " '#$ -S /bin/bash',\n",
       " '#$ -M lindb@vcu.edu',\n",
       " '#$ -m a',\n",
       " '',\n",
       " '# remove dups',\n",
       " 'source $HOME/.bash_profile',\n",
       " '',\n",
       " '',\n",
       " 'export _JAVA_OPTIONS=\"-Xms256m -Xmx27g\"',\n",
       " 'picard MarkDuplicates I=/gpfs_fs/home/eckertlab/BURT/002_trim_and_map/denovo_mapping/BURT/02c_sorted_bamfiles/T-VA-4-9_R1R2_trimmed_sorted.bam O=/gpfs_fs/home/eckertlab/BURT/002_trim_and_map/denovo_mapping/BURT/03_dedup_rg_filtered_indexed_sorted_bamfiles/T-VA-4-9_rd.bam MAX_FILE_HANDLES_FOR_READ_ENDS_MAP=1000 M=/gpfs_fs/home/eckertlab/BURT/002_trim_and_map/denovo_mapping/BURT/03_dedup_rg_filtered_indexed_sorted_bamfiles/T-VA-4-9_rd_dupstat.txt REMOVE_DUPLICATES=true',\n",
       " '',\n",
       " '# Build bam index for GATK',\n",
       " 'java -jar $EBROOTPICARD/picard.jar BuildBamIndex I=/gpfs_fs/home/eckertlab/BURT/002_trim_and_map/denovo_mapping/BURT/03_dedup_rg_filtered_indexed_sorted_bamfiles/T-VA-4-9_rd.bam',\n",
       " '',\n",
       " '',\n",
       " '# get more dup stats',\n",
       " '',\n",
       " 'samtools flagstat /gpfs_fs/home/eckertlab/BURT/002_trim_and_map/denovo_mapping/BURT/03_dedup_rg_filtered_indexed_sorted_bamfiles/T-VA-4-9_rd.bam > /gpfs_fs/home/eckertlab/BURT/002_trim_and_map/denovo_mapping/BURT/03_dedup_rg_filtered_indexed_sorted_bamfiles/T-VA-4-9_rd.bam.flagstats',\n",
       " '',\n",
       " '',\n",
       " '# call next step',\n",
       " 'source /gpfs_fs/home/eckertlab/BURT/002_trim_and_map/denovo_mapping/bash_variables',\n",
       " '',\n",
       " '#python $HOME/pipeline/04_realignTargetCreator.py /gpfs_fs/home/eckertlab/BURT/002_trim_and_map/denovo_mapping/BURT T-VA-4-9 /gpfs_fs/home/eckertlab/BURT/002_trim_and_map/denovo_mapping/BURT/03_dedup_rg_filtered_indexed_sorted_bamfiles/T-VA-4-9_rd.bam',\n",
       " '',\n",
       " '']"
      ]
     },
     "execution_count": 69,
     "metadata": {},
     "output_type": "execute_result"
    }
   ],
   "source": [
    "# add in source ~/.bash_profile before bash commands in shfiles - because godel is stupid\n",
    "dirs = ['/home/lindb/eckertlab/BURT/002_trim_and_map/denovo_mapping/BURT/shfiles/01_trimmed_shfiles',\n",
    "        '/home/lindb/eckertlab/BURT/002_trim_and_map/denovo_mapping/BURT/shfiles/02_bwa_shfiles',\n",
    "        '/home/lindb/eckertlab/BURT/002_trim_and_map/denovo_mapping/BURT/shfiles/03_mark_build_shfiles']\n",
    "for i,d in enumerate(dirs):\n",
    "    print(d)\n",
    "    shfiles = fs(d, endswith='.sh')\n",
    "    for sh in nb(shfiles):\n",
    "        text = read(sh)\n",
    "        text.insert(10, 'source $HOME/.bash_profile')\n",
    "        with open(sh, 'w') as o:\n",
    "            o.write(\"%s\" % '\\n'.join(text))\n",
    "text"
   ]
  },
  {
   "cell_type": "code",
   "execution_count": 71,
   "metadata": {},
   "outputs": [],
   "source": [
    "??qsub"
   ]
  },
  {
   "cell_type": "code",
   "execution_count": 73,
   "metadata": {
    "scrolled": true
   },
   "outputs": [
    {
     "name": "stderr",
     "output_type": "stream",
     "text": [
      "100%|██████████| 1/1 [00:00<00:00,  4.63it/s]\n",
      "100%|██████████| 1/1 [00:00<00:00, 35.89it/s]\n",
      "100%|██████████| 1/1 [00:00<00:00, 31.85it/s]\n",
      "100%|██████████| 1/1 [00:00<00:00, 35.82it/s]\n",
      "100%|██████████| 1/1 [00:00<00:00, 22.72it/s]\n",
      "100%|██████████| 1/1 [00:00<00:00, 24.21it/s]\n",
      "100%|██████████| 1/1 [00:00<00:00, 35.48it/s]\n",
      "100%|██████████| 1/1 [00:00<00:00, 28.12it/s]\n",
      "100%|██████████| 1/1 [00:00<00:00, 35.84it/s]\n",
      "100%|██████████| 1/1 [00:00<00:00, 27.60it/s]\n",
      "100%|██████████| 1/1 [00:00<00:00, 34.97it/s]\n",
      "100%|██████████| 1/1 [00:00<00:00, 27.75it/s]\n",
      "100%|██████████| 1/1 [00:00<00:00, 37.37it/s]\n",
      "100%|██████████| 1/1 [00:00<00:00, 28.33it/s]\n",
      "100%|██████████| 1/1 [00:00<00:00, 34.83it/s]\n",
      "100%|██████████| 1/1 [00:00<00:00, 28.92it/s]\n",
      "100%|██████████| 1/1 [00:00<00:00, 36.93it/s]\n",
      "100%|██████████| 1/1 [00:00<00:00, 28.54it/s]\n",
      "100%|██████████| 1/1 [00:00<00:00, 38.76it/s]\n",
      "100%|██████████| 1/1 [00:00<00:00, 30.90it/s]\n",
      "100%|██████████| 1/1 [00:00<00:00, 35.76it/s]\n",
      "100%|██████████| 1/1 [00:00<00:00, 31.47it/s]\n",
      "100%|██████████| 1/1 [00:00<00:00, 38.41it/s]\n",
      "100%|██████████| 1/1 [00:00<00:00, 32.47it/s]\n",
      "100%|██████████| 1/1 [00:00<00:00, 35.68it/s]\n",
      "100%|██████████| 1/1 [00:00<00:00, 33.33it/s]\n",
      "100%|██████████| 1/1 [00:00<00:00, 32.53it/s]\n",
      "100%|██████████| 1/1 [00:00<00:00, 33.55it/s]\n",
      "100%|██████████| 1/1 [00:00<00:00, 33.68it/s]\n",
      "100%|██████████| 1/1 [00:00<00:00, 35.86it/s]\n",
      "100%|██████████| 1/1 [00:00<00:00, 34.81it/s]\n",
      "100%|██████████| 1/1 [00:00<00:00, 20.48it/s]\n",
      "100%|██████████| 1/1 [00:00<00:00, 18.51it/s]\n",
      "100%|██████████| 1/1 [00:00<00:00, 24.86it/s]\n",
      "100%|██████████| 1/1 [00:00<00:00, 35.38it/s]\n",
      "100%|██████████| 1/1 [00:00<00:00, 31.16it/s]\n",
      "100%|██████████| 1/1 [00:00<00:00, 27.08it/s]\n",
      "100%|██████████| 1/1 [00:00<00:00, 33.61it/s]\n",
      "100%|██████████| 1/1 [00:00<00:00, 26.32it/s]\n",
      "100%|██████████| 1/1 [00:00<00:00, 34.31it/s]\n",
      "100%|██████████| 1/1 [00:00<00:00, 24.88it/s]\n",
      "100%|██████████| 1/1 [00:00<00:00, 28.46it/s]\n",
      "100%|██████████| 1/1 [00:00<00:00, 30.19it/s]\n",
      "100%|██████████| 1/1 [00:00<00:00, 24.65it/s]\n",
      "100%|██████████| 1/1 [00:00<00:00, 35.23it/s]\n",
      "100%|██████████| 1/1 [00:00<00:00, 25.26it/s]\n",
      "100%|██████████| 1/1 [00:00<00:00, 22.31it/s]\n",
      "100%|██████████| 1/1 [00:00<00:00, 32.50it/s]\n",
      "100%|██████████| 1/1 [00:00<00:00, 25.53it/s]\n",
      "100%|██████████| 1/1 [00:00<00:00, 34.62it/s]\n",
      "100%|██████████| 1/1 [00:00<00:00, 25.28it/s]\n",
      "100%|██████████| 1/1 [00:00<00:00, 29.01it/s]\n",
      "100%|██████████| 1/1 [00:00<00:00, 32.08it/s]\n",
      "100%|██████████| 1/1 [00:00<00:00,  9.32it/s]\n",
      "100%|██████████| 1/1 [00:00<00:00, 31.92it/s]\n",
      "100%|██████████| 1/1 [00:00<00:00, 25.95it/s]\n",
      "100%|██████████| 1/1 [00:00<00:00, 35.61it/s]\n",
      "100%|██████████| 1/1 [00:00<00:00, 23.64it/s]\n",
      "100%|██████████| 1/1 [00:00<00:00, 30.36it/s]\n",
      "100%|██████████| 1/1 [00:00<00:00, 28.63it/s]\n",
      "100%|██████████| 1/1 [00:00<00:00, 19.24it/s]\n",
      "100%|██████████| 1/1 [00:00<00:00, 36.09it/s]\n",
      "100%|██████████| 1/1 [00:00<00:00, 33.97it/s]\n",
      "100%|██████████| 1/1 [00:00<00:00, 38.80it/s]\n",
      "100%|██████████| 1/1 [00:00<00:00, 32.65it/s]\n",
      "100%|██████████| 1/1 [00:00<00:00, 36.27it/s]\n",
      "100%|██████████| 1/1 [00:00<00:00, 34.44it/s]\n",
      "100%|██████████| 1/1 [00:00<00:00, 37.25it/s]\n",
      "100%|██████████| 1/1 [00:00<00:00, 31.87it/s]\n",
      "100%|██████████| 1/1 [00:00<00:00, 34.51it/s]\n",
      "100%|██████████| 1/1 [00:00<00:00, 32.61it/s]\n",
      "100%|██████████| 1/1 [00:00<00:00, 35.76it/s]\n",
      "100%|██████████| 1/1 [00:00<00:00, 35.59it/s]\n",
      "100%|██████████| 1/1 [00:00<00:00, 37.42it/s]\n",
      "100%|██████████| 1/1 [00:00<00:00, 32.54it/s]\n",
      "100%|██████████| 1/1 [00:00<00:00, 37.59it/s]\n",
      "100%|██████████| 1/1 [00:00<00:00, 32.48it/s]\n",
      "100%|██████████| 1/1 [00:00<00:00, 36.34it/s]\n",
      "100%|██████████| 1/1 [00:00<00:00, 32.58it/s]\n",
      "100%|██████████| 1/1 [00:00<00:00, 38.90it/s]\n",
      "100%|██████████| 1/1 [00:00<00:00, 30.04it/s]\n",
      "100%|██████████| 1/1 [00:00<00:00, 37.51it/s]\n",
      "100%|██████████| 1/1 [00:00<00:00, 28.70it/s]\n",
      "100%|██████████| 1/1 [00:00<00:00, 36.78it/s]\n",
      "100%|██████████| 1/1 [00:00<00:00, 32.75it/s]\n",
      "100%|██████████| 1/1 [00:00<00:00, 38.16it/s]\n",
      "100%|██████████| 1/1 [00:00<00:00, 29.02it/s]\n",
      "100%|██████████| 1/1 [00:00<00:00, 36.51it/s]\n",
      "100%|██████████| 1/1 [00:00<00:00, 28.33it/s]\n",
      "100%|██████████| 1/1 [00:00<00:00, 36.76it/s]\n",
      "100%|██████████| 1/1 [00:00<00:00, 31.61it/s]\n",
      "100%|██████████| 1/1 [00:00<00:00, 37.66it/s]\n",
      "100%|██████████| 1/1 [00:00<00:00, 29.32it/s]\n",
      "100%|██████████| 1/1 [00:00<00:00, 36.00it/s]\n",
      "100%|██████████| 1/1 [00:00<00:00, 29.29it/s]\n",
      "100%|██████████| 1/1 [00:00<00:00, 38.33it/s]\n",
      "100%|██████████| 1/1 [00:00<00:00, 31.56it/s]\n",
      "100%|██████████| 1/1 [00:00<00:00, 37.29it/s]\n",
      "100%|██████████| 1/1 [00:00<00:00, 27.72it/s]\n",
      "100%|██████████| 1/1 [00:00<00:00, 37.29it/s]\n",
      "100%|██████████| 1/1 [00:00<00:00, 30.18it/s]\n",
      "100%|██████████| 1/1 [00:00<00:00, 36.16it/s]\n",
      "100%|██████████| 1/1 [00:00<00:00, 32.56it/s]\n",
      "100%|██████████| 1/1 [00:00<00:00, 36.20it/s]\n",
      "100%|██████████| 1/1 [00:00<00:00, 29.13it/s]\n",
      "100%|██████████| 1/1 [00:00<00:00, 37.56it/s]\n",
      "100%|██████████| 1/1 [00:00<00:00, 27.59it/s]\n",
      "100%|██████████| 1/1 [00:00<00:00, 37.02it/s]\n",
      "100%|██████████| 1/1 [00:00<00:00, 32.50it/s]\n",
      "100%|██████████| 1/1 [00:00<00:00, 36.25it/s]\n",
      "100%|██████████| 1/1 [00:00<00:00, 25.35it/s]\n",
      "100%|██████████| 1/1 [00:00<00:00, 35.70it/s]\n",
      "100%|██████████| 1/1 [00:00<00:00, 27.64it/s]\n",
      "100%|██████████| 1/1 [00:00<00:00, 36.18it/s]\n",
      "100%|██████████| 1/1 [00:00<00:00, 29.69it/s]\n",
      "100%|██████████| 1/1 [00:00<00:00, 36.42it/s]\n",
      "100%|██████████| 1/1 [00:00<00:00, 28.00it/s]\n",
      "100%|██████████| 1/1 [00:00<00:00, 36.44it/s]\n",
      "100%|██████████| 1/1 [00:00<00:00, 28.54it/s]\n",
      "100%|██████████| 1/1 [00:00<00:00, 35.34it/s]\n",
      "100%|██████████| 1/1 [00:00<00:00, 28.11it/s]\n",
      "100%|██████████| 1/1 [00:00<00:00, 36.69it/s]\n",
      "100%|██████████| 1/1 [00:00<00:00, 28.65it/s]\n",
      "100%|██████████| 1/1 [00:00<00:00, 35.48it/s]\n",
      "100%|██████████| 1/1 [00:00<00:00, 29.82it/s]\n",
      "100%|██████████| 1/1 [00:00<00:00, 36.32it/s]\n",
      "100%|██████████| 1/1 [00:00<00:00, 28.72it/s]\n",
      "100%|██████████| 1/1 [00:00<00:00, 35.76it/s]\n",
      "100%|██████████| 1/1 [00:00<00:00, 29.88it/s]\n",
      "100%|██████████| 1/1 [00:00<00:00, 36.63it/s]\n",
      "100%|██████████| 1/1 [00:00<00:00, 28.96it/s]\n",
      "100%|██████████| 1/1 [00:00<00:00, 34.42it/s]\n",
      "100%|██████████| 1/1 [00:00<00:00, 28.81it/s]\n",
      "100%|██████████| 1/1 [00:00<00:00, 36.10it/s]\n",
      "100%|██████████| 1/1 [00:00<00:00, 30.71it/s]\n",
      "100%|██████████| 1/1 [00:00<00:00, 35.96it/s]\n",
      "100%|██████████| 1/1 [00:00<00:00, 32.06it/s]\n",
      "100%|██████████| 1/1 [00:00<00:00, 35.21it/s]\n",
      "100%|██████████| 1/1 [00:00<00:00, 31.10it/s]\n",
      "100%|██████████| 1/1 [00:00<00:00, 37.22it/s]\n",
      "100%|██████████| 1/1 [00:00<00:00, 34.00it/s]\n",
      "100%|██████████| 1/1 [00:00<00:00, 34.03it/s]\n",
      "100%|██████████| 1/1 [00:00<00:00, 35.06it/s]\n",
      "100%|██████████| 1/1 [00:00<00:00, 33.35it/s]\n",
      "100%|██████████| 1/1 [00:00<00:00, 33.67it/s]\n",
      "100%|██████████| 1/1 [00:00<00:00, 23.14it/s]\n",
      "100%|██████████| 1/1 [00:00<00:00, 30.47it/s]\n",
      "100%|██████████| 1/1 [00:00<00:00, 35.87it/s]\n",
      "100%|██████████| 1/1 [00:00<00:00, 31.89it/s]\n",
      "100%|██████████| 1/1 [00:00<00:00, 36.44it/s]\n"
     ]
    }
   ],
   "source": [
    "# submit the sh files that kick off the rest of the commands\n",
    "pids = []\n",
    "for sh in chains.keys():\n",
    "    sh = sh.replace('/03_mark_build_shfiles/', '/01_trimmed_shfiles/').replace(\"-mark.sh\", \"-trim.sh\")\n",
    "    assert op.exists(sh)\n",
    "    pids.extend(qsub(sh))"
   ]
  },
  {
   "cell_type": "code",
   "execution_count": 74,
   "metadata": {},
   "outputs": [
    {
     "data": {
      "text/plain": [
       "['2703115',\n",
       " '2703116',\n",
       " '2703117',\n",
       " '2703118',\n",
       " '2703119',\n",
       " '2703120',\n",
       " '2703121',\n",
       " '2703122',\n",
       " '2703123',\n",
       " '2703124',\n",
       " '2703125',\n",
       " '2703126',\n",
       " '2703127',\n",
       " '2703128',\n",
       " '2703129',\n",
       " '2703130',\n",
       " '2703131',\n",
       " '2703132',\n",
       " '2703133',\n",
       " '2703134',\n",
       " '2703135',\n",
       " '2703136',\n",
       " '2703137',\n",
       " '2703138',\n",
       " '2703139',\n",
       " '2703140',\n",
       " '2703141',\n",
       " '2703142',\n",
       " '2703143',\n",
       " '2703144',\n",
       " '2703145',\n",
       " '2703146',\n",
       " '2703147',\n",
       " '2703148',\n",
       " '2703149',\n",
       " '2703150',\n",
       " '2703151',\n",
       " '2703152',\n",
       " '2703153',\n",
       " '2703154',\n",
       " '2703155',\n",
       " '2703156',\n",
       " '2703157',\n",
       " '2703158',\n",
       " '2703159',\n",
       " '2703160',\n",
       " '2703161',\n",
       " '2703162',\n",
       " '2703163',\n",
       " '2703164',\n",
       " '2703165',\n",
       " '2703166',\n",
       " '2703167',\n",
       " '2703168',\n",
       " '2703169',\n",
       " '2703170',\n",
       " '2703171',\n",
       " '2703172',\n",
       " '2703173',\n",
       " '2703174',\n",
       " '2703175',\n",
       " '2703176',\n",
       " '2703177',\n",
       " '2703178',\n",
       " '2703179',\n",
       " '2703180',\n",
       " '2703181',\n",
       " '2703182',\n",
       " '2703183',\n",
       " '2703184',\n",
       " '2703185',\n",
       " '2703186',\n",
       " '2703187',\n",
       " '2703188',\n",
       " '2703189',\n",
       " '2703190',\n",
       " '2703191',\n",
       " '2703192',\n",
       " '2703193',\n",
       " '2703194',\n",
       " '2703195',\n",
       " '2703196',\n",
       " '2703197',\n",
       " '2703198',\n",
       " '2703199',\n",
       " '2703200',\n",
       " '2703201',\n",
       " '2703202',\n",
       " '2703203',\n",
       " '2703204',\n",
       " '2703205',\n",
       " '2703206',\n",
       " '2703207',\n",
       " '2703208',\n",
       " '2703209',\n",
       " '2703210',\n",
       " '2703211',\n",
       " '2703212',\n",
       " '2703213',\n",
       " '2703214',\n",
       " '2703215',\n",
       " '2703216',\n",
       " '2703217',\n",
       " '2703218',\n",
       " '2703219',\n",
       " '2703220',\n",
       " '2703221',\n",
       " '2703222',\n",
       " '2703223',\n",
       " '2703224',\n",
       " '2703225',\n",
       " '2703226',\n",
       " '2703227',\n",
       " '2703228',\n",
       " '2703229',\n",
       " '2703230',\n",
       " '2703231',\n",
       " '2703232',\n",
       " '2703233',\n",
       " '2703234',\n",
       " '2703235',\n",
       " '2703236',\n",
       " '2703237',\n",
       " '2703238',\n",
       " '2703239',\n",
       " '2703240',\n",
       " '2703241',\n",
       " '2703242',\n",
       " '2703243',\n",
       " '2703244',\n",
       " '2703245',\n",
       " '2703246',\n",
       " '2703247',\n",
       " '2703248',\n",
       " '2703249',\n",
       " '2703250',\n",
       " '2703251',\n",
       " '2703252',\n",
       " '2703253',\n",
       " '2703254',\n",
       " '2703255',\n",
       " '2703256',\n",
       " '2703257',\n",
       " '2703258',\n",
       " '2703259',\n",
       " '2703260',\n",
       " '2703261',\n",
       " '2703262',\n",
       " '2703263',\n",
       " '2703264']"
      ]
     },
     "execution_count": 74,
     "metadata": {},
     "output_type": "execute_result"
    }
   ],
   "source": [
    "pids"
   ]
  },
  {
   "cell_type": "code",
   "execution_count": null,
   "metadata": {},
   "outputs": [],
   "source": []
  },
  {
   "cell_type": "code",
   "execution_count": null,
   "metadata": {},
   "outputs": [],
   "source": []
  },
  {
   "cell_type": "code",
   "execution_count": null,
   "metadata": {},
   "outputs": [],
   "source": []
  },
  {
   "cell_type": "code",
   "execution_count": null,
   "metadata": {},
   "outputs": [],
   "source": []
  },
  {
   "cell_type": "code",
   "execution_count": null,
   "metadata": {},
   "outputs": [],
   "source": []
  },
  {
   "cell_type": "code",
   "execution_count": null,
   "metadata": {},
   "outputs": [],
   "source": []
  },
  {
   "cell_type": "code",
   "execution_count": null,
   "metadata": {},
   "outputs": [],
   "source": []
  },
  {
   "cell_type": "code",
   "execution_count": null,
   "metadata": {},
   "outputs": [],
   "source": []
  },
  {
   "cell_type": "markdown",
   "metadata": {},
   "source": [
    "# <center> trim and map to loblolly reference genome </center>"
   ]
  },
  {
   "cell_type": "code",
   "execution_count": 4,
   "metadata": {},
   "outputs": [
    {
     "data": {
      "text/html": [
       "<div>\n",
       "<style scoped>\n",
       "    .dataframe tbody tr th:only-of-type {\n",
       "        vertical-align: middle;\n",
       "    }\n",
       "\n",
       "    .dataframe tbody tr th {\n",
       "        vertical-align: top;\n",
       "    }\n",
       "\n",
       "    .dataframe thead th {\n",
       "        text-align: right;\n",
       "    }\n",
       "</style>\n",
       "<table border=\"1\" class=\"dataframe\">\n",
       "  <thead>\n",
       "    <tr style=\"text-align: right;\">\n",
       "      <th></th>\n",
       "      <th>sample_name</th>\n",
       "      <th>library_name</th>\n",
       "      <th>pool_name</th>\n",
       "      <th>ploidy</th>\n",
       "      <th>file_name_r1</th>\n",
       "      <th>file_name_r2</th>\n",
       "      <th>adaptor_1</th>\n",
       "      <th>adaptor_2</th>\n",
       "      <th>ref</th>\n",
       "      <th>rgid</th>\n",
       "      <th>rglb</th>\n",
       "      <th>rgpl</th>\n",
       "      <th>rgpu</th>\n",
       "      <th>rgsm</th>\n",
       "    </tr>\n",
       "  </thead>\n",
       "  <tbody>\n",
       "    <tr>\n",
       "      <th>0</th>\n",
       "      <td>T-AR-2-7</td>\n",
       "      <td>Burt0</td>\n",
       "      <td>BURT</td>\n",
       "      <td>2</td>\n",
       "      <td>T-AR-2-7_R1.fastq.gz</td>\n",
       "      <td>NaN</td>\n",
       "      <td>NaN</td>\n",
       "      <td>NaN</td>\n",
       "      <td>/home/lindb/eckertlab/BURT/refs/dDocent_denovo...</td>\n",
       "      <td>T-AR-2-7.160520.Burt0</td>\n",
       "      <td>Burt0</td>\n",
       "      <td>ILLUMINA</td>\n",
       "      <td>C7WRGACXX.1.T-AR-2-7</td>\n",
       "      <td>T-AR-2-7</td>\n",
       "    </tr>\n",
       "    <tr>\n",
       "      <th>1</th>\n",
       "      <td>T-TX-1-19</td>\n",
       "      <td>Burt0</td>\n",
       "      <td>BURT</td>\n",
       "      <td>2</td>\n",
       "      <td>T-TX-1-19_R1.fastq.gz</td>\n",
       "      <td>NaN</td>\n",
       "      <td>NaN</td>\n",
       "      <td>NaN</td>\n",
       "      <td>/home/lindb/eckertlab/BURT/refs/dDocent_denovo...</td>\n",
       "      <td>T-TX-1-19.160520.Burt0</td>\n",
       "      <td>Burt0</td>\n",
       "      <td>ILLUMINA</td>\n",
       "      <td>C7WRGACXX.1.T-TX-1-19</td>\n",
       "      <td>T-TX-1-19</td>\n",
       "    </tr>\n",
       "    <tr>\n",
       "      <th>2</th>\n",
       "      <td>G-SC-1-3</td>\n",
       "      <td>Burt0</td>\n",
       "      <td>BURT</td>\n",
       "      <td>2</td>\n",
       "      <td>G-SC-1-3_R1.fastq.gz</td>\n",
       "      <td>NaN</td>\n",
       "      <td>NaN</td>\n",
       "      <td>NaN</td>\n",
       "      <td>/home/lindb/eckertlab/BURT/refs/dDocent_denovo...</td>\n",
       "      <td>G-SC-1-3.160520.Burt0</td>\n",
       "      <td>Burt0</td>\n",
       "      <td>ILLUMINA</td>\n",
       "      <td>C7WRGACXX.1.G-SC-1-3</td>\n",
       "      <td>G-SC-1-3</td>\n",
       "    </tr>\n",
       "    <tr>\n",
       "      <th>3</th>\n",
       "      <td>P-LA-2-10</td>\n",
       "      <td>Burt0</td>\n",
       "      <td>BURT</td>\n",
       "      <td>2</td>\n",
       "      <td>P-LA-2-10_R1.fastq.gz</td>\n",
       "      <td>NaN</td>\n",
       "      <td>NaN</td>\n",
       "      <td>NaN</td>\n",
       "      <td>/home/lindb/eckertlab/BURT/refs/dDocent_denovo...</td>\n",
       "      <td>P-LA-2-10.160520.Burt0</td>\n",
       "      <td>Burt0</td>\n",
       "      <td>ILLUMINA</td>\n",
       "      <td>C7WRGACXX.1.P-LA-2-10</td>\n",
       "      <td>P-LA-2-10</td>\n",
       "    </tr>\n",
       "    <tr>\n",
       "      <th>4</th>\n",
       "      <td>T-AL-1-2</td>\n",
       "      <td>Burt0</td>\n",
       "      <td>BURT</td>\n",
       "      <td>2</td>\n",
       "      <td>T-AL-1-2_R1.fastq.gz</td>\n",
       "      <td>NaN</td>\n",
       "      <td>NaN</td>\n",
       "      <td>NaN</td>\n",
       "      <td>/home/lindb/eckertlab/BURT/refs/dDocent_denovo...</td>\n",
       "      <td>T-AL-1-2.160520.Burt0</td>\n",
       "      <td>Burt0</td>\n",
       "      <td>ILLUMINA</td>\n",
       "      <td>C7WRGACXX.1.T-AL-1-2</td>\n",
       "      <td>T-AL-1-2</td>\n",
       "    </tr>\n",
       "  </tbody>\n",
       "</table>\n",
       "</div>"
      ],
      "text/plain": [
       "  sample_name library_name pool_name  ploidy           file_name_r1  \\\n",
       "0    T-AR-2-7        Burt0      BURT       2   T-AR-2-7_R1.fastq.gz   \n",
       "1   T-TX-1-19        Burt0      BURT       2  T-TX-1-19_R1.fastq.gz   \n",
       "2    G-SC-1-3        Burt0      BURT       2   G-SC-1-3_R1.fastq.gz   \n",
       "3   P-LA-2-10        Burt0      BURT       2  P-LA-2-10_R1.fastq.gz   \n",
       "4    T-AL-1-2        Burt0      BURT       2   T-AL-1-2_R1.fastq.gz   \n",
       "\n",
       "   file_name_r2  adaptor_1  adaptor_2  \\\n",
       "0           NaN        NaN        NaN   \n",
       "1           NaN        NaN        NaN   \n",
       "2           NaN        NaN        NaN   \n",
       "3           NaN        NaN        NaN   \n",
       "4           NaN        NaN        NaN   \n",
       "\n",
       "                                                 ref                    rgid  \\\n",
       "0  /home/lindb/eckertlab/BURT/refs/dDocent_denovo...   T-AR-2-7.160520.Burt0   \n",
       "1  /home/lindb/eckertlab/BURT/refs/dDocent_denovo...  T-TX-1-19.160520.Burt0   \n",
       "2  /home/lindb/eckertlab/BURT/refs/dDocent_denovo...   G-SC-1-3.160520.Burt0   \n",
       "3  /home/lindb/eckertlab/BURT/refs/dDocent_denovo...  P-LA-2-10.160520.Burt0   \n",
       "4  /home/lindb/eckertlab/BURT/refs/dDocent_denovo...   T-AL-1-2.160520.Burt0   \n",
       "\n",
       "    rglb      rgpl                   rgpu       rgsm  \n",
       "0  Burt0  ILLUMINA   C7WRGACXX.1.T-AR-2-7   T-AR-2-7  \n",
       "1  Burt0  ILLUMINA  C7WRGACXX.1.T-TX-1-19  T-TX-1-19  \n",
       "2  Burt0  ILLUMINA   C7WRGACXX.1.G-SC-1-3   G-SC-1-3  \n",
       "3  Burt0  ILLUMINA  C7WRGACXX.1.P-LA-2-10  P-LA-2-10  \n",
       "4  Burt0  ILLUMINA   C7WRGACXX.1.T-AL-1-2   T-AL-1-2  "
      ]
     },
     "execution_count": 4,
     "metadata": {},
     "output_type": "execute_result"
    }
   ],
   "source": [
    "# read in the previous table used to map to de novo assembly\n",
    "DIR = '/home/lindb/eckertlab/BURT/002_trim_and_map/loblolly_mapping'\n",
    "tablefile = op.join(op.dirname(DIR), 'denovo_mapping/datatable.txt')\n",
    "dt = pd.read_table(tablefile)\n",
    "dt.head()"
   ]
  },
  {
   "cell_type": "code",
   "execution_count": 5,
   "metadata": {},
   "outputs": [],
   "source": [
    "# change the reference and save\n",
    "dt['ref'] = '/home/lindb/eckertlab/BURT/refs/lobololly_stitched_ref/Pita2_stitched_2/pita2_stitch_v2.fa'\n",
    "dt.to_csv(tablefile.replace(\"denovo_mapping\", \"loblolly_mapping\"), sep='\\t', index=False)"
   ]
  },
  {
   "cell_type": "code",
   "execution_count": 6,
   "metadata": {},
   "outputs": [
    {
     "name": "stdout",
     "output_type": "stream",
     "text": [
      "1709\n"
     ]
    }
   ],
   "source": [
    "# get symlinks to fastqfiles\n",
    "oldfastq = {}\n",
    "for f in fs(op.join(op.dirname(DIR), 'denovo_mapping'), endswith='fastq.gz'):\n",
    "    oldfastq[op.realpath(f)] = op.basename(f)\n",
    "print(len(oldfastq))\n",
    "# put symlinks in new dir\n",
    "for src,bname in oldfastq.items():\n",
    "    dst = op.join(DIR, bname)\n",
    "    os.symlink(src, dst)"
   ]
  },
  {
   "cell_type": "code",
   "execution_count": 7,
   "metadata": {},
   "outputs": [
    {
     "data": {
      "text/plain": [
       "Namespace(email='lindb@vcu.edu', email_options=['fail'], maf=None, paralogs=False, parentdir='/gpfs_fs/home/eckertlab/BURT/002_trim_and_map/denovo_mapping', repeats=False, sge=True, translate=True)"
      ]
     },
     "execution_count": 7,
     "metadata": {},
     "output_type": "execute_result"
    }
   ],
   "source": [
    "# match command from de novo run\n",
    "pklload(op.join(op.dirname(DIR), 'denovo_mapping/pipeline_start_command.pkl'))"
   ]
  },
  {
   "cell_type": "markdown",
   "metadata": {},
   "source": [
    "```bash\n",
    "# run in command line\n",
    "python 00_start-pipeline.py -p /home/lindb/eckertlab/BURT/002_trim_and_map/loblolly_mapping -e lindb@vcu.edu -n fail --sge --translate\n",
    "```"
   ]
  },
  {
   "cell_type": "markdown",
   "metadata": {},
   "source": [
    "# chain up the .sh files\n",
    "\n",
    "godel only allows 200 job submissions, so I'm going to create chains of jobs so that once one job finishes mapping it submits a trim job.\n",
    "\n",
    "#### first run each python script to create the sh files for the next step (through marking duplicates)\n",
    "\n",
    "I went into the pipeline and commented out the part where it submits the jobs so that I could run each python script"
   ]
  },
  {
   "cell_type": "code",
   "execution_count": 10,
   "metadata": {},
   "outputs": [
    {
     "data": {
      "text/plain": [
       "'/home/lindb/eckertlab/BURT/002_trim_and_map/loblolly_mapping'"
      ]
     },
     "execution_count": 10,
     "metadata": {},
     "output_type": "execute_result"
    }
   ],
   "source": [
    "lobdir = DIR\n",
    "lobdir"
   ]
  },
  {
   "cell_type": "code",
   "execution_count": 11,
   "metadata": {},
   "outputs": [
    {
     "data": {
      "text/plain": [
       "1135"
      ]
     },
     "execution_count": 11,
     "metadata": {},
     "output_type": "execute_result"
    }
   ],
   "source": [
    "# get the trimming shfiles to create the mapping shfiles\n",
    "shdir = op.join(lobdir, 'BURT/shfiles/01_trimmed_shfiles')\n",
    "trimshfiles = fs(shdir, endswith='.sh')\n",
    "len(trimshfiles)"
   ]
  },
  {
   "cell_type": "code",
   "execution_count": 12,
   "metadata": {},
   "outputs": [
    {
     "data": {
      "text/plain": [
       "'python $HOME/pipeline/02_bwa-map_view_sort_index_flagstat.py /home/lindb/eckertlab/BURT/002_trim_and_map/loblolly_mapping E-AL-1-1'"
      ]
     },
     "execution_count": 12,
     "metadata": {},
     "output_type": "execute_result"
    }
   ],
   "source": [
    "# write python cmds to a file, cat this file to GNU parallel in terminal window\n",
    "catfile = op.join(lobdir, 'BURT/01_catfile.txt')\n",
    "with open(catfile, 'w') as o:\n",
    "    cmds = []\n",
    "    for sh in trimshfiles:\n",
    "        text = read(sh)\n",
    "        cmds.append(text[-3])\n",
    "    o.write(\"%s\" % '\\n'.join(cmds))\n",
    "cmds[0]"
   ]
  },
  {
   "cell_type": "code",
   "execution_count": 13,
   "metadata": {},
   "outputs": [
    {
     "data": {
      "text/plain": [
       "'/home/lindb/eckertlab/BURT/002_trim_and_map/loblolly_mapping/BURT/01_catfile.txt'"
      ]
     },
     "execution_count": 13,
     "metadata": {},
     "output_type": "execute_result"
    }
   ],
   "source": [
    "catfile"
   ]
  },
  {
   "cell_type": "code",
   "execution_count": 14,
   "metadata": {},
   "outputs": [],
   "source": [
    "# cat catfile in terminal"
   ]
  },
  {
   "cell_type": "code",
   "execution_count": 15,
   "metadata": {},
   "outputs": [
    {
     "data": {
      "text/plain": [
       "1135"
      ]
     },
     "execution_count": 15,
     "metadata": {},
     "output_type": "execute_result"
    }
   ],
   "source": [
    "# get the mapping shfiles to create the mark-dups shfiles\n",
    "shdir = op.join(lobdir, 'BURT/shfiles/02_bwa_shfiles')\n",
    "mapshfiles = fs(shdir, endswith='.sh')\n",
    "len(mapshfiles)"
   ]
  },
  {
   "cell_type": "code",
   "execution_count": 16,
   "metadata": {},
   "outputs": [
    {
     "data": {
      "text/plain": [
       "'python $HOME/pipeline/03_mark_build.py /home/lindb/eckertlab/BURT/002_trim_and_map/loblolly_mapping/BURT E-AL-1-1'"
      ]
     },
     "execution_count": 16,
     "metadata": {},
     "output_type": "execute_result"
    }
   ],
   "source": [
    "# write python cmds to a file, cat this file to GNU parallel in terminal window\n",
    "catfile = op.join(lobdir, 'BURT/02_catfile.txt')\n",
    "with open(catfile, 'w') as o:\n",
    "    cmds = []\n",
    "    for sh in mapshfiles:\n",
    "        text = read(sh)\n",
    "        cmds.append(text[-2][1:])\n",
    "    o.write(\"%s\" % '\\n'.join(cmds))\n",
    "cmds[0]"
   ]
  },
  {
   "cell_type": "markdown",
   "metadata": {},
   "source": [
    "#### now go through and submit new trim jobs after marking dups finishes in another job"
   ]
  },
  {
   "cell_type": "code",
   "execution_count": 17,
   "metadata": {},
   "outputs": [
    {
     "data": {
      "text/plain": [
       "1135"
      ]
     },
     "execution_count": 17,
     "metadata": {},
     "output_type": "execute_result"
    }
   ],
   "source": [
    "dupdir = op.join(lobdir, 'BURT/shfiles/03_mark_build_shfiles')\n",
    "dupshfiles = fs(dupdir, endswith='.sh')\n",
    "len(dupshfiles)"
   ]
  },
  {
   "cell_type": "code",
   "execution_count": 18,
   "metadata": {},
   "outputs": [
    {
     "name": "stderr",
     "output_type": "stream",
     "text": [
      "100%|██████████| 1135/1135 [00:01<00:00, 797.20it/s]\n"
     ]
    }
   ],
   "source": [
    "# identify chains of jobs so that once one job finishes (trim + map) it submits the next trim job in the chain\n",
    "chains = {}\n",
    "lencount = 1\n",
    "itercount = 0\n",
    "for sh in nb(dupshfiles):\n",
    "    if len(chains) < 150:\n",
    "        chains[sh] = []\n",
    "    else:\n",
    "        for shstart in chains:\n",
    "            if len(chains[shstart]) < lencount:\n",
    "                sh = sh.replace(\"/03_mark_build_shfiles/\", \"/01_trimmed_shfiles/\").replace(\"-mark.sh\", \"-trim.sh\")\n",
    "                assert op.exists(sh)\n",
    "                chains[shstart].append(sh)\n",
    "                itercount += 1\n",
    "                if itercount % 150 == 0 and itercount > 0:\n",
    "                    itercount = 0\n",
    "                    lencount += 1\n",
    "                break"
   ]
  },
  {
   "cell_type": "code",
   "execution_count": 19,
   "metadata": {},
   "outputs": [
    {
     "data": {
      "text/plain": [
       "150"
      ]
     },
     "execution_count": 19,
     "metadata": {},
     "output_type": "execute_result"
    }
   ],
   "source": [
    "len(keys(chains))"
   ]
  },
  {
   "cell_type": "code",
   "execution_count": 20,
   "metadata": {},
   "outputs": [
    {
     "data": {
      "text/plain": [
       "(1135, 1135, 1135, 1135)"
      ]
     },
     "execution_count": 20,
     "metadata": {},
     "output_type": "execute_result"
    }
   ],
   "source": [
    "# make sure it makes sense\n",
    "allsh = []\n",
    "count = len(chains)\n",
    "for sh,lst in chains.items():\n",
    "    count += len(lst)\n",
    "    allsh.append(sh)\n",
    "    allsh.extend(lst)\n",
    "count, len(dupshfiles), len(allsh), luni(allsh)"
   ]
  },
  {
   "cell_type": "code",
   "execution_count": 21,
   "metadata": {},
   "outputs": [
    {
     "data": {
      "text/plain": [
       "['/home/lindb/eckertlab/BURT/002_trim_and_map/loblolly_mapping/BURT/shfiles/01_trimmed_shfiles/BURT-E-SC-1-9-trim.sh',\n",
       " '/home/lindb/eckertlab/BURT/002_trim_and_map/loblolly_mapping/BURT/shfiles/01_trimmed_shfiles/BURT-G-VA-1-11-trim.sh',\n",
       " '/home/lindb/eckertlab/BURT/002_trim_and_map/loblolly_mapping/BURT/shfiles/01_trimmed_shfiles/BURT-P-AL-5-3-trim.sh',\n",
       " '/home/lindb/eckertlab/BURT/002_trim_and_map/loblolly_mapping/BURT/shfiles/01_trimmed_shfiles/BURT-P-LA-3-12-trim.sh',\n",
       " '/home/lindb/eckertlab/BURT/002_trim_and_map/loblolly_mapping/BURT/shfiles/01_trimmed_shfiles/BURT-T-AL-3-6-trim.sh',\n",
       " '/home/lindb/eckertlab/BURT/002_trim_and_map/loblolly_mapping/BURT/shfiles/01_trimmed_shfiles/BURT-T-GA-3-10-trim.sh',\n",
       " '/home/lindb/eckertlab/BURT/002_trim_and_map/loblolly_mapping/BURT/shfiles/01_trimmed_shfiles/BURT-T-TX-1-3-trim.sh']"
      ]
     },
     "execution_count": 21,
     "metadata": {},
     "output_type": "execute_result"
    }
   ],
   "source": [
    "# look at the first chain of job submissions\n",
    "k0 = keys(chains)[0]\n",
    "chains[k0]"
   ]
  },
  {
   "cell_type": "code",
   "execution_count": 22,
   "metadata": {},
   "outputs": [
    {
     "name": "stdout",
     "output_type": "stream",
     "text": [
      "BURT-E-AL-1-1-mark.sh  will submit  BURT-E-SC-1-9-trim.sh\n",
      "BURT-E-SC-1-9-mark.sh  will submit  BURT-G-VA-1-11-trim.sh\n",
      "BURT-G-VA-1-11-mark.sh  will submit  BURT-P-AL-5-3-trim.sh\n",
      "BURT-P-AL-5-3-mark.sh  will submit  BURT-P-LA-3-12-trim.sh\n",
      "BURT-P-LA-3-12-mark.sh  will submit  BURT-T-AL-3-6-trim.sh\n",
      "BURT-T-AL-3-6-mark.sh  will submit  BURT-T-GA-3-10-trim.sh\n",
      "BURT-T-GA-3-10-mark.sh  will submit  BURT-T-TX-1-3-trim.sh\n"
     ]
    }
   ],
   "source": [
    "# add in commands to qsub the next shfile once the last shfile is finished mapping\n",
    "count = 0\n",
    "for sh,lst in chains.items():\n",
    "    lastsh = sh\n",
    "    for nextsh in lst:\n",
    "        if count == 0:\n",
    "            print(op.basename(lastsh), ' will submit ', op.basename(nextsh))  # for visualization\n",
    "        # get the text from the sh file, add in qsub commands\n",
    "        text = read(lastsh)\n",
    "        if '# submit next job' not in text:\n",
    "            text.append('# submit next job')\n",
    "            text.append('cd %s' % op.dirname(nextsh))\n",
    "            text.append('qsub %s' % op.basename(nextsh))\n",
    "        # write the text back to file\n",
    "        with open(lastsh, 'w') as o:\n",
    "            o.write(\"%s\" % '\\n'.join(text))\n",
    "        # replace lastsh by changing nextsh from trim to mark\n",
    "        lastsh = nextsh.replace(\"/01_trimmed_shfiles/\", \"/03_mark_build_shfiles/\").replace(\"-trim.sh\", \"-mark.sh\")\n",
    "    count += 1"
   ]
  },
  {
   "cell_type": "code",
   "execution_count": 23,
   "metadata": {},
   "outputs": [
    {
     "name": "stderr",
     "output_type": "stream",
     "text": [
      "  0%|          | 4/1135 [00:00<00:29, 38.95it/s]"
     ]
    },
    {
     "name": "stdout",
     "output_type": "stream",
     "text": [
      "/gpfs_fs/home/eckertlab/BURT/002_trim_and_map/loblolly_mapping/BURT/shfiles/01_trimmed_shfiles\n"
     ]
    },
    {
     "name": "stderr",
     "output_type": "stream",
     "text": [
      "100%|██████████| 1135/1135 [00:04<00:00, 250.72it/s]\n",
      "  3%|▎         | 38/1135 [00:00<00:02, 374.78it/s]"
     ]
    },
    {
     "name": "stdout",
     "output_type": "stream",
     "text": [
      "/gpfs_fs/home/eckertlab/BURT/002_trim_and_map/loblolly_mapping/BURT/shfiles/02_bwa_shfiles\n"
     ]
    },
    {
     "name": "stderr",
     "output_type": "stream",
     "text": [
      "100%|██████████| 1135/1135 [00:03<00:00, 337.16it/s]\n"
     ]
    }
   ],
   "source": [
    "# go back through trim and mapping jobs and replace python script command with qsub command\n",
    "# so that the python scripts don't overwrite the changes I've made to the sh files\n",
    "dirs = ['/gpfs_fs/home/eckertlab/BURT/002_trim_and_map/loblolly_mapping/BURT/shfiles/01_trimmed_shfiles',\n",
    "        '/gpfs_fs/home/eckertlab/BURT/002_trim_and_map/loblolly_mapping/BURT/shfiles/02_bwa_shfiles']\n",
    "for d in dirs:\n",
    "    print(d)\n",
    "    shfiles = fs(d, endswith='.sh')\n",
    "    # fore each sh file, comment python cmd and add qsub command for next phase\n",
    "    for sh in nb(shfiles):\n",
    "        text = read(sh)\n",
    "        for i,line in enumerate(text):\n",
    "            if line.startswith('python'):\n",
    "                text[i] = \"#%s\" % line\n",
    "        if '01_trimmed_shfiles' in d:\n",
    "            nextsh = sh.replace('/01_trimmed_shfiles/', '/02_bwa_shfiles/').replace('-trim.sh', '-bwa.sh')\n",
    "        elif '02_bwa_shfiles' in d:\n",
    "            nextsh = sh.replace('/02_bwa_shfiles/', '/03_mark_build_shfiles/').replace('-bwa.sh', '-mark.sh')\n",
    "        else:\n",
    "            print('continuing')\n",
    "            continue\n",
    "        assert op.exists(nextsh)\n",
    "        text.extend(['', '# submit next newest job', 'cd %s' % op.dirname(nextsh)])\n",
    "        text.append('qsub %s' % op.basename(nextsh))\n",
    "        with open(sh, 'w') as o:\n",
    "            o.write(\"%s\" % '\\n'.join(text))"
   ]
  },
  {
   "cell_type": "code",
   "execution_count": 24,
   "metadata": {
    "scrolled": true
   },
   "outputs": [
    {
     "name": "stderr",
     "output_type": "stream",
     "text": [
      "  7%|▋         | 82/1135 [00:00<00:01, 819.65it/s]"
     ]
    },
    {
     "name": "stdout",
     "output_type": "stream",
     "text": [
      "/home/lindb/eckertlab/BURT/002_trim_and_map/loblolly_mapping/BURT/shfiles/01_trimmed_shfiles\n"
     ]
    },
    {
     "name": "stderr",
     "output_type": "stream",
     "text": [
      "100%|██████████| 1135/1135 [00:01<00:00, 760.29it/s]\n",
      "  9%|▊         | 97/1135 [00:00<00:01, 960.90it/s]"
     ]
    },
    {
     "name": "stdout",
     "output_type": "stream",
     "text": [
      "/home/lindb/eckertlab/BURT/002_trim_and_map/loblolly_mapping/BURT/shfiles/02_bwa_shfiles\n"
     ]
    },
    {
     "name": "stderr",
     "output_type": "stream",
     "text": [
      "100%|██████████| 1135/1135 [00:01<00:00, 877.24it/s]\n",
      "  7%|▋         | 78/1135 [00:00<00:01, 772.00it/s]"
     ]
    },
    {
     "name": "stdout",
     "output_type": "stream",
     "text": [
      "/home/lindb/eckertlab/BURT/002_trim_and_map/loblolly_mapping/BURT/shfiles/03_mark_build_shfiles\n"
     ]
    },
    {
     "name": "stderr",
     "output_type": "stream",
     "text": [
      "100%|██████████| 1135/1135 [00:02<00:00, 495.14it/s]\n"
     ]
    },
    {
     "data": {
      "text/plain": [
       "['#!/bin/bash',\n",
       " '#$ -cwd',\n",
       " '#$ -j y',\n",
       " '#$ -l mem_free=30000M',\n",
       " '#$ -N BURT-T-VA-4-9-mark',\n",
       " '#$ -S /bin/bash',\n",
       " '#$ -M lindb@vcu.edu',\n",
       " '#$ -m a',\n",
       " '',\n",
       " '# remove dups',\n",
       " 'source $HOME/.bash_profile',\n",
       " '',\n",
       " '',\n",
       " 'export _JAVA_OPTIONS=\"-Xms256m -Xmx27g\"',\n",
       " 'picard MarkDuplicates I=/home/lindb/eckertlab/BURT/002_trim_and_map/loblolly_mapping/BURT/02c_sorted_bamfiles/T-VA-4-9_R1R2_trimmed_sorted.bam O=/home/lindb/eckertlab/BURT/002_trim_and_map/loblolly_mapping/BURT/03_dedup_rg_filtered_indexed_sorted_bamfiles/T-VA-4-9_rd.bam MAX_FILE_HANDLES_FOR_READ_ENDS_MAP=1000 M=/home/lindb/eckertlab/BURT/002_trim_and_map/loblolly_mapping/BURT/03_dedup_rg_filtered_indexed_sorted_bamfiles/T-VA-4-9_rd_dupstat.txt REMOVE_DUPLICATES=true',\n",
       " '',\n",
       " '# Build bam index for GATK',\n",
       " 'java -jar $EBROOTPICARD/picard.jar BuildBamIndex I=/home/lindb/eckertlab/BURT/002_trim_and_map/loblolly_mapping/BURT/03_dedup_rg_filtered_indexed_sorted_bamfiles/T-VA-4-9_rd.bam',\n",
       " '',\n",
       " '',\n",
       " '# get more dup stats',\n",
       " '',\n",
       " 'samtools flagstat /home/lindb/eckertlab/BURT/002_trim_and_map/loblolly_mapping/BURT/03_dedup_rg_filtered_indexed_sorted_bamfiles/T-VA-4-9_rd.bam > /home/lindb/eckertlab/BURT/002_trim_and_map/loblolly_mapping/BURT/03_dedup_rg_filtered_indexed_sorted_bamfiles/T-VA-4-9_rd.bam.flagstats',\n",
       " '',\n",
       " '',\n",
       " '# call next step',\n",
       " 'source /home/lindb/eckertlab/BURT/002_trim_and_map/loblolly_mapping/bash_variables',\n",
       " '',\n",
       " '#python $HOME/pipeline/04_realignTargetCreator.py /home/lindb/eckertlab/BURT/002_trim_and_map/loblolly_mapping/BURT T-VA-4-9 /home/lindb/eckertlab/BURT/002_trim_and_map/loblolly_mapping/BURT/03_dedup_rg_filtered_indexed_sorted_bamfiles/T-VA-4-9_rd.bam',\n",
       " '',\n",
       " '']"
      ]
     },
     "execution_count": 24,
     "metadata": {},
     "output_type": "execute_result"
    }
   ],
   "source": [
    "# add in source ~/.bash_profile before bash commands in shfiles - because godel is stupid\n",
    "dirs = ['/home/lindb/eckertlab/BURT/002_trim_and_map/loblolly_mapping/BURT/shfiles/01_trimmed_shfiles',\n",
    "        '/home/lindb/eckertlab/BURT/002_trim_and_map/loblolly_mapping/BURT/shfiles/02_bwa_shfiles',\n",
    "        '/home/lindb/eckertlab/BURT/002_trim_and_map/loblolly_mapping/BURT/shfiles/03_mark_build_shfiles']\n",
    "for i,d in enumerate(dirs):\n",
    "    print(d)\n",
    "    shfiles = fs(d, endswith='.sh')\n",
    "    for sh in nb(shfiles):\n",
    "        text = read(sh)\n",
    "        text.insert(10, 'source $HOME/.bash_profile')\n",
    "        with open(sh, 'w') as o:\n",
    "            o.write(\"%s\" % '\\n'.join(text))\n",
    "text"
   ]
  },
  {
   "cell_type": "code",
   "execution_count": 25,
   "metadata": {},
   "outputs": [
    {
     "data": {
      "text/plain": [
       "['#!/bin/bash',\n",
       " '#$ -cwd',\n",
       " '#$ -j y',\n",
       " '#$ -l mem_free=30000M',\n",
       " '#$ -N BURT-E-AL-1-1-mark',\n",
       " '#$ -S /bin/bash',\n",
       " '#$ -M lindb@vcu.edu',\n",
       " '#$ -m a',\n",
       " '',\n",
       " '# remove dups',\n",
       " 'source $HOME/.bash_profile',\n",
       " '',\n",
       " '',\n",
       " 'export _JAVA_OPTIONS=\"-Xms256m -Xmx27g\"',\n",
       " 'picard MarkDuplicates I=/home/lindb/eckertlab/BURT/002_trim_and_map/loblolly_mapping/BURT/02c_sorted_bamfiles/E-AL-1-1_R1R2_trimmed_sorted.bam O=/home/lindb/eckertlab/BURT/002_trim_and_map/loblolly_mapping/BURT/03_dedup_rg_filtered_indexed_sorted_bamfiles/E-AL-1-1_rd.bam MAX_FILE_HANDLES_FOR_READ_ENDS_MAP=1000 M=/home/lindb/eckertlab/BURT/002_trim_and_map/loblolly_mapping/BURT/03_dedup_rg_filtered_indexed_sorted_bamfiles/E-AL-1-1_rd_dupstat.txt REMOVE_DUPLICATES=true',\n",
       " '',\n",
       " '# Build bam index for GATK',\n",
       " 'java -jar $EBROOTPICARD/picard.jar BuildBamIndex I=/home/lindb/eckertlab/BURT/002_trim_and_map/loblolly_mapping/BURT/03_dedup_rg_filtered_indexed_sorted_bamfiles/E-AL-1-1_rd.bam',\n",
       " '',\n",
       " '',\n",
       " '# get more dup stats',\n",
       " '',\n",
       " 'samtools flagstat /home/lindb/eckertlab/BURT/002_trim_and_map/loblolly_mapping/BURT/03_dedup_rg_filtered_indexed_sorted_bamfiles/E-AL-1-1_rd.bam > /home/lindb/eckertlab/BURT/002_trim_and_map/loblolly_mapping/BURT/03_dedup_rg_filtered_indexed_sorted_bamfiles/E-AL-1-1_rd.bam.flagstats',\n",
       " '',\n",
       " '',\n",
       " '# call next step',\n",
       " 'source /home/lindb/eckertlab/BURT/002_trim_and_map/loblolly_mapping/bash_variables',\n",
       " '',\n",
       " '#python $HOME/pipeline/04_realignTargetCreator.py /home/lindb/eckertlab/BURT/002_trim_and_map/loblolly_mapping/BURT E-AL-1-1 /home/lindb/eckertlab/BURT/002_trim_and_map/loblolly_mapping/BURT/03_dedup_rg_filtered_indexed_sorted_bamfiles/E-AL-1-1_rd.bam',\n",
       " '',\n",
       " '',\n",
       " '# submit next job',\n",
       " 'cd /home/lindb/eckertlab/BURT/002_trim_and_map/loblolly_mapping/BURT/shfiles/01_trimmed_shfiles',\n",
       " 'qsub BURT-E-SC-1-9-trim.sh']"
      ]
     },
     "execution_count": 25,
     "metadata": {},
     "output_type": "execute_result"
    }
   ],
   "source": [
    "read(shfiles[0])"
   ]
  },
  {
   "cell_type": "code",
   "execution_count": 27,
   "metadata": {},
   "outputs": [
    {
     "name": "stdout",
     "output_type": "stream",
     "text": [
      "/home/lindb/eckertlab/BURT/002_trim_and_map/loblolly_mapping/BURT/shfiles/03_mark_build_shfiles/BURT-E-AL-1-1-mark.sh\n"
     ]
    },
    {
     "data": {
      "text/plain": [
       "['/home/lindb/eckertlab/BURT/002_trim_and_map/loblolly_mapping/BURT/shfiles/01_trimmed_shfiles/BURT-E-SC-1-9-trim.sh',\n",
       " '/home/lindb/eckertlab/BURT/002_trim_and_map/loblolly_mapping/BURT/shfiles/01_trimmed_shfiles/BURT-G-VA-1-11-trim.sh',\n",
       " '/home/lindb/eckertlab/BURT/002_trim_and_map/loblolly_mapping/BURT/shfiles/01_trimmed_shfiles/BURT-P-AL-5-3-trim.sh',\n",
       " '/home/lindb/eckertlab/BURT/002_trim_and_map/loblolly_mapping/BURT/shfiles/01_trimmed_shfiles/BURT-P-LA-3-12-trim.sh',\n",
       " '/home/lindb/eckertlab/BURT/002_trim_and_map/loblolly_mapping/BURT/shfiles/01_trimmed_shfiles/BURT-T-AL-3-6-trim.sh',\n",
       " '/home/lindb/eckertlab/BURT/002_trim_and_map/loblolly_mapping/BURT/shfiles/01_trimmed_shfiles/BURT-T-GA-3-10-trim.sh',\n",
       " '/home/lindb/eckertlab/BURT/002_trim_and_map/loblolly_mapping/BURT/shfiles/01_trimmed_shfiles/BURT-T-TX-1-3-trim.sh']"
      ]
     },
     "execution_count": 27,
     "metadata": {},
     "output_type": "execute_result"
    }
   ],
   "source": [
    "k0 = keys(chains)[0]\n",
    "print(k0)\n",
    "chains[k0]"
   ]
  },
  {
   "cell_type": "code",
   "execution_count": 28,
   "metadata": {},
   "outputs": [
    {
     "name": "stderr",
     "output_type": "stream",
     "text": [
      "100%|██████████| 1/1 [00:00<00:00,  4.63it/s]\n",
      "100%|██████████| 1/1 [00:00<00:00, 27.17it/s]\n",
      "100%|██████████| 1/1 [00:00<00:00, 30.66it/s]\n",
      "100%|██████████| 1/1 [00:00<00:00, 33.55it/s]\n",
      "100%|██████████| 1/1 [00:00<00:00, 32.64it/s]\n",
      "100%|██████████| 1/1 [00:00<00:00, 27.04it/s]\n",
      "100%|██████████| 1/1 [00:00<00:00, 31.93it/s]\n",
      "100%|██████████| 1/1 [00:00<00:00, 29.94it/s]\n",
      "100%|██████████| 1/1 [00:00<00:00, 30.17it/s]\n",
      "100%|██████████| 1/1 [00:00<00:00, 30.08it/s]\n",
      "100%|██████████| 1/1 [00:00<00:00, 31.47it/s]\n",
      "100%|██████████| 1/1 [00:00<00:00, 30.66it/s]\n",
      "100%|██████████| 1/1 [00:00<00:00, 31.69it/s]\n",
      "100%|██████████| 1/1 [00:00<00:00, 29.46it/s]\n",
      "100%|██████████| 1/1 [00:00<00:00, 31.37it/s]\n",
      "100%|██████████| 1/1 [00:00<00:00, 30.71it/s]\n",
      "100%|██████████| 1/1 [00:00<00:00, 29.30it/s]\n",
      "100%|██████████| 1/1 [00:00<00:00, 31.49it/s]\n",
      "100%|██████████| 1/1 [00:00<00:00, 27.82it/s]\n",
      "100%|██████████| 1/1 [00:00<00:00, 31.89it/s]\n",
      "100%|██████████| 1/1 [00:00<00:00, 31.27it/s]\n",
      "100%|██████████| 1/1 [00:00<00:00, 22.65it/s]\n",
      "100%|██████████| 1/1 [00:00<00:00, 31.10it/s]\n",
      "100%|██████████| 1/1 [00:00<00:00, 24.40it/s]\n",
      "100%|██████████| 1/1 [00:00<00:00, 33.12it/s]\n",
      "100%|██████████| 1/1 [00:00<00:00, 28.78it/s]\n",
      "100%|██████████| 1/1 [00:00<00:00, 31.61it/s]\n",
      "100%|██████████| 1/1 [00:00<00:00, 24.12it/s]\n",
      "100%|██████████| 1/1 [00:00<00:00, 31.88it/s]\n",
      "100%|██████████| 1/1 [00:00<00:00, 29.13it/s]\n",
      "100%|██████████| 1/1 [00:00<00:00, 32.29it/s]\n",
      "100%|██████████| 1/1 [00:00<00:00, 30.75it/s]\n",
      "100%|██████████| 1/1 [00:00<00:00, 30.23it/s]\n",
      "100%|██████████| 1/1 [00:00<00:00, 32.01it/s]\n",
      "100%|██████████| 1/1 [00:00<00:00, 27.97it/s]\n",
      "100%|██████████| 1/1 [00:00<00:00, 31.34it/s]\n",
      "100%|██████████| 1/1 [00:00<00:00, 29.76it/s]\n",
      "100%|██████████| 1/1 [00:00<00:00, 29.13it/s]\n",
      "100%|██████████| 1/1 [00:00<00:00, 30.96it/s]\n",
      "100%|██████████| 1/1 [00:00<00:00, 31.73it/s]\n",
      "100%|██████████| 1/1 [00:00<00:00, 31.62it/s]\n",
      "100%|██████████| 1/1 [00:00<00:00, 29.20it/s]\n",
      "100%|██████████| 1/1 [00:00<00:00, 31.34it/s]\n",
      "100%|██████████| 1/1 [00:00<00:00, 29.28it/s]\n",
      "100%|██████████| 1/1 [00:00<00:00, 30.94it/s]\n",
      "100%|██████████| 1/1 [00:00<00:00, 31.79it/s]\n",
      "100%|██████████| 1/1 [00:00<00:00, 27.10it/s]\n",
      "100%|██████████| 1/1 [00:00<00:00, 30.94it/s]\n",
      "100%|██████████| 1/1 [00:00<00:00, 29.28it/s]\n",
      "100%|██████████| 1/1 [00:00<00:00, 28.68it/s]\n",
      "100%|██████████| 1/1 [00:00<00:00, 30.62it/s]\n",
      "100%|██████████| 1/1 [00:00<00:00, 29.77it/s]\n",
      "100%|██████████| 1/1 [00:00<00:00, 30.89it/s]\n",
      "100%|██████████| 1/1 [00:00<00:00, 31.60it/s]\n",
      "100%|██████████| 1/1 [00:00<00:00, 31.41it/s]\n",
      "100%|██████████| 1/1 [00:00<00:00, 26.62it/s]\n",
      "100%|██████████| 1/1 [00:00<00:00, 32.53it/s]\n",
      "100%|██████████| 1/1 [00:00<00:00, 27.39it/s]\n",
      "100%|██████████| 1/1 [00:00<00:00, 31.68it/s]\n",
      "100%|██████████| 1/1 [00:00<00:00, 30.99it/s]\n",
      "100%|██████████| 1/1 [00:00<00:00, 29.19it/s]\n",
      "100%|██████████| 1/1 [00:00<00:00, 30.64it/s]\n",
      "100%|██████████| 1/1 [00:00<00:00, 24.92it/s]\n",
      "100%|██████████| 1/1 [00:00<00:00, 32.47it/s]\n",
      "100%|██████████| 1/1 [00:00<00:00, 29.03it/s]\n",
      "100%|██████████| 1/1 [00:00<00:00, 32.13it/s]\n",
      "100%|██████████| 1/1 [00:00<00:00, 29.89it/s]\n",
      "100%|██████████| 1/1 [00:00<00:00, 32.09it/s]\n",
      "100%|██████████| 1/1 [00:00<00:00, 31.29it/s]\n",
      "100%|██████████| 1/1 [00:00<00:00, 28.09it/s]\n",
      "100%|██████████| 1/1 [00:00<00:00, 30.63it/s]\n",
      "100%|██████████| 1/1 [00:00<00:00, 27.96it/s]\n",
      "100%|██████████| 1/1 [00:00<00:00, 33.25it/s]\n",
      "100%|██████████| 1/1 [00:00<00:00, 30.64it/s]\n",
      "100%|██████████| 1/1 [00:00<00:00, 31.79it/s]\n",
      "100%|██████████| 1/1 [00:00<00:00, 23.92it/s]\n",
      "100%|██████████| 1/1 [00:00<00:00, 30.86it/s]\n",
      "100%|██████████| 1/1 [00:00<00:00, 29.81it/s]\n",
      "100%|██████████| 1/1 [00:00<00:00, 29.43it/s]\n",
      "100%|██████████| 1/1 [00:00<00:00, 30.65it/s]\n",
      "100%|██████████| 1/1 [00:00<00:00, 31.06it/s]\n",
      "100%|██████████| 1/1 [00:00<00:00, 30.99it/s]\n",
      "100%|██████████| 1/1 [00:00<00:00, 26.80it/s]\n",
      "100%|██████████| 1/1 [00:00<00:00, 31.46it/s]\n",
      "100%|██████████| 1/1 [00:00<00:00, 29.51it/s]\n",
      "100%|██████████| 1/1 [00:00<00:00, 31.12it/s]\n",
      "100%|██████████| 1/1 [00:00<00:00, 29.48it/s]\n",
      "100%|██████████| 1/1 [00:00<00:00, 31.15it/s]\n",
      "100%|██████████| 1/1 [00:00<00:00, 30.87it/s]\n",
      "100%|██████████| 1/1 [00:00<00:00, 30.00it/s]\n",
      "100%|██████████| 1/1 [00:00<00:00, 31.26it/s]\n",
      "100%|██████████| 1/1 [00:00<00:00, 30.57it/s]\n",
      "100%|██████████| 1/1 [00:00<00:00, 29.89it/s]\n",
      "100%|██████████| 1/1 [00:00<00:00, 31.55it/s]\n",
      "100%|██████████| 1/1 [00:00<00:00, 29.92it/s]\n",
      "100%|██████████| 1/1 [00:00<00:00, 29.28it/s]\n",
      "100%|██████████| 1/1 [00:00<00:00, 31.54it/s]\n",
      "100%|██████████| 1/1 [00:00<00:00, 30.43it/s]\n",
      "100%|██████████| 1/1 [00:00<00:00, 29.60it/s]\n",
      "100%|██████████| 1/1 [00:00<00:00, 31.54it/s]\n",
      "100%|██████████| 1/1 [00:00<00:00, 29.81it/s]\n",
      "100%|██████████| 1/1 [00:00<00:00, 33.09it/s]\n",
      "100%|██████████| 1/1 [00:00<00:00, 27.41it/s]\n",
      "100%|██████████| 1/1 [00:00<00:00, 35.01it/s]\n",
      "100%|██████████| 1/1 [00:00<00:00, 28.40it/s]\n",
      "100%|██████████| 1/1 [00:00<00:00, 31.77it/s]\n",
      "100%|██████████| 1/1 [00:00<00:00, 29.93it/s]\n",
      "100%|██████████| 1/1 [00:00<00:00, 32.00it/s]\n",
      "100%|██████████| 1/1 [00:00<00:00, 30.34it/s]\n",
      "100%|██████████| 1/1 [00:00<00:00, 24.57it/s]\n",
      "100%|██████████| 1/1 [00:00<00:00, 31.63it/s]\n",
      "100%|██████████| 1/1 [00:00<00:00, 30.62it/s]\n",
      "100%|██████████| 1/1 [00:00<00:00, 30.59it/s]\n",
      "100%|██████████| 1/1 [00:00<00:00, 31.76it/s]\n",
      "100%|██████████| 1/1 [00:00<00:00, 27.04it/s]\n",
      "100%|██████████| 1/1 [00:00<00:00, 31.33it/s]\n",
      "100%|██████████| 1/1 [00:00<00:00, 30.29it/s]\n",
      "100%|██████████| 1/1 [00:00<00:00, 30.31it/s]\n",
      "100%|██████████| 1/1 [00:00<00:00, 30.32it/s]\n",
      "100%|██████████| 1/1 [00:00<00:00, 31.10it/s]\n",
      "100%|██████████| 1/1 [00:00<00:00, 29.97it/s]\n",
      "100%|██████████| 1/1 [00:00<00:00, 30.35it/s]\n",
      "100%|██████████| 1/1 [00:00<00:00, 24.15it/s]\n",
      "100%|██████████| 1/1 [00:00<00:00, 31.03it/s]\n",
      "100%|██████████| 1/1 [00:00<00:00, 27.06it/s]\n",
      "100%|██████████| 1/1 [00:00<00:00, 30.16it/s]\n",
      "100%|██████████| 1/1 [00:00<00:00, 29.36it/s]\n",
      "100%|██████████| 1/1 [00:00<00:00, 32.15it/s]\n",
      "100%|██████████| 1/1 [00:00<00:00, 30.50it/s]\n",
      "100%|██████████| 1/1 [00:00<00:00, 26.81it/s]\n",
      "100%|██████████| 1/1 [00:00<00:00, 30.13it/s]\n",
      "100%|██████████| 1/1 [00:00<00:00, 27.93it/s]\n",
      "100%|██████████| 1/1 [00:00<00:00, 27.87it/s]\n",
      "100%|██████████| 1/1 [00:00<00:00, 31.27it/s]\n",
      "100%|██████████| 1/1 [00:00<00:00, 29.09it/s]\n",
      "100%|██████████| 1/1 [00:00<00:00, 31.73it/s]\n",
      "100%|██████████| 1/1 [00:00<00:00, 33.29it/s]\n",
      "100%|██████████| 1/1 [00:00<00:00, 28.28it/s]\n",
      "100%|██████████| 1/1 [00:00<00:00, 29.49it/s]\n",
      "100%|██████████| 1/1 [00:00<00:00, 29.54it/s]\n",
      "100%|██████████| 1/1 [00:00<00:00, 31.19it/s]\n",
      "100%|██████████| 1/1 [00:00<00:00, 31.36it/s]\n",
      "100%|██████████| 1/1 [00:00<00:00, 30.38it/s]\n",
      "100%|██████████| 1/1 [00:00<00:00, 30.03it/s]\n",
      "100%|██████████| 1/1 [00:00<00:00, 31.65it/s]\n",
      "100%|██████████| 1/1 [00:00<00:00, 31.30it/s]\n",
      "100%|██████████| 1/1 [00:00<00:00, 30.46it/s]\n",
      "100%|██████████| 1/1 [00:00<00:00, 29.77it/s]\n",
      "100%|██████████| 1/1 [00:00<00:00, 30.83it/s]\n",
      "100%|██████████| 1/1 [00:00<00:00, 30.56it/s]\n"
     ]
    }
   ],
   "source": [
    "# submit the sh files that kick off the rest of the commands\n",
    "pids = []\n",
    "for sh in chains.keys():\n",
    "    sh = sh.replace('/03_mark_build_shfiles/', '/01_trimmed_shfiles/').replace(\"-mark.sh\", \"-trim.sh\")\n",
    "    assert op.exists(sh)\n",
    "    pids.extend(qsub(sh))"
   ]
  },
  {
   "cell_type": "code",
   "execution_count": 29,
   "metadata": {},
   "outputs": [
    {
     "data": {
      "text/plain": [
       "150"
      ]
     },
     "execution_count": 29,
     "metadata": {},
     "output_type": "execute_result"
    }
   ],
   "source": [
    "len(pids)"
   ]
  },
  {
   "cell_type": "code",
   "execution_count": 30,
   "metadata": {},
   "outputs": [
    {
     "data": {
      "text/plain": [
       "['2706561',\n",
       " '2706562',\n",
       " '2706563',\n",
       " '2706564',\n",
       " '2706565',\n",
       " '2706566',\n",
       " '2706567',\n",
       " '2706568',\n",
       " '2706569',\n",
       " '2706570',\n",
       " '2706571',\n",
       " '2706572',\n",
       " '2706573',\n",
       " '2706574',\n",
       " '2706575',\n",
       " '2706576',\n",
       " '2706577',\n",
       " '2706578',\n",
       " '2706579',\n",
       " '2706580',\n",
       " '2706581',\n",
       " '2706582',\n",
       " '2706583',\n",
       " '2706584',\n",
       " '2706585',\n",
       " '2706586',\n",
       " '2706587',\n",
       " '2706588',\n",
       " '2706589',\n",
       " '2706590',\n",
       " '2706591',\n",
       " '2706592',\n",
       " '2706593',\n",
       " '2706594',\n",
       " '2706595',\n",
       " '2706596',\n",
       " '2706597',\n",
       " '2706598',\n",
       " '2706599',\n",
       " '2706600',\n",
       " '2706601',\n",
       " '2706602',\n",
       " '2706603',\n",
       " '2706604',\n",
       " '2706605',\n",
       " '2706606',\n",
       " '2706607',\n",
       " '2706608',\n",
       " '2706609',\n",
       " '2706610',\n",
       " '2706611',\n",
       " '2706612',\n",
       " '2706613',\n",
       " '2706614',\n",
       " '2706615',\n",
       " '2706616',\n",
       " '2706617',\n",
       " '2706618',\n",
       " '2706619',\n",
       " '2706620',\n",
       " '2706621',\n",
       " '2706622',\n",
       " '2706623',\n",
       " '2706624',\n",
       " '2706625',\n",
       " '2706626',\n",
       " '2706627',\n",
       " '2706628',\n",
       " '2706629',\n",
       " '2706630',\n",
       " '2706631',\n",
       " '2706632',\n",
       " '2706633',\n",
       " '2706634',\n",
       " '2706635',\n",
       " '2706636',\n",
       " '2706637',\n",
       " '2706638',\n",
       " '2706639',\n",
       " '2706640',\n",
       " '2706641',\n",
       " '2706642',\n",
       " '2706643',\n",
       " '2706644',\n",
       " '2706645',\n",
       " '2706646',\n",
       " '2706647',\n",
       " '2706648',\n",
       " '2706649',\n",
       " '2706650',\n",
       " '2706651',\n",
       " '2706652',\n",
       " '2706653',\n",
       " '2706654',\n",
       " '2706655',\n",
       " '2706656',\n",
       " '2706657',\n",
       " '2706658',\n",
       " '2706659',\n",
       " '2706660',\n",
       " '2706661',\n",
       " '2706662',\n",
       " '2706663',\n",
       " '2706664',\n",
       " '2706665',\n",
       " '2706666',\n",
       " '2706667',\n",
       " '2706668',\n",
       " '2706669',\n",
       " '2706670',\n",
       " '2706671',\n",
       " '2706672',\n",
       " '2706673',\n",
       " '2706674',\n",
       " '2706675',\n",
       " '2706676',\n",
       " '2706677',\n",
       " '2706678',\n",
       " '2706679',\n",
       " '2706680',\n",
       " '2706681',\n",
       " '2706682',\n",
       " '2706683',\n",
       " '2706684',\n",
       " '2706685',\n",
       " '2706686',\n",
       " '2706687',\n",
       " '2706688',\n",
       " '2706689',\n",
       " '2706690',\n",
       " '2706691',\n",
       " '2706692',\n",
       " '2706693',\n",
       " '2706694',\n",
       " '2706695',\n",
       " '2706696',\n",
       " '2706697',\n",
       " '2706698',\n",
       " '2706699',\n",
       " '2706700',\n",
       " '2706701',\n",
       " '2706702',\n",
       " '2706703',\n",
       " '2706704',\n",
       " '2706705',\n",
       " '2706706',\n",
       " '2706707',\n",
       " '2706708',\n",
       " '2706709',\n",
       " '2706710']"
      ]
     },
     "execution_count": 30,
     "metadata": {},
     "output_type": "execute_result"
    }
   ],
   "source": [
    "pids"
   ]
  },
  {
   "cell_type": "code",
   "execution_count": null,
   "metadata": {},
   "outputs": [],
   "source": []
  },
  {
   "cell_type": "markdown",
   "metadata": {},
   "source": [
    "#### see what didn't finish"
   ]
  },
  {
   "cell_type": "code",
   "execution_count": 5,
   "metadata": {},
   "outputs": [
    {
     "data": {
      "text/plain": [
       "'/home/lindb/eckertlab/BURT/002_trim_and_map/loblolly_mapping'"
      ]
     },
     "execution_count": 5,
     "metadata": {},
     "output_type": "execute_result"
    }
   ],
   "source": [
    "lobdir"
   ]
  },
  {
   "cell_type": "code",
   "execution_count": 6,
   "metadata": {},
   "outputs": [
    {
     "data": {
      "text/plain": [
       "1127"
      ]
     },
     "execution_count": 6,
     "metadata": {},
     "output_type": "execute_result"
    }
   ],
   "source": [
    "markfiles = fs(op.join(lobdir, 'BURT/03_dedup_rg_filtered_indexed_sorted_bamfiles'), endswith='.bam')\n",
    "len(markfiles)"
   ]
  },
  {
   "cell_type": "code",
   "execution_count": 8,
   "metadata": {},
   "outputs": [
    {
     "data": {
      "text/plain": [
       "'/home/lindb/eckertlab/BURT/002_trim_and_map/loblolly_mapping/BURT/03_dedup_rg_filtered_indexed_sorted_bamfiles/E-AL-1-10_rd.bam'"
      ]
     },
     "execution_count": 8,
     "metadata": {},
     "output_type": "execute_result"
    }
   ],
   "source": [
    "markfiles[0]"
   ]
  },
  {
   "cell_type": "code",
   "execution_count": 14,
   "metadata": {},
   "outputs": [
    {
     "name": "stderr",
     "output_type": "stream",
     "text": [
      "100%|██████████| 1135/1135 [00:07<00:00, 154.17it/s]\n"
     ]
    }
   ],
   "source": [
    "samps = uni(pd.read_table(op.join(lobdir, 'datatable.txt'))['sample_name'])\n",
    "found = {}\n",
    "for samp in nb(samps):\n",
    "    samp = samp+'_rd.bam'\n",
    "    found[samp] = []\n",
    "    for mark in markfiles:\n",
    "        if samp == op.basename(mark):\n",
    "            found[samp].append(mark)\n",
    "for samp,marklst in found.items():\n",
    "    assert len(marklst) <= 1"
   ]
  },
  {
   "cell_type": "code",
   "execution_count": 15,
   "metadata": {},
   "outputs": [
    {
     "name": "stdout",
     "output_type": "stream",
     "text": [
      "G-VA-2-2_rd.bam\n",
      "E-FL-1-10_rd.bam\n",
      "E-SC-3-1_rd.bam\n",
      "T-TX-2-21_rd.bam\n",
      "T-AL-4-8_rd.bam\n",
      "P-LA-4-13_rd.bam\n",
      "P-FL-1-2_rd.bam\n",
      "T-GA-4-11_rd.bam\n"
     ]
    }
   ],
   "source": [
    "for samp,marklst in found.items():\n",
    "    if len(marklst) == 0:\n",
    "        print(samp)"
   ]
  },
  {
   "cell_type": "code",
   "execution_count": null,
   "metadata": {},
   "outputs": [],
   "source": [
    "E-FL-1-10_rd.bam -> E-SC-3-1_rd.bam -> G-VA-2-2_rd.bam"
   ]
  },
  {
   "cell_type": "code",
   "execution_count": null,
   "metadata": {},
   "outputs": [],
   "source": [
    "G-VA-2-2_rd.bam -> P-FL-1-2_rd.bam -> P-LA-4-13_rd.bam -> T-AL-4-8_rd.bam -> T-GA-4-11_rd.bam -> T-TX-2-21_rd.bam"
   ]
  },
  {
   "cell_type": "code",
   "execution_count": null,
   "metadata": {},
   "outputs": [],
   "source": []
  },
  {
   "cell_type": "code",
   "execution_count": null,
   "metadata": {},
   "outputs": [],
   "source": []
  },
  {
   "cell_type": "code",
   "execution_count": null,
   "metadata": {},
   "outputs": [],
   "source": []
  },
  {
   "cell_type": "code",
   "execution_count": null,
   "metadata": {},
   "outputs": [],
   "source": []
  },
  {
   "cell_type": "code",
   "execution_count": null,
   "metadata": {},
   "outputs": [],
   "source": []
  }
 ],
 "metadata": {
  "kernelspec": {
   "display_name": "Python 3",
   "language": "python",
   "name": "python3"
  },
  "language_info": {
   "codemirror_mode": {
    "name": "ipython",
    "version": 3
   },
   "file_extension": ".py",
   "mimetype": "text/x-python",
   "name": "python",
   "nbconvert_exporter": "python",
   "pygments_lexer": "ipython3",
   "version": "3.7.6"
  }
 },
 "nbformat": 4,
 "nbformat_minor": 2
}
