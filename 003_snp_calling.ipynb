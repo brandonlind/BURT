{
 "cells": [
  {
   "cell_type": "markdown",
   "metadata": {},
   "source": [
    "__purpose__\n",
    "- Call SNPs using FreeBayes as implemented in dDocent\n",
    "- Create a pseudogenome - using the major allele calculated independently for each species, create a species-specific ref.fa where the major allele for a species replaces the reference allele in the fasta file.\n",
    "- Aferwards, recall SNPs on the pseudogenome independently for each specieskx b w"
   ]
  },
  {
   "cell_type": "code",
   "execution_count": null,
   "metadata": {},
   "outputs": [],
   "source": []
  },
  {
   "cell_type": "code",
   "execution_count": 2,
   "metadata": {},
   "outputs": [],
   "source": [
    "from pythonimports import *"
   ]
  },
  {
   "cell_type": "code",
   "execution_count": 3,
   "metadata": {},
   "outputs": [],
   "source": [
    "DIR = '/home/lindb/eckertlab/BURT/002_trim_and_map/loblolly_mapping/BURT/03_dedup_rg_filtered_indexed_sorted_bamfiles'"
   ]
  },
  {
   "cell_type": "markdown",
   "metadata": {},
   "source": [
    "# get some of the files that dDocent uses, that I'll use in customized freebayes calls\n",
    "\n",
    "#### loblolly bamfiles\n",
    "\n",
    "```bash\n",
    "# cd dedup directory with bamfiles that are ready\n",
    "LOBDIR=/home/lindb/eckertlab/BURT/002_trim_and_map/loblolly_mapping/BURT\n",
    "cd $LOBDIR/03_dedup_rg_filtered_indexed_sorted_bamfiles\n",
    "\n",
    "# get a list of bamfiles to pass to samtools merge\n",
    "ls *rd.bam > bamlist.list\n",
    "\n",
    "# merge \n",
    "samtools merge -@ 64 -b bamlist.list -f cat-RRG.bam\n",
    "samtools index cat-RRG.bam\n",
    "wait\n",
    "bedtools merge -i cat-RRG.bam -bed >  mapped.bed\n",
    "\n",
    "# get list of samps (cmds from dDocent, I hate bash)\n",
    "ls *rd.bam > namelist\n",
    "sed -i'' -e 's/_rd.bam//g' namelist\n",
    "\n",
    "# get covstats so I can create a \"mapped.*.bed\" file for each samp below\n",
    "export FB2=64\n",
    "export REF=/home/lindb/eckertlab/BURT/refs/lobololly_stitched_ref/Pita2_stitched_2/pita2_stitch_v2.fa\n",
    "mawk -v OFS='\\t' {'print $1,$2'} $REF > genome.file\n",
    "cat namelist | parallel --eta -j $FB2 \"bedtools coverage -b {}_rd.bam -a mapped.bed -counts -sorted -g genome.file > {}.cov.stats\"\n",
    "sort=sort\n",
    "```"
   ]
  },
  {
   "cell_type": "markdown",
   "metadata": {},
   "source": [
    "#### this next dDocent command would have taken way too long, I can just do it in python\n",
    "\n",
    "this command = \n",
    "\n",
    "```bash\n",
    "cat *.cov.stats | $sort -k1,1 -k2,2n | bedtools merge -i - -c 4 -o sum > cov.stats\n",
    "```\n",
    "\n",
    "this command just sums the final column in these .cov.stats files and merges into one file"
   ]
  },
  {
   "cell_type": "code",
   "execution_count": 1,
   "metadata": {},
   "outputs": [
    {
     "name": "stdout",
     "output_type": "stream",
     "text": [
      "100 100\n"
     ]
    }
   ],
   "source": [
    "from pythonimports import *\n",
    "\n",
    "# get engines\n",
    "lview,dview = get_client('xmn')"
   ]
  },
  {
   "cell_type": "code",
   "execution_count": 2,
   "metadata": {},
   "outputs": [],
   "source": [
    "def get_col(f):\n",
    "    \"\"\"Get column 3 that has the counts.\"\"\"\n",
    "    import pandas\n",
    "    if f.endswith('.txt') or f.endswith('.stats'):\n",
    "        df = pandas.read_table(f, header=None, usecols=[3])[3]\n",
    "    else:\n",
    "        df = pklload(f)\n",
    "    return df\n",
    "dview['get_col'] = get_col\n",
    "\n",
    "def get_cols(files, num, numsnps):\n",
    "    \"\"\"Call get_col() for each file in files.\"\"\"\n",
    "    import pandas, pickle, os\n",
    "    from tqdm.notebook import tqdm\n",
    "    \n",
    "    num = str(num).zfill(3)\n",
    "    tmpdir = '/home/lindb/eckertlab/BURT/002_trim_and_map/loblolly_mapping/BURT/03_dedup_rg_filtered_indexed_sorted_bamfiles/tmpdir'\n",
    "\n",
    "    blank = pandas.Series([0 for y in range(numsnps)])\n",
    "    for f in tqdm(files):\n",
    "        blank += get_col(f)\n",
    "\n",
    "    file = os.path.join(tmpdir, f'{num}.pkl')\n",
    "    pkldump(blank, file)\n",
    "    return file\n",
    "\n",
    "dview['nrow'] = nrow\n",
    "dview['pkldump'] = pkldump\n",
    "dview['pklload'] = pklload"
   ]
  },
  {
   "cell_type": "code",
   "execution_count": 3,
   "metadata": {},
   "outputs": [
    {
     "data": {
      "text/plain": [
       "1135"
      ]
     },
     "execution_count": 3,
     "metadata": {},
     "output_type": "execute_result"
    }
   ],
   "source": [
    "DIR = '/home/lindb/eckertlab/BURT/002_trim_and_map/loblolly_mapping/BURT/03_dedup_rg_filtered_indexed_sorted_bamfiles'\n",
    "files = fs(DIR, endswith='.cov.stats')\n",
    "len(files)"
   ]
  },
  {
   "cell_type": "code",
   "execution_count": 4,
   "metadata": {},
   "outputs": [
    {
     "data": {
      "text/plain": [
       "12256810"
      ]
     },
     "execution_count": 4,
     "metadata": {},
     "output_type": "execute_result"
    }
   ],
   "source": [
    "numsnps = nrow(get_col(files[0]))\n",
    "numsnps"
   ]
  },
  {
   "cell_type": "code",
   "execution_count": 28,
   "metadata": {},
   "outputs": [
    {
     "data": {
      "application/vnd.jupyter.widget-view+json": {
       "model_id": "f6d4c4ff7e704c6a80a07c6b3681f30e",
       "version_major": 2,
       "version_minor": 0
      },
      "text/plain": [
       "HBox(children=(FloatProgress(value=0.0, max=3.0), HTML(value='')))"
      ]
     },
     "metadata": {},
     "output_type": "display_data"
    },
    {
     "name": "stdout",
     "output_type": "stream",
     "text": [
      "\n"
     ]
    }
   ],
   "source": [
    "# test function\n",
    "file = get_cols(files[:3], 0, numsnps)"
   ]
  },
  {
   "cell_type": "code",
   "execution_count": 29,
   "metadata": {},
   "outputs": [
    {
     "data": {
      "text/plain": [
       "0           0\n",
       "1           0\n",
       "2           0\n",
       "3           0\n",
       "4           0\n",
       "           ..\n",
       "12256805    0\n",
       "12256806    0\n",
       "12256807    0\n",
       "12256808    0\n",
       "12256809    0\n",
       "Length: 12256810, dtype: int64"
      ]
     },
     "execution_count": 29,
     "metadata": {},
     "output_type": "execute_result"
    }
   ],
   "source": [
    "# look at output\n",
    "pklload(file)"
   ]
  },
  {
   "cell_type": "code",
   "execution_count": 30,
   "metadata": {},
   "outputs": [
    {
     "data": {
      "text/plain": [
       "713894"
      ]
     },
     "execution_count": 30,
     "metadata": {},
     "output_type": "execute_result"
    }
   ],
   "source": [
    "# sum output\n",
    "sum(pklload(file))"
   ]
  },
  {
   "cell_type": "code",
   "execution_count": 5,
   "metadata": {},
   "outputs": [],
   "source": [
    "def gather(files, lview, numsnps=numsnps, thresh=10):\n",
    "    \"\"\"Call get_cols() in parallel for batches of files.\"\"\"\n",
    "    from tqdm.notebook import tqdm\n",
    "    \n",
    "    jobs = []\n",
    "    to_send = []\n",
    "    for i,f in enumerate(tqdm(files)):\n",
    "        to_send.append(f)\n",
    "        if len(to_send) == thresh or (i+1) == len(files):\n",
    "            jobs.append(lview.apply_async(get_cols, *(to_send, len(jobs), numsnps)))\n",
    "            if (i+1) != len(files):\n",
    "                to_send = []\n",
    "    return jobs"
   ]
  },
  {
   "cell_type": "code",
   "execution_count": 6,
   "metadata": {},
   "outputs": [
    {
     "data": {
      "application/vnd.jupyter.widget-view+json": {
       "model_id": "a2da7f853ac84f31b49982144a962599",
       "version_major": 2,
       "version_minor": 0
      },
      "text/plain": [
       "HBox(children=(FloatProgress(value=0.0, max=1135.0), HTML(value='')))"
      ]
     },
     "metadata": {},
     "output_type": "display_data"
    },
    {
     "name": "stdout",
     "output_type": "stream",
     "text": [
      "\n",
      "\u001b[1m\n",
      "Watching 114 jobs ...\u001b[0m\n"
     ]
    },
    {
     "name": "stderr",
     "output_type": "stream",
     "text": [
      "100%|██████████| 114/114 [04:42<00:00,  2.48s/it] \n"
     ]
    }
   ],
   "source": [
    "jobs = gather(files, lview, thresh=10)\n",
    "watch_async(jobs)"
   ]
  },
  {
   "cell_type": "code",
   "execution_count": 7,
   "metadata": {},
   "outputs": [
    {
     "data": {
      "text/plain": [
       "114"
      ]
     },
     "execution_count": 7,
     "metadata": {},
     "output_type": "execute_result"
    }
   ],
   "source": [
    "pkls = [j.r for j in jobs]\n",
    "len(pkls)"
   ]
  },
  {
   "cell_type": "code",
   "execution_count": 8,
   "metadata": {},
   "outputs": [
    {
     "data": {
      "text/plain": [
       "114"
      ]
     },
     "execution_count": 8,
     "metadata": {},
     "output_type": "execute_result"
    }
   ],
   "source": [
    "# after moving all pkl files into tmptmp in command line\n",
    "tmppkls = fs(op.join(op.join(DIR, 'tmpdir'), 'tmptmp'))\n",
    "len(tmppkls)"
   ]
  },
  {
   "cell_type": "code",
   "execution_count": 9,
   "metadata": {},
   "outputs": [
    {
     "data": {
      "application/vnd.jupyter.widget-view+json": {
       "model_id": "279ada9ef1a045d5b946319a206e3d40",
       "version_major": 2,
       "version_minor": 0
      },
      "text/plain": [
       "HBox(children=(FloatProgress(value=0.0, max=114.0), HTML(value='')))"
      ]
     },
     "metadata": {},
     "output_type": "display_data"
    },
    {
     "name": "stdout",
     "output_type": "stream",
     "text": [
      "\n",
      "\u001b[1m\n",
      "Watching 12 jobs ...\u001b[0m\n"
     ]
    },
    {
     "name": "stderr",
     "output_type": "stream",
     "text": [
      "100%|██████████| 12/12 [00:12<00:00,  1.07s/it]\n"
     ]
    }
   ],
   "source": [
    "tmpjobs = gather(tmppkls, lview)\n",
    "watch_async(tmpjobs)"
   ]
  },
  {
   "cell_type": "code",
   "execution_count": 10,
   "metadata": {},
   "outputs": [
    {
     "data": {
      "application/vnd.jupyter.widget-view+json": {
       "model_id": "d9cfcd389bb0446a8908d2a4e4255983",
       "version_major": 2,
       "version_minor": 0
      },
      "text/plain": [
       "HBox(children=(FloatProgress(value=0.0, max=12.0), HTML(value='')))"
      ]
     },
     "metadata": {},
     "output_type": "display_data"
    },
    {
     "name": "stdout",
     "output_type": "stream",
     "text": [
      "\n"
     ]
    },
    {
     "data": {
      "text/plain": [
       "'/home/lindb/eckertlab/BURT/002_trim_and_map/loblolly_mapping/BURT/03_dedup_rg_filtered_indexed_sorted_bamfiles/tmpdir/000.pkl'"
      ]
     },
     "execution_count": 10,
     "metadata": {},
     "output_type": "execute_result"
    }
   ],
   "source": [
    "# after deleteing the old tmptmp files and moving tmpdir files into tmpmtp in command line\n",
    "tmppkls = fs(op.join(op.join(DIR, 'tmpdir'), 'tmptmp'))\n",
    "outfile = get_cols(tmppkls, 0, numsnps)\n",
    "outfile"
   ]
  },
  {
   "cell_type": "code",
   "execution_count": 11,
   "metadata": {},
   "outputs": [
    {
     "data": {
      "text/plain": [
       "421524004"
      ]
     },
     "execution_count": 11,
     "metadata": {},
     "output_type": "execute_result"
    }
   ],
   "source": [
    "# num loci * num samples with data for each locus\n",
    "cov_stats = pklload(outfile)\n",
    "sum(cov_stats)"
   ]
  },
  {
   "cell_type": "code",
   "execution_count": 20,
   "metadata": {},
   "outputs": [
    {
     "data": {
      "text/plain": [
       "687337"
      ]
     },
     "execution_count": 20,
     "metadata": {},
     "output_type": "execute_result"
    }
   ],
   "source": [
    "sum(cov_stats>200)"
   ]
  },
  {
   "cell_type": "code",
   "execution_count": 22,
   "metadata": {},
   "outputs": [
    {
     "data": {
      "text/plain": [
       "1389573"
      ]
     },
     "execution_count": 22,
     "metadata": {},
     "output_type": "execute_result"
    }
   ],
   "source": [
    "max(cov_stats)"
   ]
  },
  {
   "cell_type": "code",
   "execution_count": 24,
   "metadata": {},
   "outputs": [
    {
     "data": {
      "text/plain": [
       "1098731"
      ]
     },
     "execution_count": 24,
     "metadata": {},
     "output_type": "execute_result"
    }
   ],
   "source": [
    "sum((cov_stats>120) & (cov_stats<100000))"
   ]
  },
  {
   "cell_type": "code",
   "execution_count": 23,
   "metadata": {},
   "outputs": [
    {
     "data": {
      "image/png": "[encoded data removed]",
      "text/plain": [
       "<Figure size 432x288 with 1 Axes>"
      ]
     },
     "metadata": {
      "needs_background": "light"
     },
     "output_type": "display_data"
    }
   ],
   "source": [
    "plt.hist(cov_stats[(cov_stats>120) & (cov_stats<100000)], bins=100)\n",
    "plt.show()"
   ]
  },
  {
   "cell_type": "code",
   "execution_count": 28,
   "metadata": {},
   "outputs": [
    {
     "data": {
      "text/html": [
       "<div>\n",
       "<style scoped>\n",
       "    .dataframe tbody tr th:only-of-type {\n",
       "        vertical-align: middle;\n",
       "    }\n",
       "\n",
       "    .dataframe tbody tr th {\n",
       "        vertical-align: top;\n",
       "    }\n",
       "\n",
       "    .dataframe thead th {\n",
       "        text-align: right;\n",
       "    }\n",
       "</style>\n",
       "<table border=\"1\" class=\"dataframe\">\n",
       "  <thead>\n",
       "    <tr style=\"text-align: right;\">\n",
       "      <th></th>\n",
       "      <th>0</th>\n",
       "      <th>1</th>\n",
       "      <th>2</th>\n",
       "      <th>3</th>\n",
       "    </tr>\n",
       "  </thead>\n",
       "  <tbody>\n",
       "    <tr>\n",
       "      <th>0</th>\n",
       "      <td>Scaffold_1</td>\n",
       "      <td>801</td>\n",
       "      <td>985</td>\n",
       "      <td>12</td>\n",
       "    </tr>\n",
       "    <tr>\n",
       "      <th>1</th>\n",
       "      <td>Scaffold_1</td>\n",
       "      <td>2108</td>\n",
       "      <td>2202</td>\n",
       "      <td>1</td>\n",
       "    </tr>\n",
       "    <tr>\n",
       "      <th>2</th>\n",
       "      <td>Scaffold_1</td>\n",
       "      <td>6093</td>\n",
       "      <td>6216</td>\n",
       "      <td>15</td>\n",
       "    </tr>\n",
       "    <tr>\n",
       "      <th>3</th>\n",
       "      <td>Scaffold_1</td>\n",
       "      <td>9666</td>\n",
       "      <td>9712</td>\n",
       "      <td>1</td>\n",
       "    </tr>\n",
       "    <tr>\n",
       "      <th>4</th>\n",
       "      <td>Scaffold_1</td>\n",
       "      <td>9974</td>\n",
       "      <td>10019</td>\n",
       "      <td>2</td>\n",
       "    </tr>\n",
       "  </tbody>\n",
       "</table>\n",
       "</div>"
      ],
      "text/plain": [
       "            0     1      2   3\n",
       "0  Scaffold_1   801    985  12\n",
       "1  Scaffold_1  2108   2202   1\n",
       "2  Scaffold_1  6093   6216  15\n",
       "3  Scaffold_1  9666   9712   1\n",
       "4  Scaffold_1  9974  10019   2"
      ]
     },
     "execution_count": 28,
     "metadata": {},
     "output_type": "execute_result"
    }
   ],
   "source": [
    "# get a cov.stats dataframe, and replace column 3\n",
    "blank = pd.read_table(op.join(DIR, 'P-AL-4-10.cov.stats'), header=None)\n",
    "blank[3] = cov_stats\n",
    "blank.head()"
   ]
  },
  {
   "cell_type": "code",
   "execution_count": 29,
   "metadata": {},
   "outputs": [],
   "source": [
    "# write file to the output file from the original dDocent command above\n",
    "blank.to_csv(op.join(DIR, 'cov.stats'), sep='\\t', index=False, header=False)"
   ]
  },
  {
   "cell_type": "markdown",
   "metadata": {},
   "source": [
    "```bash\n",
    "# continue with dDocent code\n",
    "NUMProc=64\n",
    "DP=$(mawk '{print $4}' cov.stats | $sort -rn | perl -e '$d=.00005;@l=<>;print $l[int($d*@l)]')  # = 1128\n",
    "CC=$( mawk -v x=$DP '$4 < x' cov.stats | mawk '{len=$3-$2;lc=len*$4;tl=tl+lc} END {OFMT = \"%.0f\";print tl/\"'$NUMProc'\"}')  # = 1113999950\n",
    "\n",
    "mawk -v x=$DP '$4 < x' cov.stats |$sort -V -k1,1 -k2,2 | mawk -v cutoff=$CC 'BEGIN{i=1}\n",
    "        {\n",
    "        len=$3-$2;lc=len*$4;cov = cov + lc\n",
    "        if ( cov < cutoff) {x=\"mapped.\"i\".bed\";print $1\"\\t\"$2\"\\t\"$3 > x}\n",
    "        else {i=i+1; x=\"mapped.\"i\".bed\"; print $1\"\\t\"$2\"\\t\"$3 > x; cov=0}\n",
    "        }'\n",
    "\n",
    "# set up poplist for FreeBayes - here each stand is treated as a pop (may change second round SNP calling)\n",
    "cut -f1 -d \"_\" namelist > p\n",
    "paste namelist p > popmap\n",
    "rm p\n",
    "\n",
    "\n",
    "# MOVE TO TMUX g'night!\n",
    "\n",
    "#-------------------------------------------------------------------\n",
    "call_genos(){\n",
    "        samtools view -@$FB2 -b -1 -L mapped.$1.bed -o split.$1.bam ../03_dedup_rg_filtered_indexed_sorted_bamfiles/cat-RRG.bam\n",
    "        samtools index split.$1.bam\n",
    "        freebayes -b split.$1.bam -t mapped.$1.bed -v raw.$1.vcf -f $REF -m 5 -q 5 -E 3 --min-repeat-entropy 1 -V --populations popmap -n 10 2> fb.$1.error.log\n",
    "        if [ $? -eq 0 ]; then\n",
    "                echo \"freebayes instance $1 completed successfully.\" >> freebayes.log\n",
    "                rm split.$1.bam*\n",
    "                rm fb.$1.error.log\n",
    "        else\n",
    "                echo -e \"\\n\\nERROR: freebayes instance DID NOT COMPLETE\\n\\nSee below:\"\n",
    "                cat fb.$1.error.log\n",
    "                echo -e \"$?\" \"\\t\" \"$1\" >> freebayes.error\n",
    "                exit 1\n",
    "        fi\n",
    "\n",
    "}\n",
    "export -f call_genos\n",
    "#-------------------------------------------------------------------\n",
    "\n",
    "# reexport in tmux env\n",
    "export REF=/home/lindb/eckertlab/BURT/refs/lobololly_stitched_ref/Pita2_stitched_2/pita2_stitch_v2.fa\n",
    "export NUMProc=64\n",
    "export FB2=$(( $NUMProc / 8 ))\n",
    "\n",
    "ls mapped.*.bed | sed 's/mapped.//g' | sed 's/.bed//g' | shuf | parallel --bar --halt now,fail=5 --env call_genos --memfree 450 -j $NUMProc --no-notice \"call_genos {} 2> /dev/null\"\n",
    "```"
   ]
  },
  {
   "cell_type": "markdown",
   "metadata": {},
   "source": [
    "```bash\n",
    "# exit tmux session and continue with dDocent commands\n",
    "\n",
    "# rm individual bed files, add leading zero to raw.vcfs\n",
    "rm mapped.*.bed\n",
    "mv raw.1.vcf raw.01.vcf 2>/dev/null\n",
    "mv raw.2.vcf raw.02.vcf 2>/dev/null\n",
    "mv raw.3.vcf raw.03.vcf 2>/dev/null\n",
    "mv raw.4.vcf raw.04.vcf 2>/dev/null\n",
    "mv raw.5.vcf raw.05.vcf 2>/dev/null\n",
    "mv raw.6.vcf raw.06.vcf 2>/dev/null\n",
    "mv raw.7.vcf raw.07.vcf 2>/dev/null\n",
    "mv raw.8.vcf raw.08.vcf 2>/dev/null\n",
    "mv raw.9.vcf raw.09.vcf 2>/dev/null\n",
    "\n",
    "# combine vcfs\n",
    "vcfcombine raw.*.vcf | sed -e 's/       \\.\\:/   \\.\\/\\.\\:/g' > TotalRawSNPs.vcf\n",
    "\n",
    "# move to new dir\n",
    "mkdir ../04_vcfs\n",
    "mv *vcf ../04_vcfs/\n",
    "\n",
    "# gzip file, keep original\n",
    "cd ../04_vcfs\n",
    "gzip -c TotalRawSNPs.vcf > TotalRawSNPs.vcf.gz\n",
    "\n",
    "```"
   ]
  },
  {
   "cell_type": "code",
   "execution_count": null,
   "metadata": {},
   "outputs": [],
   "source": [
    "convert to txt file"
   ]
  },
  {
   "cell_type": "code",
   "execution_count": 1,
   "metadata": {},
   "outputs": [
    {
     "ename": "SyntaxError",
     "evalue": "invalid syntax (<ipython-input-1-15b14196a33d>, line 1)",
     "output_type": "error",
     "traceback": [
      "\u001b[0;36m  File \u001b[0;32m\"<ipython-input-1-15b14196a33d>\"\u001b[0;36m, line \u001b[0;32m1\u001b[0m\n\u001b[0;31m    gatk VariantsToTable --variant TotalRawSNPs.vcf \\\u001b[0m\n\u001b[0m                       ^\u001b[0m\n\u001b[0;31mSyntaxError\u001b[0m\u001b[0;31m:\u001b[0m invalid syntax\n"
     ]
    }
   ],
   "source": [
    "gatk VariantsToTable --variant TotalRawSNPs.vcf \\\n",
    "-F CHROM \\\n",
    "-F REF \\\n",
    "-F ALT \\\n",
    "-F AF \\\n",
    "-F QUAL \\\n",
    "-F TYPE \\\n",
    "-F FILTER \\\n",
    "-F AC \\\n",
    "-F AN \\\n",
    "-F NUMALT \\\n",
    "-F DP \\\n",
    "-f ODDS \\\n",
    "-GF GT \\\n",
    "-GF GQ \\\n",
    "-GF GL \\\n",
    "-GF DP \\\n",
    "-GF AD \\\n",
    "-GF RO \\\n",
    "-GF AO \\\n",
    "-GF QR \\\n",
    "-GF QA \\\n",
    "-O TotalRawSNPs.txt"
   ]
  },
  {
   "cell_type": "code",
   "execution_count": null,
   "metadata": {},
   "outputs": [],
   "source": [
    "/data/programs/gatk-4.1.0.0/gatk VariantsToTable \\\n",
    "--variant TotalRawSNPs.vcf.gz \\\n",
    "-F CHROM -F REF -F ALT -F AF -F QUAL -F TYPE -F FILTER -F AC -F AN -F NUMALT -F DP -F ODDS \\\n",
    "-GF GT -GF GQ -GF GL -GF DP -GF AD -GF RO -GF AO -GF QR -GF QA \\\n",
    "-O TotalRawSNPs.txt --split-multi-allelic"
   ]
  },
  {
   "cell_type": "code",
   "execution_count": 3,
   "metadata": {},
   "outputs": [
    {
     "name": "stdout",
     "output_type": "stream",
     "text": [
      "128.172.189.202\r\n"
     ]
    }
   ],
   "source": [
    "# godel\n",
    "!wget -qO- http://ipecho.net/plain | xargs echo"
   ]
  },
  {
   "cell_type": "code",
   "execution_count": null,
   "metadata": {},
   "outputs": [],
   "source": [
    "# yeaman\n",
    "print('136.159.160.144')"
   ]
  },
  {
   "cell_type": "code",
   "execution_count": null,
   "metadata": {},
   "outputs": [],
   "source": []
  },
  {
   "cell_type": "code",
   "execution_count": null,
   "metadata": {},
   "outputs": [],
   "source": []
  },
  {
   "cell_type": "code",
   "execution_count": null,
   "metadata": {},
   "outputs": [],
   "source": []
  },
  {
   "cell_type": "code",
   "execution_count": null,
   "metadata": {},
   "outputs": [],
   "source": []
  },
  {
   "cell_type": "code",
   "execution_count": null,
   "metadata": {},
   "outputs": [],
   "source": []
  },
  {
   "cell_type": "code",
   "execution_count": null,
   "metadata": {},
   "outputs": [],
   "source": []
  },
  {
   "cell_type": "code",
   "execution_count": null,
   "metadata": {},
   "outputs": [],
   "source": []
  },
  {
   "cell_type": "code",
   "execution_count": null,
   "metadata": {},
   "outputs": [],
   "source": []
  }
 ],
 "metadata": {
  "kernelspec": {
   "display_name": "Python 3",
   "language": "python",
   "name": "python3"
  },
  "language_info": {
   "codemirror_mode": {
    "name": "ipython",
    "version": 3
   },
   "file_extension": ".py",
   "mimetype": "text/x-python",
   "name": "python",
   "nbconvert_exporter": "python",
   "pygments_lexer": "ipython3",
   "version": "3.7.6"
  }
 },
 "nbformat": 4,
 "nbformat_minor": 4
}
